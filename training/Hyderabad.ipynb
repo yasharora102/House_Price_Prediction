{
 "cells": [
  {
   "cell_type": "markdown",
   "metadata": {
    "papermill": {
     "duration": 0.019425,
     "end_time": "2020-09-09T11:20:02.063002",
     "exception": false,
     "start_time": "2020-09-09T11:20:02.043577",
     "status": "completed"
    },
    "tags": []
   },
   "source": [
    "# Importing the dataset"
   ]
  },
  {
   "cell_type": "code",
   "execution_count": 1,
   "metadata": {},
   "outputs": [],
   "source": [
    "import numpy as np # linear algebra\n",
    "import pandas as pd # data processing, CSV file I/O (e.g. pd.read_csv)\n",
    "import matplotlib.pyplot as plt\n",
    "import seaborn as sns\n",
    "%matplotlib inline\n",
    "\n",
    "import warnings\n",
    "warnings.filterwarnings('ignore')"
   ]
  },
  {
   "cell_type": "code",
   "execution_count": 2,
   "metadata": {
    "_cell_guid": "79c7e3d0-c299-4dcb-8224-4455121ee9b0",
    "_uuid": "d629ff2d2480ee46fbb7e2d37f6b5fab8052498a",
    "execution": {
     "iopub.execute_input": "2020-09-09T11:20:02.120213Z",
     "iopub.status.busy": "2020-09-09T11:20:02.119453Z",
     "iopub.status.idle": "2020-09-09T11:20:02.360160Z",
     "shell.execute_reply": "2020-09-09T11:20:02.359360Z"
    },
    "papermill": {
     "duration": 0.277489,
     "end_time": "2020-09-09T11:20:02.360299",
     "exception": false,
     "start_time": "2020-09-09T11:20:02.082810",
     "status": "completed"
    },
    "tags": []
   },
   "outputs": [],
   "source": [
    "hyderabad_dataset = pd.read_csv('Hyderabad.csv')"
   ]
  },
  {
   "cell_type": "markdown",
   "metadata": {
    "papermill": {
     "duration": 0.021177,
     "end_time": "2020-09-09T11:20:02.401060",
     "exception": false,
     "start_time": "2020-09-09T11:20:02.379883",
     "status": "completed"
    },
    "tags": []
   },
   "source": [
    "# No of records in each city dataset "
   ]
  },
  {
   "cell_type": "code",
   "execution_count": 3,
   "metadata": {
    "execution": {
     "iopub.execute_input": "2020-09-09T11:20:02.448674Z",
     "iopub.status.busy": "2020-09-09T11:20:02.447763Z",
     "iopub.status.idle": "2020-09-09T11:20:02.451678Z",
     "shell.execute_reply": "2020-09-09T11:20:02.452425Z"
    },
    "papermill": {
     "duration": 0.031958,
     "end_time": "2020-09-09T11:20:02.452599",
     "exception": false,
     "start_time": "2020-09-09T11:20:02.420641",
     "status": "completed"
    },
    "tags": []
   },
   "outputs": [
    {
     "data": {
      "text/plain": [
       "(2518, 40)"
      ]
     },
     "execution_count": 3,
     "metadata": {},
     "output_type": "execute_result"
    }
   ],
   "source": [
    "# hyderabad_dataset.shape, hyderabad_dataset.shape, hyderabad_dataset.shape, hyderabad_dataset.shape\n",
    "hyderabad_dataset.shape"
   ]
  },
  {
   "cell_type": "markdown",
   "metadata": {
    "papermill": {
     "duration": 0.019735,
     "end_time": "2020-09-09T11:20:02.492165",
     "exception": false,
     "start_time": "2020-09-09T11:20:02.472430",
     "status": "completed"
    },
    "tags": []
   },
   "source": [
    "# Displaying top rows of each city dataset"
   ]
  },
  {
   "cell_type": "code",
   "execution_count": 4,
   "metadata": {
    "execution": {
     "iopub.execute_input": "2020-09-09T11:20:02.554716Z",
     "iopub.status.busy": "2020-09-09T11:20:02.553666Z",
     "iopub.status.idle": "2020-09-09T11:20:02.573434Z",
     "shell.execute_reply": "2020-09-09T11:20:02.574031Z"
    },
    "papermill": {
     "duration": 0.061852,
     "end_time": "2020-09-09T11:20:02.574193",
     "exception": false,
     "start_time": "2020-09-09T11:20:02.512341",
     "status": "completed"
    },
    "tags": []
   },
   "outputs": [
    {
     "data": {
      "text/html": [
       "<div>\n",
       "<style scoped>\n",
       "    .dataframe tbody tr th:only-of-type {\n",
       "        vertical-align: middle;\n",
       "    }\n",
       "\n",
       "    .dataframe tbody tr th {\n",
       "        vertical-align: top;\n",
       "    }\n",
       "\n",
       "    .dataframe thead th {\n",
       "        text-align: right;\n",
       "    }\n",
       "</style>\n",
       "<table border=\"1\" class=\"dataframe\">\n",
       "  <thead>\n",
       "    <tr style=\"text-align: right;\">\n",
       "      <th></th>\n",
       "      <th>Price</th>\n",
       "      <th>Area</th>\n",
       "      <th>Location</th>\n",
       "      <th>No. of Bedrooms</th>\n",
       "      <th>Resale</th>\n",
       "      <th>MaintenanceStaff</th>\n",
       "      <th>Gymnasium</th>\n",
       "      <th>SwimmingPool</th>\n",
       "      <th>LandscapedGardens</th>\n",
       "      <th>JoggingTrack</th>\n",
       "      <th>RainWaterHarvesting</th>\n",
       "      <th>IndoorGames</th>\n",
       "      <th>ShoppingMall</th>\n",
       "      <th>Intercom</th>\n",
       "      <th>SportsFacility</th>\n",
       "      <th>ATM</th>\n",
       "      <th>ClubHouse</th>\n",
       "      <th>School</th>\n",
       "      <th>24X7Security</th>\n",
       "      <th>PowerBackup</th>\n",
       "      <th>CarParking</th>\n",
       "      <th>StaffQuarter</th>\n",
       "      <th>Cafeteria</th>\n",
       "      <th>MultipurposeRoom</th>\n",
       "      <th>Hospital</th>\n",
       "      <th>WashingMachine</th>\n",
       "      <th>Gasconnection</th>\n",
       "      <th>AC</th>\n",
       "      <th>Wifi</th>\n",
       "      <th>Children'splayarea</th>\n",
       "      <th>LiftAvailable</th>\n",
       "      <th>BED</th>\n",
       "      <th>VaastuCompliant</th>\n",
       "      <th>Microwave</th>\n",
       "      <th>GolfCourse</th>\n",
       "      <th>TV</th>\n",
       "      <th>DiningTable</th>\n",
       "      <th>Sofa</th>\n",
       "      <th>Wardrobe</th>\n",
       "      <th>Refrigerator</th>\n",
       "    </tr>\n",
       "  </thead>\n",
       "  <tbody>\n",
       "    <tr>\n",
       "      <th>0</th>\n",
       "      <td>6968000</td>\n",
       "      <td>1340</td>\n",
       "      <td>Nizampet</td>\n",
       "      <td>2</td>\n",
       "      <td>0</td>\n",
       "      <td>0</td>\n",
       "      <td>1</td>\n",
       "      <td>1</td>\n",
       "      <td>1</td>\n",
       "      <td>1</td>\n",
       "      <td>1</td>\n",
       "      <td>1</td>\n",
       "      <td>0</td>\n",
       "      <td>1</td>\n",
       "      <td>0</td>\n",
       "      <td>0</td>\n",
       "      <td>1</td>\n",
       "      <td>0</td>\n",
       "      <td>1</td>\n",
       "      <td>1</td>\n",
       "      <td>1</td>\n",
       "      <td>0</td>\n",
       "      <td>0</td>\n",
       "      <td>1</td>\n",
       "      <td>0</td>\n",
       "      <td>0</td>\n",
       "      <td>0</td>\n",
       "      <td>0</td>\n",
       "      <td>0</td>\n",
       "      <td>1</td>\n",
       "      <td>1</td>\n",
       "      <td>0</td>\n",
       "      <td>1</td>\n",
       "      <td>0</td>\n",
       "      <td>0</td>\n",
       "      <td>0</td>\n",
       "      <td>0</td>\n",
       "      <td>0</td>\n",
       "      <td>0</td>\n",
       "      <td>0</td>\n",
       "    </tr>\n",
       "    <tr>\n",
       "      <th>1</th>\n",
       "      <td>29000000</td>\n",
       "      <td>3498</td>\n",
       "      <td>Hitech City</td>\n",
       "      <td>4</td>\n",
       "      <td>0</td>\n",
       "      <td>0</td>\n",
       "      <td>1</td>\n",
       "      <td>1</td>\n",
       "      <td>1</td>\n",
       "      <td>1</td>\n",
       "      <td>1</td>\n",
       "      <td>1</td>\n",
       "      <td>0</td>\n",
       "      <td>1</td>\n",
       "      <td>0</td>\n",
       "      <td>1</td>\n",
       "      <td>1</td>\n",
       "      <td>0</td>\n",
       "      <td>1</td>\n",
       "      <td>1</td>\n",
       "      <td>1</td>\n",
       "      <td>1</td>\n",
       "      <td>0</td>\n",
       "      <td>1</td>\n",
       "      <td>0</td>\n",
       "      <td>0</td>\n",
       "      <td>0</td>\n",
       "      <td>0</td>\n",
       "      <td>0</td>\n",
       "      <td>1</td>\n",
       "      <td>1</td>\n",
       "      <td>0</td>\n",
       "      <td>1</td>\n",
       "      <td>0</td>\n",
       "      <td>0</td>\n",
       "      <td>0</td>\n",
       "      <td>0</td>\n",
       "      <td>0</td>\n",
       "      <td>0</td>\n",
       "      <td>0</td>\n",
       "    </tr>\n",
       "    <tr>\n",
       "      <th>2</th>\n",
       "      <td>6590000</td>\n",
       "      <td>1318</td>\n",
       "      <td>Manikonda</td>\n",
       "      <td>2</td>\n",
       "      <td>0</td>\n",
       "      <td>0</td>\n",
       "      <td>1</td>\n",
       "      <td>0</td>\n",
       "      <td>0</td>\n",
       "      <td>0</td>\n",
       "      <td>0</td>\n",
       "      <td>1</td>\n",
       "      <td>0</td>\n",
       "      <td>0</td>\n",
       "      <td>0</td>\n",
       "      <td>0</td>\n",
       "      <td>0</td>\n",
       "      <td>0</td>\n",
       "      <td>0</td>\n",
       "      <td>0</td>\n",
       "      <td>0</td>\n",
       "      <td>0</td>\n",
       "      <td>0</td>\n",
       "      <td>1</td>\n",
       "      <td>0</td>\n",
       "      <td>0</td>\n",
       "      <td>0</td>\n",
       "      <td>0</td>\n",
       "      <td>0</td>\n",
       "      <td>1</td>\n",
       "      <td>0</td>\n",
       "      <td>0</td>\n",
       "      <td>0</td>\n",
       "      <td>0</td>\n",
       "      <td>0</td>\n",
       "      <td>0</td>\n",
       "      <td>0</td>\n",
       "      <td>0</td>\n",
       "      <td>0</td>\n",
       "      <td>0</td>\n",
       "    </tr>\n",
       "    <tr>\n",
       "      <th>3</th>\n",
       "      <td>5739000</td>\n",
       "      <td>1295</td>\n",
       "      <td>Alwal</td>\n",
       "      <td>3</td>\n",
       "      <td>1</td>\n",
       "      <td>0</td>\n",
       "      <td>0</td>\n",
       "      <td>0</td>\n",
       "      <td>0</td>\n",
       "      <td>0</td>\n",
       "      <td>0</td>\n",
       "      <td>0</td>\n",
       "      <td>0</td>\n",
       "      <td>0</td>\n",
       "      <td>0</td>\n",
       "      <td>0</td>\n",
       "      <td>0</td>\n",
       "      <td>0</td>\n",
       "      <td>0</td>\n",
       "      <td>1</td>\n",
       "      <td>0</td>\n",
       "      <td>0</td>\n",
       "      <td>0</td>\n",
       "      <td>0</td>\n",
       "      <td>0</td>\n",
       "      <td>0</td>\n",
       "      <td>0</td>\n",
       "      <td>0</td>\n",
       "      <td>0</td>\n",
       "      <td>0</td>\n",
       "      <td>1</td>\n",
       "      <td>0</td>\n",
       "      <td>0</td>\n",
       "      <td>0</td>\n",
       "      <td>0</td>\n",
       "      <td>0</td>\n",
       "      <td>0</td>\n",
       "      <td>0</td>\n",
       "      <td>0</td>\n",
       "      <td>0</td>\n",
       "    </tr>\n",
       "    <tr>\n",
       "      <th>4</th>\n",
       "      <td>5679000</td>\n",
       "      <td>1145</td>\n",
       "      <td>Kukatpally</td>\n",
       "      <td>2</td>\n",
       "      <td>0</td>\n",
       "      <td>0</td>\n",
       "      <td>0</td>\n",
       "      <td>0</td>\n",
       "      <td>1</td>\n",
       "      <td>0</td>\n",
       "      <td>0</td>\n",
       "      <td>0</td>\n",
       "      <td>0</td>\n",
       "      <td>0</td>\n",
       "      <td>0</td>\n",
       "      <td>0</td>\n",
       "      <td>0</td>\n",
       "      <td>0</td>\n",
       "      <td>0</td>\n",
       "      <td>1</td>\n",
       "      <td>1</td>\n",
       "      <td>0</td>\n",
       "      <td>0</td>\n",
       "      <td>0</td>\n",
       "      <td>0</td>\n",
       "      <td>0</td>\n",
       "      <td>0</td>\n",
       "      <td>0</td>\n",
       "      <td>0</td>\n",
       "      <td>1</td>\n",
       "      <td>1</td>\n",
       "      <td>0</td>\n",
       "      <td>0</td>\n",
       "      <td>0</td>\n",
       "      <td>0</td>\n",
       "      <td>0</td>\n",
       "      <td>0</td>\n",
       "      <td>0</td>\n",
       "      <td>0</td>\n",
       "      <td>0</td>\n",
       "    </tr>\n",
       "  </tbody>\n",
       "</table>\n",
       "</div>"
      ],
      "text/plain": [
       "      Price  Area     Location  No. of Bedrooms  Resale  MaintenanceStaff  \\\n",
       "0   6968000  1340     Nizampet                2       0                 0   \n",
       "1  29000000  3498  Hitech City                4       0                 0   \n",
       "2   6590000  1318    Manikonda                2       0                 0   \n",
       "3   5739000  1295        Alwal                3       1                 0   \n",
       "4   5679000  1145   Kukatpally                2       0                 0   \n",
       "\n",
       "   Gymnasium  SwimmingPool  LandscapedGardens  JoggingTrack  \\\n",
       "0          1             1                  1             1   \n",
       "1          1             1                  1             1   \n",
       "2          1             0                  0             0   \n",
       "3          0             0                  0             0   \n",
       "4          0             0                  1             0   \n",
       "\n",
       "   RainWaterHarvesting  IndoorGames  ShoppingMall  Intercom  SportsFacility  \\\n",
       "0                    1            1             0         1               0   \n",
       "1                    1            1             0         1               0   \n",
       "2                    0            1             0         0               0   \n",
       "3                    0            0             0         0               0   \n",
       "4                    0            0             0         0               0   \n",
       "\n",
       "   ATM  ClubHouse  School  24X7Security  PowerBackup  CarParking  \\\n",
       "0    0          1       0             1            1           1   \n",
       "1    1          1       0             1            1           1   \n",
       "2    0          0       0             0            0           0   \n",
       "3    0          0       0             0            1           0   \n",
       "4    0          0       0             0            1           1   \n",
       "\n",
       "   StaffQuarter  Cafeteria  MultipurposeRoom  Hospital  WashingMachine  \\\n",
       "0             0          0                 1         0               0   \n",
       "1             1          0                 1         0               0   \n",
       "2             0          0                 1         0               0   \n",
       "3             0          0                 0         0               0   \n",
       "4             0          0                 0         0               0   \n",
       "\n",
       "   Gasconnection  AC  Wifi  Children'splayarea  LiftAvailable  BED  \\\n",
       "0              0   0     0                   1              1    0   \n",
       "1              0   0     0                   1              1    0   \n",
       "2              0   0     0                   1              0    0   \n",
       "3              0   0     0                   0              1    0   \n",
       "4              0   0     0                   1              1    0   \n",
       "\n",
       "   VaastuCompliant  Microwave  GolfCourse  TV  DiningTable  Sofa  Wardrobe  \\\n",
       "0                1          0           0   0            0     0         0   \n",
       "1                1          0           0   0            0     0         0   \n",
       "2                0          0           0   0            0     0         0   \n",
       "3                0          0           0   0            0     0         0   \n",
       "4                0          0           0   0            0     0         0   \n",
       "\n",
       "   Refrigerator  \n",
       "0             0  \n",
       "1             0  \n",
       "2             0  \n",
       "3             0  \n",
       "4             0  "
      ]
     },
     "execution_count": 4,
     "metadata": {},
     "output_type": "execute_result"
    }
   ],
   "source": [
    "pd.pandas.set_option('display.max_columns', None)\n",
    "hyderabad_dataset.head()"
   ]
  },
  {
   "cell_type": "markdown",
   "metadata": {
    "papermill": {
     "duration": 0.021697,
     "end_time": "2020-09-09T11:20:02.849934",
     "exception": false,
     "start_time": "2020-09-09T11:20:02.828237",
     "status": "completed"
    },
    "tags": []
   },
   "source": [
    "# Exploratory Data Analysis"
   ]
  },
  {
   "cell_type": "markdown",
   "metadata": {
    "papermill": {
     "duration": 0.021786,
     "end_time": "2020-09-09T11:20:02.893792",
     "exception": false,
     "start_time": "2020-09-09T11:20:02.872006",
     "status": "completed"
    },
    "tags": []
   },
   "source": [
    "### Checking for null values, count of rows and data type of the columns "
   ]
  },
  {
   "cell_type": "code",
   "execution_count": 5,
   "metadata": {
    "execution": {
     "iopub.execute_input": "2020-09-09T11:20:02.945404Z",
     "iopub.status.busy": "2020-09-09T11:20:02.944542Z",
     "iopub.status.idle": "2020-09-09T11:20:02.967836Z",
     "shell.execute_reply": "2020-09-09T11:20:02.968450Z"
    },
    "papermill": {
     "duration": 0.052787,
     "end_time": "2020-09-09T11:20:02.968629",
     "exception": false,
     "start_time": "2020-09-09T11:20:02.915842",
     "status": "completed"
    },
    "tags": []
   },
   "outputs": [
    {
     "name": "stdout",
     "output_type": "stream",
     "text": [
      "<class 'pandas.core.frame.DataFrame'>\n",
      "RangeIndex: 2518 entries, 0 to 2517\n",
      "Data columns (total 40 columns):\n",
      " #   Column               Non-Null Count  Dtype \n",
      "---  ------               --------------  ----- \n",
      " 0   Price                2518 non-null   int64 \n",
      " 1   Area                 2518 non-null   int64 \n",
      " 2   Location             2518 non-null   object\n",
      " 3   No. of Bedrooms      2518 non-null   int64 \n",
      " 4   Resale               2518 non-null   int64 \n",
      " 5   MaintenanceStaff     2518 non-null   int64 \n",
      " 6   Gymnasium            2518 non-null   int64 \n",
      " 7   SwimmingPool         2518 non-null   int64 \n",
      " 8   LandscapedGardens    2518 non-null   int64 \n",
      " 9   JoggingTrack         2518 non-null   int64 \n",
      " 10  RainWaterHarvesting  2518 non-null   int64 \n",
      " 11  IndoorGames          2518 non-null   int64 \n",
      " 12  ShoppingMall         2518 non-null   int64 \n",
      " 13  Intercom             2518 non-null   int64 \n",
      " 14  SportsFacility       2518 non-null   int64 \n",
      " 15  ATM                  2518 non-null   int64 \n",
      " 16  ClubHouse            2518 non-null   int64 \n",
      " 17  School               2518 non-null   int64 \n",
      " 18  24X7Security         2518 non-null   int64 \n",
      " 19  PowerBackup          2518 non-null   int64 \n",
      " 20  CarParking           2518 non-null   int64 \n",
      " 21  StaffQuarter         2518 non-null   int64 \n",
      " 22  Cafeteria            2518 non-null   int64 \n",
      " 23  MultipurposeRoom     2518 non-null   int64 \n",
      " 24  Hospital             2518 non-null   int64 \n",
      " 25  WashingMachine       2518 non-null   int64 \n",
      " 26  Gasconnection        2518 non-null   int64 \n",
      " 27  AC                   2518 non-null   int64 \n",
      " 28  Wifi                 2518 non-null   int64 \n",
      " 29  Children'splayarea   2518 non-null   int64 \n",
      " 30  LiftAvailable        2518 non-null   int64 \n",
      " 31  BED                  2518 non-null   int64 \n",
      " 32  VaastuCompliant      2518 non-null   int64 \n",
      " 33  Microwave            2518 non-null   int64 \n",
      " 34  GolfCourse           2518 non-null   int64 \n",
      " 35  TV                   2518 non-null   int64 \n",
      " 36  DiningTable          2518 non-null   int64 \n",
      " 37  Sofa                 2518 non-null   int64 \n",
      " 38  Wardrobe             2518 non-null   int64 \n",
      " 39  Refrigerator         2518 non-null   int64 \n",
      "dtypes: int64(39), object(1)\n",
      "memory usage: 787.0+ KB\n"
     ]
    }
   ],
   "source": [
    "hyderabad_dataset.info()"
   ]
  },
  {
   "cell_type": "markdown",
   "metadata": {
    "papermill": {
     "duration": 0.022396,
     "end_time": "2020-09-09T11:20:03.262927",
     "exception": false,
     "start_time": "2020-09-09T11:20:03.240531",
     "status": "completed"
    },
    "tags": []
   },
   "source": [
    "### Checking for duplicate rows "
   ]
  },
  {
   "cell_type": "code",
   "execution_count": 6,
   "metadata": {
    "execution": {
     "iopub.execute_input": "2020-09-09T11:20:03.314460Z",
     "iopub.status.busy": "2020-09-09T11:20:03.313672Z",
     "iopub.status.idle": "2020-09-09T11:20:03.329716Z",
     "shell.execute_reply": "2020-09-09T11:20:03.330256Z"
    },
    "papermill": {
     "duration": 0.044741,
     "end_time": "2020-09-09T11:20:03.330453",
     "exception": false,
     "start_time": "2020-09-09T11:20:03.285712",
     "status": "completed"
    },
    "tags": []
   },
   "outputs": [
    {
     "data": {
      "text/plain": [
       "520"
      ]
     },
     "execution_count": 6,
     "metadata": {},
     "output_type": "execute_result"
    }
   ],
   "source": [
    "hyderabad_dataset.duplicated().sum()"
   ]
  },
  {
   "cell_type": "markdown",
   "metadata": {
    "papermill": {
     "duration": 0.023311,
     "end_time": "2020-09-09T11:20:03.625198",
     "exception": false,
     "start_time": "2020-09-09T11:20:03.601887",
     "status": "completed"
    },
    "tags": []
   },
   "source": [
    "### Describing the datasets to observe the outliers"
   ]
  },
  {
   "cell_type": "code",
   "execution_count": 7,
   "metadata": {
    "execution": {
     "iopub.execute_input": "2020-09-09T11:20:03.685238Z",
     "iopub.status.busy": "2020-09-09T11:20:03.684147Z",
     "iopub.status.idle": "2020-09-09T11:20:03.818438Z",
     "shell.execute_reply": "2020-09-09T11:20:03.819014Z"
    },
    "papermill": {
     "duration": 0.170461,
     "end_time": "2020-09-09T11:20:03.819181",
     "exception": false,
     "start_time": "2020-09-09T11:20:03.648720",
     "status": "completed"
    },
    "tags": []
   },
   "outputs": [
    {
     "data": {
      "text/html": [
       "<div>\n",
       "<style scoped>\n",
       "    .dataframe tbody tr th:only-of-type {\n",
       "        vertical-align: middle;\n",
       "    }\n",
       "\n",
       "    .dataframe tbody tr th {\n",
       "        vertical-align: top;\n",
       "    }\n",
       "\n",
       "    .dataframe thead th {\n",
       "        text-align: right;\n",
       "    }\n",
       "</style>\n",
       "<table border=\"1\" class=\"dataframe\">\n",
       "  <thead>\n",
       "    <tr style=\"text-align: right;\">\n",
       "      <th></th>\n",
       "      <th>Price</th>\n",
       "      <th>Area</th>\n",
       "      <th>No. of Bedrooms</th>\n",
       "      <th>Resale</th>\n",
       "      <th>MaintenanceStaff</th>\n",
       "      <th>Gymnasium</th>\n",
       "      <th>SwimmingPool</th>\n",
       "      <th>LandscapedGardens</th>\n",
       "      <th>JoggingTrack</th>\n",
       "      <th>RainWaterHarvesting</th>\n",
       "      <th>IndoorGames</th>\n",
       "      <th>ShoppingMall</th>\n",
       "      <th>Intercom</th>\n",
       "      <th>SportsFacility</th>\n",
       "      <th>ATM</th>\n",
       "      <th>ClubHouse</th>\n",
       "      <th>School</th>\n",
       "      <th>24X7Security</th>\n",
       "      <th>PowerBackup</th>\n",
       "      <th>CarParking</th>\n",
       "      <th>StaffQuarter</th>\n",
       "      <th>Cafeteria</th>\n",
       "      <th>MultipurposeRoom</th>\n",
       "      <th>Hospital</th>\n",
       "      <th>WashingMachine</th>\n",
       "      <th>Gasconnection</th>\n",
       "      <th>AC</th>\n",
       "      <th>Wifi</th>\n",
       "      <th>Children'splayarea</th>\n",
       "      <th>LiftAvailable</th>\n",
       "      <th>BED</th>\n",
       "      <th>VaastuCompliant</th>\n",
       "      <th>Microwave</th>\n",
       "      <th>GolfCourse</th>\n",
       "      <th>TV</th>\n",
       "      <th>DiningTable</th>\n",
       "      <th>Sofa</th>\n",
       "      <th>Wardrobe</th>\n",
       "      <th>Refrigerator</th>\n",
       "    </tr>\n",
       "  </thead>\n",
       "  <tbody>\n",
       "    <tr>\n",
       "      <th>count</th>\n",
       "      <td>2.518000e+03</td>\n",
       "      <td>2518.000000</td>\n",
       "      <td>2518.000000</td>\n",
       "      <td>2518.000000</td>\n",
       "      <td>2518.000000</td>\n",
       "      <td>2518.000000</td>\n",
       "      <td>2518.000000</td>\n",
       "      <td>2518.000000</td>\n",
       "      <td>2518.000000</td>\n",
       "      <td>2518.000000</td>\n",
       "      <td>2518.000000</td>\n",
       "      <td>2518.000000</td>\n",
       "      <td>2518.000000</td>\n",
       "      <td>2518.000000</td>\n",
       "      <td>2518.000000</td>\n",
       "      <td>2518.000000</td>\n",
       "      <td>2518.000000</td>\n",
       "      <td>2518.000000</td>\n",
       "      <td>2518.000000</td>\n",
       "      <td>2518.000000</td>\n",
       "      <td>2518.000000</td>\n",
       "      <td>2518.000000</td>\n",
       "      <td>2518.000000</td>\n",
       "      <td>2518.000000</td>\n",
       "      <td>2518.000000</td>\n",
       "      <td>2518.000000</td>\n",
       "      <td>2518.000000</td>\n",
       "      <td>2518.000000</td>\n",
       "      <td>2518.000000</td>\n",
       "      <td>2518.000000</td>\n",
       "      <td>2518.000000</td>\n",
       "      <td>2518.000000</td>\n",
       "      <td>2518.000000</td>\n",
       "      <td>2518.000000</td>\n",
       "      <td>2518.000000</td>\n",
       "      <td>2518.000000</td>\n",
       "      <td>2518.000000</td>\n",
       "      <td>2518.000000</td>\n",
       "      <td>2518.000000</td>\n",
       "    </tr>\n",
       "    <tr>\n",
       "      <th>mean</th>\n",
       "      <td>9.818380e+06</td>\n",
       "      <td>1644.571088</td>\n",
       "      <td>2.623511</td>\n",
       "      <td>0.227562</td>\n",
       "      <td>0.412629</td>\n",
       "      <td>0.739873</td>\n",
       "      <td>0.709690</td>\n",
       "      <td>0.619142</td>\n",
       "      <td>0.559968</td>\n",
       "      <td>0.606434</td>\n",
       "      <td>0.580620</td>\n",
       "      <td>0.366164</td>\n",
       "      <td>0.679110</td>\n",
       "      <td>0.553614</td>\n",
       "      <td>0.421763</td>\n",
       "      <td>0.711676</td>\n",
       "      <td>0.340747</td>\n",
       "      <td>0.706513</td>\n",
       "      <td>0.935663</td>\n",
       "      <td>0.736299</td>\n",
       "      <td>0.395552</td>\n",
       "      <td>0.413423</td>\n",
       "      <td>0.532168</td>\n",
       "      <td>0.339952</td>\n",
       "      <td>0.320095</td>\n",
       "      <td>0.386815</td>\n",
       "      <td>0.338761</td>\n",
       "      <td>0.326052</td>\n",
       "      <td>0.754170</td>\n",
       "      <td>0.975774</td>\n",
       "      <td>0.360207</td>\n",
       "      <td>0.607228</td>\n",
       "      <td>0.342732</td>\n",
       "      <td>0.330024</td>\n",
       "      <td>0.321287</td>\n",
       "      <td>0.334392</td>\n",
       "      <td>0.342335</td>\n",
       "      <td>0.341144</td>\n",
       "      <td>0.324861</td>\n",
       "    </tr>\n",
       "    <tr>\n",
       "      <th>std</th>\n",
       "      <td>8.777113e+06</td>\n",
       "      <td>746.256956</td>\n",
       "      <td>0.687330</td>\n",
       "      <td>0.419341</td>\n",
       "      <td>1.626445</td>\n",
       "      <td>1.611024</td>\n",
       "      <td>1.615231</td>\n",
       "      <td>1.624426</td>\n",
       "      <td>1.627686</td>\n",
       "      <td>1.625308</td>\n",
       "      <td>1.626794</td>\n",
       "      <td>1.623281</td>\n",
       "      <td>1.618909</td>\n",
       "      <td>1.627908</td>\n",
       "      <td>1.626910</td>\n",
       "      <td>1.614972</td>\n",
       "      <td>1.620984</td>\n",
       "      <td>1.615641</td>\n",
       "      <td>1.569421</td>\n",
       "      <td>1.611552</td>\n",
       "      <td>1.625437</td>\n",
       "      <td>1.626487</td>\n",
       "      <td>1.628473</td>\n",
       "      <td>1.620905</td>\n",
       "      <td>1.618821</td>\n",
       "      <td>1.624852</td>\n",
       "      <td>1.620787</td>\n",
       "      <td>1.619472</td>\n",
       "      <td>1.608829</td>\n",
       "      <td>1.557725</td>\n",
       "      <td>1.622778</td>\n",
       "      <td>1.625256</td>\n",
       "      <td>1.621178</td>\n",
       "      <td>1.619894</td>\n",
       "      <td>1.618953</td>\n",
       "      <td>1.620347</td>\n",
       "      <td>1.621139</td>\n",
       "      <td>1.621023</td>\n",
       "      <td>1.619344</td>\n",
       "    </tr>\n",
       "    <tr>\n",
       "      <th>min</th>\n",
       "      <td>2.000000e+06</td>\n",
       "      <td>500.000000</td>\n",
       "      <td>1.000000</td>\n",
       "      <td>0.000000</td>\n",
       "      <td>0.000000</td>\n",
       "      <td>0.000000</td>\n",
       "      <td>0.000000</td>\n",
       "      <td>0.000000</td>\n",
       "      <td>0.000000</td>\n",
       "      <td>0.000000</td>\n",
       "      <td>0.000000</td>\n",
       "      <td>0.000000</td>\n",
       "      <td>0.000000</td>\n",
       "      <td>0.000000</td>\n",
       "      <td>0.000000</td>\n",
       "      <td>0.000000</td>\n",
       "      <td>0.000000</td>\n",
       "      <td>0.000000</td>\n",
       "      <td>0.000000</td>\n",
       "      <td>0.000000</td>\n",
       "      <td>0.000000</td>\n",
       "      <td>0.000000</td>\n",
       "      <td>0.000000</td>\n",
       "      <td>0.000000</td>\n",
       "      <td>0.000000</td>\n",
       "      <td>0.000000</td>\n",
       "      <td>0.000000</td>\n",
       "      <td>0.000000</td>\n",
       "      <td>0.000000</td>\n",
       "      <td>0.000000</td>\n",
       "      <td>0.000000</td>\n",
       "      <td>0.000000</td>\n",
       "      <td>0.000000</td>\n",
       "      <td>0.000000</td>\n",
       "      <td>0.000000</td>\n",
       "      <td>0.000000</td>\n",
       "      <td>0.000000</td>\n",
       "      <td>0.000000</td>\n",
       "      <td>0.000000</td>\n",
       "    </tr>\n",
       "    <tr>\n",
       "      <th>25%</th>\n",
       "      <td>4.760000e+06</td>\n",
       "      <td>1160.000000</td>\n",
       "      <td>2.000000</td>\n",
       "      <td>0.000000</td>\n",
       "      <td>0.000000</td>\n",
       "      <td>0.000000</td>\n",
       "      <td>0.000000</td>\n",
       "      <td>0.000000</td>\n",
       "      <td>0.000000</td>\n",
       "      <td>0.000000</td>\n",
       "      <td>0.000000</td>\n",
       "      <td>0.000000</td>\n",
       "      <td>0.000000</td>\n",
       "      <td>0.000000</td>\n",
       "      <td>0.000000</td>\n",
       "      <td>0.000000</td>\n",
       "      <td>0.000000</td>\n",
       "      <td>0.000000</td>\n",
       "      <td>0.000000</td>\n",
       "      <td>0.000000</td>\n",
       "      <td>0.000000</td>\n",
       "      <td>0.000000</td>\n",
       "      <td>0.000000</td>\n",
       "      <td>0.000000</td>\n",
       "      <td>0.000000</td>\n",
       "      <td>0.000000</td>\n",
       "      <td>0.000000</td>\n",
       "      <td>0.000000</td>\n",
       "      <td>0.000000</td>\n",
       "      <td>0.000000</td>\n",
       "      <td>0.000000</td>\n",
       "      <td>0.000000</td>\n",
       "      <td>0.000000</td>\n",
       "      <td>0.000000</td>\n",
       "      <td>0.000000</td>\n",
       "      <td>0.000000</td>\n",
       "      <td>0.000000</td>\n",
       "      <td>0.000000</td>\n",
       "      <td>0.000000</td>\n",
       "    </tr>\n",
       "    <tr>\n",
       "      <th>50%</th>\n",
       "      <td>7.754000e+06</td>\n",
       "      <td>1500.000000</td>\n",
       "      <td>3.000000</td>\n",
       "      <td>0.000000</td>\n",
       "      <td>0.000000</td>\n",
       "      <td>0.000000</td>\n",
       "      <td>0.000000</td>\n",
       "      <td>0.000000</td>\n",
       "      <td>0.000000</td>\n",
       "      <td>0.000000</td>\n",
       "      <td>0.000000</td>\n",
       "      <td>0.000000</td>\n",
       "      <td>0.000000</td>\n",
       "      <td>0.000000</td>\n",
       "      <td>0.000000</td>\n",
       "      <td>0.000000</td>\n",
       "      <td>0.000000</td>\n",
       "      <td>0.000000</td>\n",
       "      <td>1.000000</td>\n",
       "      <td>0.000000</td>\n",
       "      <td>0.000000</td>\n",
       "      <td>0.000000</td>\n",
       "      <td>0.000000</td>\n",
       "      <td>0.000000</td>\n",
       "      <td>0.000000</td>\n",
       "      <td>0.000000</td>\n",
       "      <td>0.000000</td>\n",
       "      <td>0.000000</td>\n",
       "      <td>0.000000</td>\n",
       "      <td>1.000000</td>\n",
       "      <td>0.000000</td>\n",
       "      <td>0.000000</td>\n",
       "      <td>0.000000</td>\n",
       "      <td>0.000000</td>\n",
       "      <td>0.000000</td>\n",
       "      <td>0.000000</td>\n",
       "      <td>0.000000</td>\n",
       "      <td>0.000000</td>\n",
       "      <td>0.000000</td>\n",
       "    </tr>\n",
       "    <tr>\n",
       "      <th>75%</th>\n",
       "      <td>1.090000e+07</td>\n",
       "      <td>1829.000000</td>\n",
       "      <td>3.000000</td>\n",
       "      <td>0.000000</td>\n",
       "      <td>0.000000</td>\n",
       "      <td>1.000000</td>\n",
       "      <td>1.000000</td>\n",
       "      <td>1.000000</td>\n",
       "      <td>1.000000</td>\n",
       "      <td>1.000000</td>\n",
       "      <td>1.000000</td>\n",
       "      <td>0.000000</td>\n",
       "      <td>1.000000</td>\n",
       "      <td>1.000000</td>\n",
       "      <td>0.000000</td>\n",
       "      <td>1.000000</td>\n",
       "      <td>0.000000</td>\n",
       "      <td>1.000000</td>\n",
       "      <td>1.000000</td>\n",
       "      <td>1.000000</td>\n",
       "      <td>0.000000</td>\n",
       "      <td>0.000000</td>\n",
       "      <td>1.000000</td>\n",
       "      <td>0.000000</td>\n",
       "      <td>0.000000</td>\n",
       "      <td>0.000000</td>\n",
       "      <td>0.000000</td>\n",
       "      <td>0.000000</td>\n",
       "      <td>1.000000</td>\n",
       "      <td>1.000000</td>\n",
       "      <td>0.000000</td>\n",
       "      <td>1.000000</td>\n",
       "      <td>0.000000</td>\n",
       "      <td>0.000000</td>\n",
       "      <td>0.000000</td>\n",
       "      <td>0.000000</td>\n",
       "      <td>0.000000</td>\n",
       "      <td>0.000000</td>\n",
       "      <td>0.000000</td>\n",
       "    </tr>\n",
       "    <tr>\n",
       "      <th>max</th>\n",
       "      <td>1.650000e+08</td>\n",
       "      <td>9400.000000</td>\n",
       "      <td>8.000000</td>\n",
       "      <td>1.000000</td>\n",
       "      <td>9.000000</td>\n",
       "      <td>9.000000</td>\n",
       "      <td>9.000000</td>\n",
       "      <td>9.000000</td>\n",
       "      <td>9.000000</td>\n",
       "      <td>9.000000</td>\n",
       "      <td>9.000000</td>\n",
       "      <td>9.000000</td>\n",
       "      <td>9.000000</td>\n",
       "      <td>9.000000</td>\n",
       "      <td>9.000000</td>\n",
       "      <td>9.000000</td>\n",
       "      <td>9.000000</td>\n",
       "      <td>9.000000</td>\n",
       "      <td>9.000000</td>\n",
       "      <td>9.000000</td>\n",
       "      <td>9.000000</td>\n",
       "      <td>9.000000</td>\n",
       "      <td>9.000000</td>\n",
       "      <td>9.000000</td>\n",
       "      <td>9.000000</td>\n",
       "      <td>9.000000</td>\n",
       "      <td>9.000000</td>\n",
       "      <td>9.000000</td>\n",
       "      <td>9.000000</td>\n",
       "      <td>9.000000</td>\n",
       "      <td>9.000000</td>\n",
       "      <td>9.000000</td>\n",
       "      <td>9.000000</td>\n",
       "      <td>9.000000</td>\n",
       "      <td>9.000000</td>\n",
       "      <td>9.000000</td>\n",
       "      <td>9.000000</td>\n",
       "      <td>9.000000</td>\n",
       "      <td>9.000000</td>\n",
       "    </tr>\n",
       "  </tbody>\n",
       "</table>\n",
       "</div>"
      ],
      "text/plain": [
       "              Price         Area  No. of Bedrooms       Resale  \\\n",
       "count  2.518000e+03  2518.000000      2518.000000  2518.000000   \n",
       "mean   9.818380e+06  1644.571088         2.623511     0.227562   \n",
       "std    8.777113e+06   746.256956         0.687330     0.419341   \n",
       "min    2.000000e+06   500.000000         1.000000     0.000000   \n",
       "25%    4.760000e+06  1160.000000         2.000000     0.000000   \n",
       "50%    7.754000e+06  1500.000000         3.000000     0.000000   \n",
       "75%    1.090000e+07  1829.000000         3.000000     0.000000   \n",
       "max    1.650000e+08  9400.000000         8.000000     1.000000   \n",
       "\n",
       "       MaintenanceStaff    Gymnasium  SwimmingPool  LandscapedGardens  \\\n",
       "count       2518.000000  2518.000000   2518.000000        2518.000000   \n",
       "mean           0.412629     0.739873      0.709690           0.619142   \n",
       "std            1.626445     1.611024      1.615231           1.624426   \n",
       "min            0.000000     0.000000      0.000000           0.000000   \n",
       "25%            0.000000     0.000000      0.000000           0.000000   \n",
       "50%            0.000000     0.000000      0.000000           0.000000   \n",
       "75%            0.000000     1.000000      1.000000           1.000000   \n",
       "max            9.000000     9.000000      9.000000           9.000000   \n",
       "\n",
       "       JoggingTrack  RainWaterHarvesting  IndoorGames  ShoppingMall  \\\n",
       "count   2518.000000          2518.000000  2518.000000   2518.000000   \n",
       "mean       0.559968             0.606434     0.580620      0.366164   \n",
       "std        1.627686             1.625308     1.626794      1.623281   \n",
       "min        0.000000             0.000000     0.000000      0.000000   \n",
       "25%        0.000000             0.000000     0.000000      0.000000   \n",
       "50%        0.000000             0.000000     0.000000      0.000000   \n",
       "75%        1.000000             1.000000     1.000000      0.000000   \n",
       "max        9.000000             9.000000     9.000000      9.000000   \n",
       "\n",
       "          Intercom  SportsFacility          ATM    ClubHouse       School  \\\n",
       "count  2518.000000     2518.000000  2518.000000  2518.000000  2518.000000   \n",
       "mean      0.679110        0.553614     0.421763     0.711676     0.340747   \n",
       "std       1.618909        1.627908     1.626910     1.614972     1.620984   \n",
       "min       0.000000        0.000000     0.000000     0.000000     0.000000   \n",
       "25%       0.000000        0.000000     0.000000     0.000000     0.000000   \n",
       "50%       0.000000        0.000000     0.000000     0.000000     0.000000   \n",
       "75%       1.000000        1.000000     0.000000     1.000000     0.000000   \n",
       "max       9.000000        9.000000     9.000000     9.000000     9.000000   \n",
       "\n",
       "       24X7Security  PowerBackup   CarParking  StaffQuarter    Cafeteria  \\\n",
       "count   2518.000000  2518.000000  2518.000000   2518.000000  2518.000000   \n",
       "mean       0.706513     0.935663     0.736299      0.395552     0.413423   \n",
       "std        1.615641     1.569421     1.611552      1.625437     1.626487   \n",
       "min        0.000000     0.000000     0.000000      0.000000     0.000000   \n",
       "25%        0.000000     0.000000     0.000000      0.000000     0.000000   \n",
       "50%        0.000000     1.000000     0.000000      0.000000     0.000000   \n",
       "75%        1.000000     1.000000     1.000000      0.000000     0.000000   \n",
       "max        9.000000     9.000000     9.000000      9.000000     9.000000   \n",
       "\n",
       "       MultipurposeRoom     Hospital  WashingMachine  Gasconnection  \\\n",
       "count       2518.000000  2518.000000     2518.000000    2518.000000   \n",
       "mean           0.532168     0.339952        0.320095       0.386815   \n",
       "std            1.628473     1.620905        1.618821       1.624852   \n",
       "min            0.000000     0.000000        0.000000       0.000000   \n",
       "25%            0.000000     0.000000        0.000000       0.000000   \n",
       "50%            0.000000     0.000000        0.000000       0.000000   \n",
       "75%            1.000000     0.000000        0.000000       0.000000   \n",
       "max            9.000000     9.000000        9.000000       9.000000   \n",
       "\n",
       "                AC         Wifi  Children'splayarea  LiftAvailable  \\\n",
       "count  2518.000000  2518.000000         2518.000000    2518.000000   \n",
       "mean      0.338761     0.326052            0.754170       0.975774   \n",
       "std       1.620787     1.619472            1.608829       1.557725   \n",
       "min       0.000000     0.000000            0.000000       0.000000   \n",
       "25%       0.000000     0.000000            0.000000       0.000000   \n",
       "50%       0.000000     0.000000            0.000000       1.000000   \n",
       "75%       0.000000     0.000000            1.000000       1.000000   \n",
       "max       9.000000     9.000000            9.000000       9.000000   \n",
       "\n",
       "               BED  VaastuCompliant    Microwave   GolfCourse           TV  \\\n",
       "count  2518.000000      2518.000000  2518.000000  2518.000000  2518.000000   \n",
       "mean      0.360207         0.607228     0.342732     0.330024     0.321287   \n",
       "std       1.622778         1.625256     1.621178     1.619894     1.618953   \n",
       "min       0.000000         0.000000     0.000000     0.000000     0.000000   \n",
       "25%       0.000000         0.000000     0.000000     0.000000     0.000000   \n",
       "50%       0.000000         0.000000     0.000000     0.000000     0.000000   \n",
       "75%       0.000000         1.000000     0.000000     0.000000     0.000000   \n",
       "max       9.000000         9.000000     9.000000     9.000000     9.000000   \n",
       "\n",
       "       DiningTable         Sofa     Wardrobe  Refrigerator  \n",
       "count  2518.000000  2518.000000  2518.000000   2518.000000  \n",
       "mean      0.334392     0.342335     0.341144      0.324861  \n",
       "std       1.620347     1.621139     1.621023      1.619344  \n",
       "min       0.000000     0.000000     0.000000      0.000000  \n",
       "25%       0.000000     0.000000     0.000000      0.000000  \n",
       "50%       0.000000     0.000000     0.000000      0.000000  \n",
       "75%       0.000000     0.000000     0.000000      0.000000  \n",
       "max       9.000000     9.000000     9.000000      9.000000  "
      ]
     },
     "execution_count": 7,
     "metadata": {},
     "output_type": "execute_result"
    }
   ],
   "source": [
    "hyderabad_dataset.describe()"
   ]
  },
  {
   "cell_type": "markdown",
   "metadata": {
    "papermill": {
     "duration": 0.02387,
     "end_time": "2020-09-09T11:20:03.867473",
     "exception": false,
     "start_time": "2020-09-09T11:20:03.843603",
     "status": "completed"
    },
    "tags": []
   },
   "source": [
    "* Area and No. of Bedrooms seems to have outliers."
   ]
  },
  {
   "cell_type": "markdown",
   "metadata": {
    "papermill": {
     "duration": 0.026338,
     "end_time": "2020-09-09T11:20:04.701963",
     "exception": false,
     "start_time": "2020-09-09T11:20:04.675625",
     "status": "completed"
    },
    "tags": []
   },
   "source": [
    "# Visualizing outliers in the dataset"
   ]
  },
  {
   "cell_type": "code",
   "execution_count": 8,
   "metadata": {
    "execution": {
     "iopub.execute_input": "2020-09-09T11:20:04.765484Z",
     "iopub.status.busy": "2020-09-09T11:20:04.764634Z",
     "iopub.status.idle": "2020-09-09T11:20:05.276226Z",
     "shell.execute_reply": "2020-09-09T11:20:05.275618Z"
    },
    "papermill": {
     "duration": 0.547263,
     "end_time": "2020-09-09T11:20:05.276357",
     "exception": false,
     "start_time": "2020-09-09T11:20:04.729094",
     "status": "completed"
    },
    "tags": []
   },
   "outputs": [
    {
     "data": {
      "image/png": "[encoded data removed]",
      "text/plain": [
       "<Figure size 500x500 with 1 Axes>"
      ]
     },
     "metadata": {},
     "output_type": "display_data"
    }
   ],
   "source": [
    "plt.figure(figsize=(5,5))\n",
    "# plt.subplot(221)\n",
    "sns.boxplot(hyderabad_dataset['Area'])\n",
    "plt.title('Outliers In Area In Hyderabad Dataset')\n",
    "plt.show()"
   ]
  },
  {
   "cell_type": "code",
   "execution_count": 9,
   "metadata": {
    "execution": {
     "iopub.execute_input": "2020-09-09T11:20:05.341140Z",
     "iopub.status.busy": "2020-09-09T11:20:05.340036Z",
     "iopub.status.idle": "2020-09-09T11:20:05.838931Z",
     "shell.execute_reply": "2020-09-09T11:20:05.838263Z"
    },
    "papermill": {
     "duration": 0.535337,
     "end_time": "2020-09-09T11:20:05.839072",
     "exception": false,
     "start_time": "2020-09-09T11:20:05.303735",
     "status": "completed"
    },
    "tags": []
   },
   "outputs": [
    {
     "data": {
      "image/png": "[encoded data removed]",
      "text/plain": [
       "<Figure size 500x500 with 1 Axes>"
      ]
     },
     "metadata": {},
     "output_type": "display_data"
    }
   ],
   "source": [
    "plt.figure(figsize=(5,5))\n",
    "# plt.subplot(221)\n",
    "sns.boxplot(hyderabad_dataset['No. of Bedrooms'])\n",
    "plt.title('Outliers In No. of Bedrooms In Hyderabad Dataset')\n",
    "plt.show()"
   ]
  },
  {
   "cell_type": "markdown",
   "metadata": {
    "papermill": {
     "duration": 0.075625,
     "end_time": "2020-09-09T11:20:05.942288",
     "exception": false,
     "start_time": "2020-09-09T11:20:05.866663",
     "status": "completed"
    },
    "tags": []
   },
   "source": [
    "# Visualizing distribution of area in all the datasets"
   ]
  },
  {
   "cell_type": "code",
   "execution_count": 10,
   "metadata": {
    "execution": {
     "iopub.execute_input": "2020-09-09T11:20:06.101620Z",
     "iopub.status.busy": "2020-09-09T11:20:06.006795Z",
     "iopub.status.idle": "2020-09-09T11:20:07.111798Z",
     "shell.execute_reply": "2020-09-09T11:20:07.111076Z"
    },
    "papermill": {
     "duration": 1.141879,
     "end_time": "2020-09-09T11:20:07.111917",
     "exception": false,
     "start_time": "2020-09-09T11:20:05.970038",
     "status": "completed"
    },
    "tags": []
   },
   "outputs": [
    {
     "data": {
      "image/png": "[encoded data removed]",
      "text/plain": [
       "<Figure size 500x500 with 1 Axes>"
      ]
     },
     "metadata": {},
     "output_type": "display_data"
    }
   ],
   "source": [
    "plt.figure(figsize=(5,5))\n",
    "# plt.subplot(221)\n",
    "sns.distplot(hyderabad_dataset['Price'], bins=50)\n",
    "plt.title('Distribution Of Price In Hyderabad Dataset')\n",
    "plt.show()"
   ]
  },
  {
   "cell_type": "code",
   "execution_count": 11,
   "metadata": {
    "execution": {
     "iopub.execute_input": "2020-09-09T11:20:07.189870Z",
     "iopub.status.busy": "2020-09-09T11:20:07.183634Z",
     "iopub.status.idle": "2020-09-09T11:20:08.185154Z",
     "shell.execute_reply": "2020-09-09T11:20:08.184320Z"
    },
    "papermill": {
     "duration": 1.044338,
     "end_time": "2020-09-09T11:20:08.185284",
     "exception": false,
     "start_time": "2020-09-09T11:20:07.140946",
     "status": "completed"
    },
    "tags": []
   },
   "outputs": [
    {
     "data": {
      "image/png": "[encoded data removed]",
      "text/plain": [
       "<Figure size 500x500 with 1 Axes>"
      ]
     },
     "metadata": {},
     "output_type": "display_data"
    }
   ],
   "source": [
    "plt.figure(figsize=(5,5))\n",
    "plt.subplot(221)\n",
    "plt.hist(hyderabad_dataset['Area'], bins=50)\n",
    "plt.title('Area Distribution In Hyderabad')\n",
    "plt.show()"
   ]
  },
  {
   "cell_type": "markdown",
   "metadata": {
    "papermill": {
     "duration": 0.028492,
     "end_time": "2020-09-09T11:20:08.242947",
     "exception": false,
     "start_time": "2020-09-09T11:20:08.214455",
     "status": "completed"
    },
    "tags": []
   },
   "source": [
    "* As the Area is right skewed in all the 4 datasets, interquantile range will be used to handle the outliers."
   ]
  },
  {
   "cell_type": "markdown",
   "metadata": {
    "papermill": {
     "duration": 0.028503,
     "end_time": "2020-09-09T11:20:08.300535",
     "exception": false,
     "start_time": "2020-09-09T11:20:08.272032",
     "status": "completed"
    },
    "tags": []
   },
   "source": [
    "# Visualizing types of bedrooms in different dataset"
   ]
  },
  {
   "cell_type": "code",
   "execution_count": 12,
   "metadata": {
    "execution": {
     "iopub.execute_input": "2020-09-09T11:20:08.375831Z",
     "iopub.status.busy": "2020-09-09T11:20:08.375063Z",
     "iopub.status.idle": "2020-09-09T11:20:08.960360Z",
     "shell.execute_reply": "2020-09-09T11:20:08.959592Z"
    },
    "papermill": {
     "duration": 0.631134,
     "end_time": "2020-09-09T11:20:08.960490",
     "exception": false,
     "start_time": "2020-09-09T11:20:08.329356",
     "status": "completed"
    },
    "tags": []
   },
   "outputs": [
    {
     "data": {
      "image/png": "[encoded data removed]",
      "text/plain": [
       "<Figure size 1200x1000 with 1 Axes>"
      ]
     },
     "metadata": {},
     "output_type": "display_data"
    }
   ],
   "source": [
    "plt.figure(figsize=(20,20))\n",
    "plt.subplot(221)\n",
    "hyderabad_dataset['No. of Bedrooms'].value_counts().plot(kind='bar',figsize=(12,10))\n",
    "plt.title('No. of Bedrooms Distribution In Hyderabad')\n",
    "plt.show()"
   ]
  },
  {
   "cell_type": "markdown",
   "metadata": {
    "papermill": {
     "duration": 0.029089,
     "end_time": "2020-09-09T11:20:09.019610",
     "exception": false,
     "start_time": "2020-09-09T11:20:08.990521",
     "status": "completed"
    },
    "tags": []
   },
   "source": [
    "* hyderabad, Hyderabad and Hyderabad has maximum 3 bedrooms house followed by 2 bedrooms and 4 bedrooms houses.\n",
    "* Hyderabad has maximum 2 bedrooms house foloowed by 1 bedroom and 3 bedrooms houses."
   ]
  },
  {
   "cell_type": "markdown",
   "metadata": {
    "papermill": {
     "duration": 0.033911,
     "end_time": "2020-09-09T11:20:14.997567",
     "exception": false,
     "start_time": "2020-09-09T11:20:14.963656",
     "status": "completed"
    },
    "tags": []
   },
   "source": [
    "# Data Cleaning"
   ]
  },
  {
   "cell_type": "markdown",
   "metadata": {
    "papermill": {
     "duration": 0.033957,
     "end_time": "2020-09-09T11:20:15.066163",
     "exception": false,
     "start_time": "2020-09-09T11:20:15.032206",
     "status": "completed"
    },
    "tags": []
   },
   "source": [
    "### Removing duplicate rows "
   ]
  },
  {
   "cell_type": "code",
   "execution_count": 13,
   "metadata": {
    "execution": {
     "iopub.execute_input": "2020-09-09T11:20:15.142262Z",
     "iopub.status.busy": "2020-09-09T11:20:15.141420Z",
     "iopub.status.idle": "2020-09-09T11:20:15.188641Z",
     "shell.execute_reply": "2020-09-09T11:20:15.187892Z"
    },
    "papermill": {
     "duration": 0.088235,
     "end_time": "2020-09-09T11:20:15.188760",
     "exception": false,
     "start_time": "2020-09-09T11:20:15.100525",
     "status": "completed"
    },
    "tags": []
   },
   "outputs": [
    {
     "data": {
      "text/plain": [
       "(1998, 40)"
      ]
     },
     "execution_count": 13,
     "metadata": {},
     "output_type": "execute_result"
    }
   ],
   "source": [
    "hyderabad_dataset.drop_duplicates(inplace=True)\n",
    "hyderabad_dataset.shape"
   ]
  },
  {
   "cell_type": "markdown",
   "metadata": {
    "papermill": {
     "duration": 0.033993,
     "end_time": "2020-09-09T11:20:15.257095",
     "exception": false,
     "start_time": "2020-09-09T11:20:15.223102",
     "status": "completed"
    },
    "tags": []
   },
   "source": [
    "### Handling outliers "
   ]
  },
  {
   "cell_type": "code",
   "execution_count": 14,
   "metadata": {
    "execution": {
     "iopub.execute_input": "2020-09-09T11:20:15.471051Z",
     "iopub.status.busy": "2020-09-09T11:20:15.460513Z",
     "iopub.status.idle": "2020-09-09T11:20:15.543796Z",
     "shell.execute_reply": "2020-09-09T11:20:15.543123Z"
    },
    "papermill": {
     "duration": 0.25231,
     "end_time": "2020-09-09T11:20:15.543917",
     "exception": false,
     "start_time": "2020-09-09T11:20:15.291607",
     "status": "completed"
    },
    "tags": []
   },
   "outputs": [],
   "source": [
    "outlier_features = ['Area','No. of Bedrooms']\n",
    "for feature in outlier_features:\n",
    "    IQR = hyderabad_dataset[feature].quantile(0.75) - hyderabad_dataset[feature].quantile(0.25)\n",
    "    lower_boundary = hyderabad_dataset[feature].quantile(0.25) - (IQR*1.5)\n",
    "    upper_boundary = hyderabad_dataset[feature].quantile(0.75) + (IQR*1.5)\n",
    "    hyderabad_dataset.loc[hyderabad_dataset[feature]<=lower_boundary, feature] = lower_boundary\n",
    "    hyderabad_dataset.loc[hyderabad_dataset[feature]>=upper_boundary, feature] = upper_boundary\n",
    "    \n",
    "    # IQR = hyderabad_dataset[feature].quantile(0.75) - hyderabad_dataset[feature].quantile(0.25)\n",
    "    # lower_boundary = hyderabad_dataset[feature].quantile(0.25) - (IQR*1.5)\n",
    "    # upper_boundary = hyderabad_dataset[feature].quantile(0.75) + (IQR*1.5)\n",
    "    # hyderabad_dataset.loc[hyderabad_dataset[feature]<=lower_boundary, feature] = lower_boundary\n",
    "    # hyderabad_dataset.loc[hyderabad_dataset[feature]>=upper_boundary, feature] = upper_boundary\n",
    "    \n",
    "    # IQR = hyderabad_dataset[feature].quantile(0.75) - hyderabad_dataset[feature].quantile(0.25)\n",
    "    # lower_boundary = hyderabad_dataset[feature].quantile(0.25) - (IQR*1.5)\n",
    "    # upper_boundary = hyderabad_dataset[feature].quantile(0.75) + (IQR*1.5)\n",
    "    # hyderabad_dataset.loc[hyderabad_dataset[feature]<=lower_boundary, feature] = lower_boundary\n",
    "    # hyderabad_dataset.loc[hyderabad_dataset[feature]>=upper_boundary, feature] = upper_boundary\n",
    "    \n",
    "    # IQR = hyderabad_dataset[feature].quantile(0.75) - hyderabad_dataset[feature].quantile(0.25)\n",
    "    # lower_boundary = hyderabad_dataset[feature].quantile(0.25) - (IQR*1.5)\n",
    "    # upper_boundary = hyderabad_dataset[feature].quantile(0.75) + (IQR*1.5)\n",
    "    # hyderabad_dataset.loc[hyderabad_dataset[feature]<=lower_boundary, feature] = lower_boundary\n",
    "    # hyderabad_dataset.loc[hyderabad_dataset[feature]>=upper_boundary, feature] = upper_boundary"
   ]
  },
  {
   "cell_type": "code",
   "execution_count": 15,
   "metadata": {
    "execution": {
     "iopub.execute_input": "2020-09-09T11:20:15.634033Z",
     "iopub.status.busy": "2020-09-09T11:20:15.633202Z",
     "iopub.status.idle": "2020-09-09T11:20:16.098064Z",
     "shell.execute_reply": "2020-09-09T11:20:16.097449Z"
    },
    "papermill": {
     "duration": 0.514282,
     "end_time": "2020-09-09T11:20:16.098195",
     "exception": false,
     "start_time": "2020-09-09T11:20:15.583913",
     "status": "completed"
    },
    "tags": []
   },
   "outputs": [
    {
     "data": {
      "image/png": "[encoded data removed]",
      "text/plain": [
       "<Figure size 1200x1200 with 1 Axes>"
      ]
     },
     "metadata": {},
     "output_type": "display_data"
    }
   ],
   "source": [
    "plt.figure(figsize=(12,12))\n",
    "plt.subplot(221)\n",
    "sns.boxplot(hyderabad_dataset['Area'])\n",
    "plt.title('Outliers In Area In Hyderabad Dataset')\n",
    "# plt.subplot(222)\n",
    "# sns.boxplot(hyderabad_dataset['Area'])\n",
    "# plt.title('Outliers In Area In Hyderabad Dataset')\n",
    "# plt.subplot(223)\n",
    "# sns.boxplot(hyderabad_dataset['Area'])\n",
    "# plt.title('Outliers In Area In Hyderabad Dataset')\n",
    "# plt.subplot(224)\n",
    "# sns.boxplot(hyderabad_dataset['Area'])\n",
    "# plt.title('Outliers In Area In Hyderabad Dataset')\n",
    "plt.show()"
   ]
  },
  {
   "cell_type": "code",
   "execution_count": 16,
   "metadata": {
    "execution": {
     "iopub.execute_input": "2020-09-09T11:20:16.183674Z",
     "iopub.status.busy": "2020-09-09T11:20:16.182610Z",
     "iopub.status.idle": "2020-09-09T11:20:16.670119Z",
     "shell.execute_reply": "2020-09-09T11:20:16.669363Z"
    },
    "papermill": {
     "duration": 0.537298,
     "end_time": "2020-09-09T11:20:16.670248",
     "exception": false,
     "start_time": "2020-09-09T11:20:16.132950",
     "status": "completed"
    },
    "tags": []
   },
   "outputs": [
    {
     "data": {
      "image/png": "[encoded data removed]",
      "text/plain": [
       "<Figure size 1200x1200 with 1 Axes>"
      ]
     },
     "metadata": {},
     "output_type": "display_data"
    }
   ],
   "source": [
    "plt.figure(figsize=(12,12))\n",
    "plt.subplot(221)\n",
    "sns.boxplot(hyderabad_dataset['No. of Bedrooms'])\n",
    "plt.title('Outliers In No. of Bedrooms In Hyderabad Dataset')\n",
    "# plt.subplot(222)\n",
    "# sns.boxplot(hyderabad_dataset['No. of Bedrooms'])\n",
    "# plt.title('Outliers In No. of Bedrooms In Hyderabad Dataset')\n",
    "# plt.subplot(223)\n",
    "# sns.boxplot(hyderabad_dataset['No. of Bedrooms'])\n",
    "# plt.title('Outliers In No. of Bedrooms In Hyderabad Dataset')\n",
    "# plt.subplot(224)\n",
    "# sns.boxplot(hyderabad_dataset['No. of Bedrooms'])\n",
    "# plt.title('Outliers In No. of Bedrooms In Hyderabad Dataset')\n",
    "plt.show()"
   ]
  },
  {
   "cell_type": "markdown",
   "metadata": {
    "papermill": {
     "duration": 0.035358,
     "end_time": "2020-09-09T11:20:16.740743",
     "exception": false,
     "start_time": "2020-09-09T11:20:16.705385",
     "status": "completed"
    },
    "tags": []
   },
   "source": [
    "# Feature Engineering"
   ]
  },
  {
   "cell_type": "markdown",
   "metadata": {
    "papermill": {
     "duration": 0.035429,
     "end_time": "2020-09-09T11:20:16.977395",
     "exception": false,
     "start_time": "2020-09-09T11:20:16.941966",
     "status": "completed"
    },
    "tags": []
   },
   "source": [
    "### Correlation Matrix "
   ]
  },
  {
   "cell_type": "code",
   "execution_count": 17,
   "metadata": {
    "execution": {
     "iopub.execute_input": "2020-09-09T11:20:17.056784Z",
     "iopub.status.busy": "2020-09-09T11:20:17.056022Z",
     "iopub.status.idle": "2020-09-09T11:20:22.259469Z",
     "shell.execute_reply": "2020-09-09T11:20:22.260113Z"
    },
    "papermill": {
     "duration": 5.246999,
     "end_time": "2020-09-09T11:20:22.260276",
     "exception": false,
     "start_time": "2020-09-09T11:20:17.013277",
     "status": "completed"
    },
    "tags": []
   },
   "outputs": [],
   "source": [
    "# plt.figure(figsize=(35,35))\n",
    "# sns.heatmap(hyderabad_dataset.corr(), annot=True, cmap='RdYlGn')\n",
    "# plt.show()"
   ]
  },
  {
   "cell_type": "markdown",
   "metadata": {},
   "source": [
    "#### Locations with greter than 20 mentions, rest will be tagged as 'other'"
   ]
  },
  {
   "cell_type": "code",
   "execution_count": 18,
   "metadata": {},
   "outputs": [
    {
     "data": {
      "text/plain": [
       "Location\n",
       "Kondapur                  131\n",
       "Kukatpally                119\n",
       "Manikonda                 105\n",
       "Nizampet                   73\n",
       "Gachibowli                 73\n",
       "                         ... \n",
       "ALIND Employees Colony      1\n",
       "Ameerpet                    1\n",
       "Methodist Colony            1\n",
       "NRSA Colony                 1\n",
       "Paradise Circle             1\n",
       "Name: count, Length: 243, dtype: int64"
      ]
     },
     "execution_count": 18,
     "metadata": {},
     "output_type": "execute_result"
    }
   ],
   "source": [
    "\n",
    "hyderabad_dataset['Location'].value_counts()"
   ]
  },
  {
   "cell_type": "code",
   "execution_count": 19,
   "metadata": {},
   "outputs": [
    {
     "data": {
      "text/plain": [
       "Location\n",
       "Kondapur                  131\n",
       "Kukatpally                119\n",
       "Manikonda                 105\n",
       "Nizampet                   73\n",
       "Gachibowli                 73\n",
       "                         ... \n",
       "ALIND Employees Colony      1\n",
       "Ameerpet                    1\n",
       "Methodist Colony            1\n",
       "NRSA Colony                 1\n",
       "Paradise Circle             1\n",
       "Name: count, Length: 243, dtype: int64"
      ]
     },
     "execution_count": 19,
     "metadata": {},
     "output_type": "execute_result"
    }
   ],
   "source": [
    "\n",
    "hyderabad_dataset['Location'] = hyderabad_dataset['Location'].apply(lambda x: x.strip())\n",
    "location_stats = hyderabad_dataset['Location'].value_counts(ascending=False)\n",
    "location_stats"
   ]
  },
  {
   "cell_type": "code",
   "execution_count": 20,
   "metadata": {},
   "outputs": [
    {
     "data": {
      "text/plain": [
       "Location\n",
       "Jubilee Hills                30\n",
       "Appa Junction Peerancheru    28\n",
       "Beeramguda                   28\n",
       "Bachupally                   25\n",
       "Kollur Road                  19\n",
       "                             ..\n",
       "ALIND Employees Colony        1\n",
       "Ameerpet                      1\n",
       "Methodist Colony              1\n",
       "NRSA Colony                   1\n",
       "Paradise Circle               1\n",
       "Name: count, Length: 227, dtype: int64"
      ]
     },
     "execution_count": 20,
     "metadata": {},
     "output_type": "execute_result"
    }
   ],
   "source": [
    "location_stats_less_than_20 = location_stats[location_stats<=30]\n",
    "location_stats_less_than_20"
   ]
  },
  {
   "cell_type": "code",
   "execution_count": 21,
   "metadata": {},
   "outputs": [
    {
     "data": {
      "text/plain": [
       "Location\n",
       "other                     1016\n",
       "Kondapur                   131\n",
       "Kukatpally                 119\n",
       "Manikonda                  105\n",
       "Nizampet                    73\n",
       "Gachibowli                  73\n",
       "Miyapur                     67\n",
       "Hitech City                 62\n",
       "Kokapet                     57\n",
       "Nanakramguda                44\n",
       "Banjara Hills               40\n",
       "Puppalaguda                 39\n",
       "Narsingi                    38\n",
       "Gajularamaram               36\n",
       "Tellapur                    34\n",
       "Madhapur                    32\n",
       "Nallagandla Gachibowli      32\n",
       "Name: count, dtype: int64"
      ]
     },
     "execution_count": 21,
     "metadata": {},
     "output_type": "execute_result"
    }
   ],
   "source": [
    "\n",
    "hyderabad_dataset['Location'] = hyderabad_dataset['Location'].apply(lambda x: 'other' if x in location_stats_less_than_20 else x)\n",
    "hyderabad_dataset['Location'].value_counts()"
   ]
  },
  {
   "cell_type": "code",
   "execution_count": 22,
   "metadata": {},
   "outputs": [
    {
     "data": {
      "text/plain": [
       "['Nizampet',\n",
       " 'Hitech City',\n",
       " 'Manikonda',\n",
       " 'other',\n",
       " 'Kukatpally',\n",
       " 'Gachibowli',\n",
       " 'Tellapur',\n",
       " 'Kokapet',\n",
       " 'Narsingi',\n",
       " 'Madhapur',\n",
       " 'Puppalaguda',\n",
       " 'Banjara Hills',\n",
       " 'Miyapur',\n",
       " 'Nanakramguda',\n",
       " 'Kondapur',\n",
       " 'Gajularamaram',\n",
       " 'Nallagandla Gachibowli']"
      ]
     },
     "execution_count": 22,
     "metadata": {},
     "output_type": "execute_result"
    }
   ],
   "source": [
    "# print(hyderabad_dataset['Location'].unique())\n",
    "\n",
    "[x for x in hyderabad_dataset['Location'].unique()]"
   ]
  },
  {
   "cell_type": "markdown",
   "metadata": {},
   "source": [
    "### Only 41 locations are present in the hyderabad dataset which has more than 20 mentions, rest all are tagged as 'other'"
   ]
  },
  {
   "cell_type": "markdown",
   "metadata": {
    "papermill": {
     "duration": 0.036903,
     "end_time": "2020-09-09T11:20:22.335098",
     "exception": false,
     "start_time": "2020-09-09T11:20:22.298195",
     "status": "completed"
    },
    "tags": []
   },
   "source": [
    "# Feature Importance"
   ]
  },
  {
   "cell_type": "code",
   "execution_count": 23,
   "metadata": {},
   "outputs": [
    {
     "data": {
      "text/html": [
       "<div>\n",
       "<style scoped>\n",
       "    .dataframe tbody tr th:only-of-type {\n",
       "        vertical-align: middle;\n",
       "    }\n",
       "\n",
       "    .dataframe tbody tr th {\n",
       "        vertical-align: top;\n",
       "    }\n",
       "\n",
       "    .dataframe thead th {\n",
       "        text-align: right;\n",
       "    }\n",
       "</style>\n",
       "<table border=\"1\" class=\"dataframe\">\n",
       "  <thead>\n",
       "    <tr style=\"text-align: right;\">\n",
       "      <th></th>\n",
       "      <th>Price</th>\n",
       "      <th>Area</th>\n",
       "      <th>Location</th>\n",
       "      <th>No. of Bedrooms</th>\n",
       "      <th>Resale</th>\n",
       "      <th>MaintenanceStaff</th>\n",
       "      <th>Gymnasium</th>\n",
       "      <th>SwimmingPool</th>\n",
       "      <th>LandscapedGardens</th>\n",
       "      <th>JoggingTrack</th>\n",
       "      <th>RainWaterHarvesting</th>\n",
       "      <th>IndoorGames</th>\n",
       "      <th>ShoppingMall</th>\n",
       "      <th>Intercom</th>\n",
       "      <th>SportsFacility</th>\n",
       "      <th>ATM</th>\n",
       "      <th>ClubHouse</th>\n",
       "      <th>School</th>\n",
       "      <th>24X7Security</th>\n",
       "      <th>PowerBackup</th>\n",
       "      <th>CarParking</th>\n",
       "      <th>StaffQuarter</th>\n",
       "      <th>Cafeteria</th>\n",
       "      <th>MultipurposeRoom</th>\n",
       "      <th>Hospital</th>\n",
       "      <th>WashingMachine</th>\n",
       "      <th>Gasconnection</th>\n",
       "      <th>AC</th>\n",
       "      <th>Wifi</th>\n",
       "      <th>Children'splayarea</th>\n",
       "      <th>LiftAvailable</th>\n",
       "      <th>BED</th>\n",
       "      <th>VaastuCompliant</th>\n",
       "      <th>Microwave</th>\n",
       "      <th>GolfCourse</th>\n",
       "      <th>TV</th>\n",
       "      <th>DiningTable</th>\n",
       "      <th>Sofa</th>\n",
       "      <th>Wardrobe</th>\n",
       "      <th>Refrigerator</th>\n",
       "      <th>Price_per_sqft</th>\n",
       "    </tr>\n",
       "  </thead>\n",
       "  <tbody>\n",
       "    <tr>\n",
       "      <th>0</th>\n",
       "      <td>6968000</td>\n",
       "      <td>1340.00</td>\n",
       "      <td>Nizampet</td>\n",
       "      <td>2.0</td>\n",
       "      <td>0</td>\n",
       "      <td>0</td>\n",
       "      <td>1</td>\n",
       "      <td>1</td>\n",
       "      <td>1</td>\n",
       "      <td>1</td>\n",
       "      <td>1</td>\n",
       "      <td>1</td>\n",
       "      <td>0</td>\n",
       "      <td>1</td>\n",
       "      <td>0</td>\n",
       "      <td>0</td>\n",
       "      <td>1</td>\n",
       "      <td>0</td>\n",
       "      <td>1</td>\n",
       "      <td>1</td>\n",
       "      <td>1</td>\n",
       "      <td>0</td>\n",
       "      <td>0</td>\n",
       "      <td>1</td>\n",
       "      <td>0</td>\n",
       "      <td>0</td>\n",
       "      <td>0</td>\n",
       "      <td>0</td>\n",
       "      <td>0</td>\n",
       "      <td>1</td>\n",
       "      <td>1</td>\n",
       "      <td>0</td>\n",
       "      <td>1</td>\n",
       "      <td>0</td>\n",
       "      <td>0</td>\n",
       "      <td>0</td>\n",
       "      <td>0</td>\n",
       "      <td>0</td>\n",
       "      <td>0</td>\n",
       "      <td>0</td>\n",
       "      <td>5.200000e+08</td>\n",
       "    </tr>\n",
       "    <tr>\n",
       "      <th>1</th>\n",
       "      <td>29000000</td>\n",
       "      <td>2928.75</td>\n",
       "      <td>Hitech City</td>\n",
       "      <td>4.0</td>\n",
       "      <td>0</td>\n",
       "      <td>0</td>\n",
       "      <td>1</td>\n",
       "      <td>1</td>\n",
       "      <td>1</td>\n",
       "      <td>1</td>\n",
       "      <td>1</td>\n",
       "      <td>1</td>\n",
       "      <td>0</td>\n",
       "      <td>1</td>\n",
       "      <td>0</td>\n",
       "      <td>1</td>\n",
       "      <td>1</td>\n",
       "      <td>0</td>\n",
       "      <td>1</td>\n",
       "      <td>1</td>\n",
       "      <td>1</td>\n",
       "      <td>1</td>\n",
       "      <td>0</td>\n",
       "      <td>1</td>\n",
       "      <td>0</td>\n",
       "      <td>0</td>\n",
       "      <td>0</td>\n",
       "      <td>0</td>\n",
       "      <td>0</td>\n",
       "      <td>1</td>\n",
       "      <td>1</td>\n",
       "      <td>0</td>\n",
       "      <td>1</td>\n",
       "      <td>0</td>\n",
       "      <td>0</td>\n",
       "      <td>0</td>\n",
       "      <td>0</td>\n",
       "      <td>0</td>\n",
       "      <td>0</td>\n",
       "      <td>0</td>\n",
       "      <td>9.901835e+08</td>\n",
       "    </tr>\n",
       "    <tr>\n",
       "      <th>2</th>\n",
       "      <td>6590000</td>\n",
       "      <td>1318.00</td>\n",
       "      <td>Manikonda</td>\n",
       "      <td>2.0</td>\n",
       "      <td>0</td>\n",
       "      <td>0</td>\n",
       "      <td>1</td>\n",
       "      <td>0</td>\n",
       "      <td>0</td>\n",
       "      <td>0</td>\n",
       "      <td>0</td>\n",
       "      <td>1</td>\n",
       "      <td>0</td>\n",
       "      <td>0</td>\n",
       "      <td>0</td>\n",
       "      <td>0</td>\n",
       "      <td>0</td>\n",
       "      <td>0</td>\n",
       "      <td>0</td>\n",
       "      <td>0</td>\n",
       "      <td>0</td>\n",
       "      <td>0</td>\n",
       "      <td>0</td>\n",
       "      <td>1</td>\n",
       "      <td>0</td>\n",
       "      <td>0</td>\n",
       "      <td>0</td>\n",
       "      <td>0</td>\n",
       "      <td>0</td>\n",
       "      <td>1</td>\n",
       "      <td>0</td>\n",
       "      <td>0</td>\n",
       "      <td>0</td>\n",
       "      <td>0</td>\n",
       "      <td>0</td>\n",
       "      <td>0</td>\n",
       "      <td>0</td>\n",
       "      <td>0</td>\n",
       "      <td>0</td>\n",
       "      <td>0</td>\n",
       "      <td>5.000000e+08</td>\n",
       "    </tr>\n",
       "    <tr>\n",
       "      <th>3</th>\n",
       "      <td>5739000</td>\n",
       "      <td>1295.00</td>\n",
       "      <td>other</td>\n",
       "      <td>3.0</td>\n",
       "      <td>1</td>\n",
       "      <td>0</td>\n",
       "      <td>0</td>\n",
       "      <td>0</td>\n",
       "      <td>0</td>\n",
       "      <td>0</td>\n",
       "      <td>0</td>\n",
       "      <td>0</td>\n",
       "      <td>0</td>\n",
       "      <td>0</td>\n",
       "      <td>0</td>\n",
       "      <td>0</td>\n",
       "      <td>0</td>\n",
       "      <td>0</td>\n",
       "      <td>0</td>\n",
       "      <td>1</td>\n",
       "      <td>0</td>\n",
       "      <td>0</td>\n",
       "      <td>0</td>\n",
       "      <td>0</td>\n",
       "      <td>0</td>\n",
       "      <td>0</td>\n",
       "      <td>0</td>\n",
       "      <td>0</td>\n",
       "      <td>0</td>\n",
       "      <td>0</td>\n",
       "      <td>1</td>\n",
       "      <td>0</td>\n",
       "      <td>0</td>\n",
       "      <td>0</td>\n",
       "      <td>0</td>\n",
       "      <td>0</td>\n",
       "      <td>0</td>\n",
       "      <td>0</td>\n",
       "      <td>0</td>\n",
       "      <td>0</td>\n",
       "      <td>4.431660e+08</td>\n",
       "    </tr>\n",
       "    <tr>\n",
       "      <th>4</th>\n",
       "      <td>5679000</td>\n",
       "      <td>1145.00</td>\n",
       "      <td>Kukatpally</td>\n",
       "      <td>2.0</td>\n",
       "      <td>0</td>\n",
       "      <td>0</td>\n",
       "      <td>0</td>\n",
       "      <td>0</td>\n",
       "      <td>1</td>\n",
       "      <td>0</td>\n",
       "      <td>0</td>\n",
       "      <td>0</td>\n",
       "      <td>0</td>\n",
       "      <td>0</td>\n",
       "      <td>0</td>\n",
       "      <td>0</td>\n",
       "      <td>0</td>\n",
       "      <td>0</td>\n",
       "      <td>0</td>\n",
       "      <td>1</td>\n",
       "      <td>1</td>\n",
       "      <td>0</td>\n",
       "      <td>0</td>\n",
       "      <td>0</td>\n",
       "      <td>0</td>\n",
       "      <td>0</td>\n",
       "      <td>0</td>\n",
       "      <td>0</td>\n",
       "      <td>0</td>\n",
       "      <td>1</td>\n",
       "      <td>1</td>\n",
       "      <td>0</td>\n",
       "      <td>0</td>\n",
       "      <td>0</td>\n",
       "      <td>0</td>\n",
       "      <td>0</td>\n",
       "      <td>0</td>\n",
       "      <td>0</td>\n",
       "      <td>0</td>\n",
       "      <td>0</td>\n",
       "      <td>4.959825e+08</td>\n",
       "    </tr>\n",
       "  </tbody>\n",
       "</table>\n",
       "</div>"
      ],
      "text/plain": [
       "      Price     Area     Location  No. of Bedrooms  Resale  MaintenanceStaff  \\\n",
       "0   6968000  1340.00     Nizampet              2.0       0                 0   \n",
       "1  29000000  2928.75  Hitech City              4.0       0                 0   \n",
       "2   6590000  1318.00    Manikonda              2.0       0                 0   \n",
       "3   5739000  1295.00        other              3.0       1                 0   \n",
       "4   5679000  1145.00   Kukatpally              2.0       0                 0   \n",
       "\n",
       "   Gymnasium  SwimmingPool  LandscapedGardens  JoggingTrack  \\\n",
       "0          1             1                  1             1   \n",
       "1          1             1                  1             1   \n",
       "2          1             0                  0             0   \n",
       "3          0             0                  0             0   \n",
       "4          0             0                  1             0   \n",
       "\n",
       "   RainWaterHarvesting  IndoorGames  ShoppingMall  Intercom  SportsFacility  \\\n",
       "0                    1            1             0         1               0   \n",
       "1                    1            1             0         1               0   \n",
       "2                    0            1             0         0               0   \n",
       "3                    0            0             0         0               0   \n",
       "4                    0            0             0         0               0   \n",
       "\n",
       "   ATM  ClubHouse  School  24X7Security  PowerBackup  CarParking  \\\n",
       "0    0          1       0             1            1           1   \n",
       "1    1          1       0             1            1           1   \n",
       "2    0          0       0             0            0           0   \n",
       "3    0          0       0             0            1           0   \n",
       "4    0          0       0             0            1           1   \n",
       "\n",
       "   StaffQuarter  Cafeteria  MultipurposeRoom  Hospital  WashingMachine  \\\n",
       "0             0          0                 1         0               0   \n",
       "1             1          0                 1         0               0   \n",
       "2             0          0                 1         0               0   \n",
       "3             0          0                 0         0               0   \n",
       "4             0          0                 0         0               0   \n",
       "\n",
       "   Gasconnection  AC  Wifi  Children'splayarea  LiftAvailable  BED  \\\n",
       "0              0   0     0                   1              1    0   \n",
       "1              0   0     0                   1              1    0   \n",
       "2              0   0     0                   1              0    0   \n",
       "3              0   0     0                   0              1    0   \n",
       "4              0   0     0                   1              1    0   \n",
       "\n",
       "   VaastuCompliant  Microwave  GolfCourse  TV  DiningTable  Sofa  Wardrobe  \\\n",
       "0                1          0           0   0            0     0         0   \n",
       "1                1          0           0   0            0     0         0   \n",
       "2                0          0           0   0            0     0         0   \n",
       "3                0          0           0   0            0     0         0   \n",
       "4                0          0           0   0            0     0         0   \n",
       "\n",
       "   Refrigerator  Price_per_sqft  \n",
       "0             0    5.200000e+08  \n",
       "1             0    9.901835e+08  \n",
       "2             0    5.000000e+08  \n",
       "3             0    4.431660e+08  \n",
       "4             0    4.959825e+08  "
      ]
     },
     "execution_count": 23,
     "metadata": {},
     "output_type": "execute_result"
    }
   ],
   "source": [
    "# from sklearn.preprocessing import LabelEncoder\n",
    "# le = LabelEncoder()\n",
    "# hyderabad_dataset['Location'] = le.fit_transform(hyderabad_dataset['Location'])\n",
    "# hyderabad_dataset.head()\n",
    "\n",
    "hyderabad_dataset['Price_per_sqft'] = hyderabad_dataset['Price']*100000/hyderabad_dataset['Area']\n",
    "hyderabad_dataset.head()"
   ]
  },
  {
   "cell_type": "code",
   "execution_count": 24,
   "metadata": {},
   "outputs": [
    {
     "data": {
      "text/html": [
       "<div>\n",
       "<style scoped>\n",
       "    .dataframe tbody tr th:only-of-type {\n",
       "        vertical-align: middle;\n",
       "    }\n",
       "\n",
       "    .dataframe tbody tr th {\n",
       "        vertical-align: top;\n",
       "    }\n",
       "\n",
       "    .dataframe thead th {\n",
       "        text-align: right;\n",
       "    }\n",
       "</style>\n",
       "<table border=\"1\" class=\"dataframe\">\n",
       "  <thead>\n",
       "    <tr style=\"text-align: right;\">\n",
       "      <th></th>\n",
       "      <th>Price</th>\n",
       "      <th>Area</th>\n",
       "      <th>No. of Bedrooms</th>\n",
       "      <th>Resale</th>\n",
       "      <th>MaintenanceStaff</th>\n",
       "      <th>Gymnasium</th>\n",
       "      <th>SwimmingPool</th>\n",
       "      <th>LandscapedGardens</th>\n",
       "      <th>JoggingTrack</th>\n",
       "      <th>RainWaterHarvesting</th>\n",
       "      <th>IndoorGames</th>\n",
       "      <th>ShoppingMall</th>\n",
       "      <th>Intercom</th>\n",
       "      <th>SportsFacility</th>\n",
       "      <th>ATM</th>\n",
       "      <th>ClubHouse</th>\n",
       "      <th>School</th>\n",
       "      <th>24X7Security</th>\n",
       "      <th>PowerBackup</th>\n",
       "      <th>CarParking</th>\n",
       "      <th>StaffQuarter</th>\n",
       "      <th>Cafeteria</th>\n",
       "      <th>MultipurposeRoom</th>\n",
       "      <th>Hospital</th>\n",
       "      <th>WashingMachine</th>\n",
       "      <th>Gasconnection</th>\n",
       "      <th>AC</th>\n",
       "      <th>Wifi</th>\n",
       "      <th>Children'splayarea</th>\n",
       "      <th>LiftAvailable</th>\n",
       "      <th>BED</th>\n",
       "      <th>VaastuCompliant</th>\n",
       "      <th>Microwave</th>\n",
       "      <th>GolfCourse</th>\n",
       "      <th>TV</th>\n",
       "      <th>DiningTable</th>\n",
       "      <th>Sofa</th>\n",
       "      <th>Wardrobe</th>\n",
       "      <th>Refrigerator</th>\n",
       "      <th>Price_per_sqft</th>\n",
       "      <th>Location_Gachibowli</th>\n",
       "      <th>Location_Gajularamaram</th>\n",
       "      <th>Location_Hitech City</th>\n",
       "      <th>Location_Kokapet</th>\n",
       "      <th>Location_Kondapur</th>\n",
       "      <th>Location_Kukatpally</th>\n",
       "      <th>Location_Madhapur</th>\n",
       "      <th>Location_Manikonda</th>\n",
       "      <th>Location_Miyapur</th>\n",
       "      <th>Location_Nallagandla Gachibowli</th>\n",
       "      <th>Location_Nanakramguda</th>\n",
       "      <th>Location_Narsingi</th>\n",
       "      <th>Location_Nizampet</th>\n",
       "      <th>Location_Puppalaguda</th>\n",
       "      <th>Location_Tellapur</th>\n",
       "      <th>Location_other</th>\n",
       "    </tr>\n",
       "  </thead>\n",
       "  <tbody>\n",
       "    <tr>\n",
       "      <th>0</th>\n",
       "      <td>6968000</td>\n",
       "      <td>1340.00</td>\n",
       "      <td>2.0</td>\n",
       "      <td>0</td>\n",
       "      <td>0</td>\n",
       "      <td>1</td>\n",
       "      <td>1</td>\n",
       "      <td>1</td>\n",
       "      <td>1</td>\n",
       "      <td>1</td>\n",
       "      <td>1</td>\n",
       "      <td>0</td>\n",
       "      <td>1</td>\n",
       "      <td>0</td>\n",
       "      <td>0</td>\n",
       "      <td>1</td>\n",
       "      <td>0</td>\n",
       "      <td>1</td>\n",
       "      <td>1</td>\n",
       "      <td>1</td>\n",
       "      <td>0</td>\n",
       "      <td>0</td>\n",
       "      <td>1</td>\n",
       "      <td>0</td>\n",
       "      <td>0</td>\n",
       "      <td>0</td>\n",
       "      <td>0</td>\n",
       "      <td>0</td>\n",
       "      <td>1</td>\n",
       "      <td>1</td>\n",
       "      <td>0</td>\n",
       "      <td>1</td>\n",
       "      <td>0</td>\n",
       "      <td>0</td>\n",
       "      <td>0</td>\n",
       "      <td>0</td>\n",
       "      <td>0</td>\n",
       "      <td>0</td>\n",
       "      <td>0</td>\n",
       "      <td>5.200000e+08</td>\n",
       "      <td>False</td>\n",
       "      <td>False</td>\n",
       "      <td>False</td>\n",
       "      <td>False</td>\n",
       "      <td>False</td>\n",
       "      <td>False</td>\n",
       "      <td>False</td>\n",
       "      <td>False</td>\n",
       "      <td>False</td>\n",
       "      <td>False</td>\n",
       "      <td>False</td>\n",
       "      <td>False</td>\n",
       "      <td>True</td>\n",
       "      <td>False</td>\n",
       "      <td>False</td>\n",
       "      <td>False</td>\n",
       "    </tr>\n",
       "    <tr>\n",
       "      <th>1</th>\n",
       "      <td>29000000</td>\n",
       "      <td>2928.75</td>\n",
       "      <td>4.0</td>\n",
       "      <td>0</td>\n",
       "      <td>0</td>\n",
       "      <td>1</td>\n",
       "      <td>1</td>\n",
       "      <td>1</td>\n",
       "      <td>1</td>\n",
       "      <td>1</td>\n",
       "      <td>1</td>\n",
       "      <td>0</td>\n",
       "      <td>1</td>\n",
       "      <td>0</td>\n",
       "      <td>1</td>\n",
       "      <td>1</td>\n",
       "      <td>0</td>\n",
       "      <td>1</td>\n",
       "      <td>1</td>\n",
       "      <td>1</td>\n",
       "      <td>1</td>\n",
       "      <td>0</td>\n",
       "      <td>1</td>\n",
       "      <td>0</td>\n",
       "      <td>0</td>\n",
       "      <td>0</td>\n",
       "      <td>0</td>\n",
       "      <td>0</td>\n",
       "      <td>1</td>\n",
       "      <td>1</td>\n",
       "      <td>0</td>\n",
       "      <td>1</td>\n",
       "      <td>0</td>\n",
       "      <td>0</td>\n",
       "      <td>0</td>\n",
       "      <td>0</td>\n",
       "      <td>0</td>\n",
       "      <td>0</td>\n",
       "      <td>0</td>\n",
       "      <td>9.901835e+08</td>\n",
       "      <td>False</td>\n",
       "      <td>False</td>\n",
       "      <td>True</td>\n",
       "      <td>False</td>\n",
       "      <td>False</td>\n",
       "      <td>False</td>\n",
       "      <td>False</td>\n",
       "      <td>False</td>\n",
       "      <td>False</td>\n",
       "      <td>False</td>\n",
       "      <td>False</td>\n",
       "      <td>False</td>\n",
       "      <td>False</td>\n",
       "      <td>False</td>\n",
       "      <td>False</td>\n",
       "      <td>False</td>\n",
       "    </tr>\n",
       "    <tr>\n",
       "      <th>2</th>\n",
       "      <td>6590000</td>\n",
       "      <td>1318.00</td>\n",
       "      <td>2.0</td>\n",
       "      <td>0</td>\n",
       "      <td>0</td>\n",
       "      <td>1</td>\n",
       "      <td>0</td>\n",
       "      <td>0</td>\n",
       "      <td>0</td>\n",
       "      <td>0</td>\n",
       "      <td>1</td>\n",
       "      <td>0</td>\n",
       "      <td>0</td>\n",
       "      <td>0</td>\n",
       "      <td>0</td>\n",
       "      <td>0</td>\n",
       "      <td>0</td>\n",
       "      <td>0</td>\n",
       "      <td>0</td>\n",
       "      <td>0</td>\n",
       "      <td>0</td>\n",
       "      <td>0</td>\n",
       "      <td>1</td>\n",
       "      <td>0</td>\n",
       "      <td>0</td>\n",
       "      <td>0</td>\n",
       "      <td>0</td>\n",
       "      <td>0</td>\n",
       "      <td>1</td>\n",
       "      <td>0</td>\n",
       "      <td>0</td>\n",
       "      <td>0</td>\n",
       "      <td>0</td>\n",
       "      <td>0</td>\n",
       "      <td>0</td>\n",
       "      <td>0</td>\n",
       "      <td>0</td>\n",
       "      <td>0</td>\n",
       "      <td>0</td>\n",
       "      <td>5.000000e+08</td>\n",
       "      <td>False</td>\n",
       "      <td>False</td>\n",
       "      <td>False</td>\n",
       "      <td>False</td>\n",
       "      <td>False</td>\n",
       "      <td>False</td>\n",
       "      <td>False</td>\n",
       "      <td>True</td>\n",
       "      <td>False</td>\n",
       "      <td>False</td>\n",
       "      <td>False</td>\n",
       "      <td>False</td>\n",
       "      <td>False</td>\n",
       "      <td>False</td>\n",
       "      <td>False</td>\n",
       "      <td>False</td>\n",
       "    </tr>\n",
       "    <tr>\n",
       "      <th>3</th>\n",
       "      <td>5739000</td>\n",
       "      <td>1295.00</td>\n",
       "      <td>3.0</td>\n",
       "      <td>1</td>\n",
       "      <td>0</td>\n",
       "      <td>0</td>\n",
       "      <td>0</td>\n",
       "      <td>0</td>\n",
       "      <td>0</td>\n",
       "      <td>0</td>\n",
       "      <td>0</td>\n",
       "      <td>0</td>\n",
       "      <td>0</td>\n",
       "      <td>0</td>\n",
       "      <td>0</td>\n",
       "      <td>0</td>\n",
       "      <td>0</td>\n",
       "      <td>0</td>\n",
       "      <td>1</td>\n",
       "      <td>0</td>\n",
       "      <td>0</td>\n",
       "      <td>0</td>\n",
       "      <td>0</td>\n",
       "      <td>0</td>\n",
       "      <td>0</td>\n",
       "      <td>0</td>\n",
       "      <td>0</td>\n",
       "      <td>0</td>\n",
       "      <td>0</td>\n",
       "      <td>1</td>\n",
       "      <td>0</td>\n",
       "      <td>0</td>\n",
       "      <td>0</td>\n",
       "      <td>0</td>\n",
       "      <td>0</td>\n",
       "      <td>0</td>\n",
       "      <td>0</td>\n",
       "      <td>0</td>\n",
       "      <td>0</td>\n",
       "      <td>4.431660e+08</td>\n",
       "      <td>False</td>\n",
       "      <td>False</td>\n",
       "      <td>False</td>\n",
       "      <td>False</td>\n",
       "      <td>False</td>\n",
       "      <td>False</td>\n",
       "      <td>False</td>\n",
       "      <td>False</td>\n",
       "      <td>False</td>\n",
       "      <td>False</td>\n",
       "      <td>False</td>\n",
       "      <td>False</td>\n",
       "      <td>False</td>\n",
       "      <td>False</td>\n",
       "      <td>False</td>\n",
       "      <td>True</td>\n",
       "    </tr>\n",
       "    <tr>\n",
       "      <th>4</th>\n",
       "      <td>5679000</td>\n",
       "      <td>1145.00</td>\n",
       "      <td>2.0</td>\n",
       "      <td>0</td>\n",
       "      <td>0</td>\n",
       "      <td>0</td>\n",
       "      <td>0</td>\n",
       "      <td>1</td>\n",
       "      <td>0</td>\n",
       "      <td>0</td>\n",
       "      <td>0</td>\n",
       "      <td>0</td>\n",
       "      <td>0</td>\n",
       "      <td>0</td>\n",
       "      <td>0</td>\n",
       "      <td>0</td>\n",
       "      <td>0</td>\n",
       "      <td>0</td>\n",
       "      <td>1</td>\n",
       "      <td>1</td>\n",
       "      <td>0</td>\n",
       "      <td>0</td>\n",
       "      <td>0</td>\n",
       "      <td>0</td>\n",
       "      <td>0</td>\n",
       "      <td>0</td>\n",
       "      <td>0</td>\n",
       "      <td>0</td>\n",
       "      <td>1</td>\n",
       "      <td>1</td>\n",
       "      <td>0</td>\n",
       "      <td>0</td>\n",
       "      <td>0</td>\n",
       "      <td>0</td>\n",
       "      <td>0</td>\n",
       "      <td>0</td>\n",
       "      <td>0</td>\n",
       "      <td>0</td>\n",
       "      <td>0</td>\n",
       "      <td>4.959825e+08</td>\n",
       "      <td>False</td>\n",
       "      <td>False</td>\n",
       "      <td>False</td>\n",
       "      <td>False</td>\n",
       "      <td>False</td>\n",
       "      <td>True</td>\n",
       "      <td>False</td>\n",
       "      <td>False</td>\n",
       "      <td>False</td>\n",
       "      <td>False</td>\n",
       "      <td>False</td>\n",
       "      <td>False</td>\n",
       "      <td>False</td>\n",
       "      <td>False</td>\n",
       "      <td>False</td>\n",
       "      <td>False</td>\n",
       "    </tr>\n",
       "  </tbody>\n",
       "</table>\n",
       "</div>"
      ],
      "text/plain": [
       "      Price     Area  No. of Bedrooms  Resale  MaintenanceStaff  Gymnasium  \\\n",
       "0   6968000  1340.00              2.0       0                 0          1   \n",
       "1  29000000  2928.75              4.0       0                 0          1   \n",
       "2   6590000  1318.00              2.0       0                 0          1   \n",
       "3   5739000  1295.00              3.0       1                 0          0   \n",
       "4   5679000  1145.00              2.0       0                 0          0   \n",
       "\n",
       "   SwimmingPool  LandscapedGardens  JoggingTrack  RainWaterHarvesting  \\\n",
       "0             1                  1             1                    1   \n",
       "1             1                  1             1                    1   \n",
       "2             0                  0             0                    0   \n",
       "3             0                  0             0                    0   \n",
       "4             0                  1             0                    0   \n",
       "\n",
       "   IndoorGames  ShoppingMall  Intercom  SportsFacility  ATM  ClubHouse  \\\n",
       "0            1             0         1               0    0          1   \n",
       "1            1             0         1               0    1          1   \n",
       "2            1             0         0               0    0          0   \n",
       "3            0             0         0               0    0          0   \n",
       "4            0             0         0               0    0          0   \n",
       "\n",
       "   School  24X7Security  PowerBackup  CarParking  StaffQuarter  Cafeteria  \\\n",
       "0       0             1            1           1             0          0   \n",
       "1       0             1            1           1             1          0   \n",
       "2       0             0            0           0             0          0   \n",
       "3       0             0            1           0             0          0   \n",
       "4       0             0            1           1             0          0   \n",
       "\n",
       "   MultipurposeRoom  Hospital  WashingMachine  Gasconnection  AC  Wifi  \\\n",
       "0                 1         0               0              0   0     0   \n",
       "1                 1         0               0              0   0     0   \n",
       "2                 1         0               0              0   0     0   \n",
       "3                 0         0               0              0   0     0   \n",
       "4                 0         0               0              0   0     0   \n",
       "\n",
       "   Children'splayarea  LiftAvailable  BED  VaastuCompliant  Microwave  \\\n",
       "0                   1              1    0                1          0   \n",
       "1                   1              1    0                1          0   \n",
       "2                   1              0    0                0          0   \n",
       "3                   0              1    0                0          0   \n",
       "4                   1              1    0                0          0   \n",
       "\n",
       "   GolfCourse  TV  DiningTable  Sofa  Wardrobe  Refrigerator  Price_per_sqft  \\\n",
       "0           0   0            0     0         0             0    5.200000e+08   \n",
       "1           0   0            0     0         0             0    9.901835e+08   \n",
       "2           0   0            0     0         0             0    5.000000e+08   \n",
       "3           0   0            0     0         0             0    4.431660e+08   \n",
       "4           0   0            0     0         0             0    4.959825e+08   \n",
       "\n",
       "   Location_Gachibowli  Location_Gajularamaram  Location_Hitech City  \\\n",
       "0                False                   False                 False   \n",
       "1                False                   False                  True   \n",
       "2                False                   False                 False   \n",
       "3                False                   False                 False   \n",
       "4                False                   False                 False   \n",
       "\n",
       "   Location_Kokapet  Location_Kondapur  Location_Kukatpally  \\\n",
       "0             False              False                False   \n",
       "1             False              False                False   \n",
       "2             False              False                False   \n",
       "3             False              False                False   \n",
       "4             False              False                 True   \n",
       "\n",
       "   Location_Madhapur  Location_Manikonda  Location_Miyapur  \\\n",
       "0              False               False             False   \n",
       "1              False               False             False   \n",
       "2              False                True             False   \n",
       "3              False               False             False   \n",
       "4              False               False             False   \n",
       "\n",
       "   Location_Nallagandla Gachibowli  Location_Nanakramguda  Location_Narsingi  \\\n",
       "0                            False                  False              False   \n",
       "1                            False                  False              False   \n",
       "2                            False                  False              False   \n",
       "3                            False                  False              False   \n",
       "4                            False                  False              False   \n",
       "\n",
       "   Location_Nizampet  Location_Puppalaguda  Location_Tellapur  Location_other  \n",
       "0               True                 False              False           False  \n",
       "1              False                 False              False           False  \n",
       "2              False                 False              False           False  \n",
       "3              False                 False              False            True  \n",
       "4              False                 False              False           False  "
      ]
     },
     "execution_count": 24,
     "metadata": {},
     "output_type": "execute_result"
    }
   ],
   "source": [
    "# get dummies\n",
    "hyderabad_dataset = pd.get_dummies(hyderabad_dataset, columns=['Location'], drop_first=True)\n",
    "hyderabad_dataset.head()"
   ]
  },
  {
   "cell_type": "code",
   "execution_count": 25,
   "metadata": {
    "execution": {
     "iopub.execute_input": "2020-09-09T11:20:22.421079Z",
     "iopub.status.busy": "2020-09-09T11:20:22.420255Z",
     "iopub.status.idle": "2020-09-09T11:20:22.424697Z",
     "shell.execute_reply": "2020-09-09T11:20:22.424092Z"
    },
    "papermill": {
     "duration": 0.052551,
     "end_time": "2020-09-09T11:20:22.424827",
     "exception": false,
     "start_time": "2020-09-09T11:20:22.372276",
     "status": "completed"
    },
    "tags": []
   },
   "outputs": [
    {
     "data": {
      "text/plain": [
       "((1998, 55), (1998,))"
      ]
     },
     "execution_count": 25,
     "metadata": {},
     "output_type": "execute_result"
    }
   ],
   "source": [
    "features = hyderabad_dataset.drop(['Price'], axis=1)\n",
    "label = hyderabad_dataset['Price']\n",
    "features.shape, label.shape"
   ]
  },
  {
   "cell_type": "code",
   "execution_count": 26,
   "metadata": {},
   "outputs": [
    {
     "data": {
      "text/plain": [
       "Index(['Price', 'Area', 'No. of Bedrooms', 'Resale', 'MaintenanceStaff',\n",
       "       'Gymnasium', 'SwimmingPool', 'LandscapedGardens', 'JoggingTrack',\n",
       "       'RainWaterHarvesting', 'IndoorGames', 'ShoppingMall', 'Intercom',\n",
       "       'SportsFacility', 'ATM', 'ClubHouse', 'School', '24X7Security',\n",
       "       'PowerBackup', 'CarParking', 'StaffQuarter', 'Cafeteria',\n",
       "       'MultipurposeRoom', 'Hospital', 'WashingMachine', 'Gasconnection', 'AC',\n",
       "       'Wifi', 'Children'splayarea', 'LiftAvailable', 'BED', 'VaastuCompliant',\n",
       "       'Microwave', 'GolfCourse', 'TV', 'DiningTable', 'Sofa', 'Wardrobe',\n",
       "       'Refrigerator', 'Price_per_sqft', 'Location_Gachibowli',\n",
       "       'Location_Gajularamaram', 'Location_Hitech City', 'Location_Kokapet',\n",
       "       'Location_Kondapur', 'Location_Kukatpally', 'Location_Madhapur',\n",
       "       'Location_Manikonda', 'Location_Miyapur',\n",
       "       'Location_Nallagandla Gachibowli', 'Location_Nanakramguda',\n",
       "       'Location_Narsingi', 'Location_Nizampet', 'Location_Puppalaguda',\n",
       "       'Location_Tellapur', 'Location_other'],\n",
       "      dtype='object')"
      ]
     },
     "execution_count": 26,
     "metadata": {},
     "output_type": "execute_result"
    }
   ],
   "source": [
    "hyderabad_dataset.columns"
   ]
  },
  {
   "cell_type": "code",
   "execution_count": 27,
   "metadata": {
    "execution": {
     "iopub.execute_input": "2020-09-09T11:20:22.509548Z",
     "iopub.status.busy": "2020-09-09T11:20:22.508784Z",
     "iopub.status.idle": "2020-09-09T11:20:29.157913Z",
     "shell.execute_reply": "2020-09-09T11:20:29.158480Z"
    },
    "papermill": {
     "duration": 6.696468,
     "end_time": "2020-09-09T11:20:29.158642",
     "exception": false,
     "start_time": "2020-09-09T11:20:22.462174",
     "status": "completed"
    },
    "tags": []
   },
   "outputs": [
    {
     "data": {
      "image/png": "[encoded data removed]",
      "text/plain": [
       "<Figure size 1200x500 with 1 Axes>"
      ]
     },
     "metadata": {},
     "output_type": "display_data"
    }
   ],
   "source": [
    "plt.figure(figsize=(12,5))\n",
    "from sklearn.ensemble import ExtraTreesRegressor\n",
    "etr = ExtraTreesRegressor()\n",
    "etr.fit(features, label)\n",
    "feature_importance = pd.Series(etr.feature_importances_, index=features.columns)\n",
    "feature_importance.nlargest(20).plot(kind='barh')\n",
    "plt.show()"
   ]
  },
  {
   "cell_type": "markdown",
   "metadata": {
    "papermill": {
     "duration": 0.037567,
     "end_time": "2020-09-09T11:20:29.234076",
     "exception": false,
     "start_time": "2020-09-09T11:20:29.196509",
     "status": "completed"
    },
    "tags": []
   },
   "source": [
    "* Correlation matrix shows Area, No. of Bedrooms, Resale, LiftAvailable, Gasconnection, Wardrobe are importance have good correlation with label and are important features."
   ]
  },
  {
   "cell_type": "markdown",
   "metadata": {
    "papermill": {
     "duration": 0.037666,
     "end_time": "2020-09-09T11:20:29.309704",
     "exception": false,
     "start_time": "2020-09-09T11:20:29.272038",
     "status": "completed"
    },
    "tags": []
   },
   "source": [
    "# Splitting data into train and test"
   ]
  },
  {
   "cell_type": "code",
   "execution_count": 28,
   "metadata": {
    "execution": {
     "iopub.execute_input": "2020-09-09T11:20:29.708335Z",
     "iopub.status.busy": "2020-09-09T11:20:29.705623Z",
     "iopub.status.idle": "2020-09-09T11:20:29.827876Z",
     "shell.execute_reply": "2020-09-09T11:20:29.827309Z"
    },
    "papermill": {
     "duration": 0.169251,
     "end_time": "2020-09-09T11:20:29.828018",
     "exception": false,
     "start_time": "2020-09-09T11:20:29.658767",
     "status": "completed"
    },
    "tags": []
   },
   "outputs": [
    {
     "data": {
      "text/plain": [
       "((1398, 24), (600, 24), (1398,), (600,))"
      ]
     },
     "execution_count": 28,
     "metadata": {},
     "output_type": "execute_result"
    }
   ],
   "source": [
    "features = ['MaintenanceStaff','Gymnasium','SwimmingPool','LandscapedGardens','JoggingTrack','RainWaterHarvesting',\n",
    "            'IndoorGames','ShoppingMall','Intercom','SportsFacility','ATM','ClubHouse','School','24X7Security',\n",
    "            'PowerBackup','CarParking','StaffQuarter','Cafeteria','MultipurposeRoom','Hospital','WashingMachine',\n",
    "            'AC','Wifi','BED','VaastuCompliant','Microwave','GolfCourse','TV','DiningTable',\n",
    "            'Sofa','Refrigerator']\n",
    "selected_features = hyderabad_dataset.drop(hyderabad_dataset[features], axis=1)\n",
    "selected_features.drop(['Price'], axis=1, inplace=True)\n",
    "from sklearn.model_selection import train_test_split\n",
    "features_train, features_test, label_train, label_test = train_test_split(selected_features, label, test_size=0.3, random_state=40)\n",
    "features_train.shape, features_test.shape, label_train.shape, label_test.shape"
   ]
  },
  {
   "cell_type": "code",
   "execution_count": 29,
   "metadata": {},
   "outputs": [
    {
     "data": {
      "text/html": [
       "<div>\n",
       "<style scoped>\n",
       "    .dataframe tbody tr th:only-of-type {\n",
       "        vertical-align: middle;\n",
       "    }\n",
       "\n",
       "    .dataframe tbody tr th {\n",
       "        vertical-align: top;\n",
       "    }\n",
       "\n",
       "    .dataframe thead th {\n",
       "        text-align: right;\n",
       "    }\n",
       "</style>\n",
       "<table border=\"1\" class=\"dataframe\">\n",
       "  <thead>\n",
       "    <tr style=\"text-align: right;\">\n",
       "      <th></th>\n",
       "      <th>Area</th>\n",
       "      <th>No. of Bedrooms</th>\n",
       "      <th>Resale</th>\n",
       "      <th>Gasconnection</th>\n",
       "      <th>Children'splayarea</th>\n",
       "      <th>LiftAvailable</th>\n",
       "      <th>Wardrobe</th>\n",
       "      <th>Price_per_sqft</th>\n",
       "      <th>Location_Gachibowli</th>\n",
       "      <th>Location_Gajularamaram</th>\n",
       "      <th>Location_Hitech City</th>\n",
       "      <th>Location_Kokapet</th>\n",
       "      <th>Location_Kondapur</th>\n",
       "      <th>Location_Kukatpally</th>\n",
       "      <th>Location_Madhapur</th>\n",
       "      <th>Location_Manikonda</th>\n",
       "      <th>Location_Miyapur</th>\n",
       "      <th>Location_Nallagandla Gachibowli</th>\n",
       "      <th>Location_Nanakramguda</th>\n",
       "      <th>Location_Narsingi</th>\n",
       "      <th>Location_Nizampet</th>\n",
       "      <th>Location_Puppalaguda</th>\n",
       "      <th>Location_Tellapur</th>\n",
       "      <th>Location_other</th>\n",
       "    </tr>\n",
       "  </thead>\n",
       "  <tbody>\n",
       "    <tr>\n",
       "      <th>0</th>\n",
       "      <td>1340.00</td>\n",
       "      <td>2.0</td>\n",
       "      <td>0</td>\n",
       "      <td>0</td>\n",
       "      <td>1</td>\n",
       "      <td>1</td>\n",
       "      <td>0</td>\n",
       "      <td>5.200000e+08</td>\n",
       "      <td>False</td>\n",
       "      <td>False</td>\n",
       "      <td>False</td>\n",
       "      <td>False</td>\n",
       "      <td>False</td>\n",
       "      <td>False</td>\n",
       "      <td>False</td>\n",
       "      <td>False</td>\n",
       "      <td>False</td>\n",
       "      <td>False</td>\n",
       "      <td>False</td>\n",
       "      <td>False</td>\n",
       "      <td>True</td>\n",
       "      <td>False</td>\n",
       "      <td>False</td>\n",
       "      <td>False</td>\n",
       "    </tr>\n",
       "    <tr>\n",
       "      <th>1</th>\n",
       "      <td>2928.75</td>\n",
       "      <td>4.0</td>\n",
       "      <td>0</td>\n",
       "      <td>0</td>\n",
       "      <td>1</td>\n",
       "      <td>1</td>\n",
       "      <td>0</td>\n",
       "      <td>9.901835e+08</td>\n",
       "      <td>False</td>\n",
       "      <td>False</td>\n",
       "      <td>True</td>\n",
       "      <td>False</td>\n",
       "      <td>False</td>\n",
       "      <td>False</td>\n",
       "      <td>False</td>\n",
       "      <td>False</td>\n",
       "      <td>False</td>\n",
       "      <td>False</td>\n",
       "      <td>False</td>\n",
       "      <td>False</td>\n",
       "      <td>False</td>\n",
       "      <td>False</td>\n",
       "      <td>False</td>\n",
       "      <td>False</td>\n",
       "    </tr>\n",
       "    <tr>\n",
       "      <th>2</th>\n",
       "      <td>1318.00</td>\n",
       "      <td>2.0</td>\n",
       "      <td>0</td>\n",
       "      <td>0</td>\n",
       "      <td>1</td>\n",
       "      <td>0</td>\n",
       "      <td>0</td>\n",
       "      <td>5.000000e+08</td>\n",
       "      <td>False</td>\n",
       "      <td>False</td>\n",
       "      <td>False</td>\n",
       "      <td>False</td>\n",
       "      <td>False</td>\n",
       "      <td>False</td>\n",
       "      <td>False</td>\n",
       "      <td>True</td>\n",
       "      <td>False</td>\n",
       "      <td>False</td>\n",
       "      <td>False</td>\n",
       "      <td>False</td>\n",
       "      <td>False</td>\n",
       "      <td>False</td>\n",
       "      <td>False</td>\n",
       "      <td>False</td>\n",
       "    </tr>\n",
       "    <tr>\n",
       "      <th>3</th>\n",
       "      <td>1295.00</td>\n",
       "      <td>3.0</td>\n",
       "      <td>1</td>\n",
       "      <td>0</td>\n",
       "      <td>0</td>\n",
       "      <td>1</td>\n",
       "      <td>0</td>\n",
       "      <td>4.431660e+08</td>\n",
       "      <td>False</td>\n",
       "      <td>False</td>\n",
       "      <td>False</td>\n",
       "      <td>False</td>\n",
       "      <td>False</td>\n",
       "      <td>False</td>\n",
       "      <td>False</td>\n",
       "      <td>False</td>\n",
       "      <td>False</td>\n",
       "      <td>False</td>\n",
       "      <td>False</td>\n",
       "      <td>False</td>\n",
       "      <td>False</td>\n",
       "      <td>False</td>\n",
       "      <td>False</td>\n",
       "      <td>True</td>\n",
       "    </tr>\n",
       "    <tr>\n",
       "      <th>4</th>\n",
       "      <td>1145.00</td>\n",
       "      <td>2.0</td>\n",
       "      <td>0</td>\n",
       "      <td>0</td>\n",
       "      <td>1</td>\n",
       "      <td>1</td>\n",
       "      <td>0</td>\n",
       "      <td>4.959825e+08</td>\n",
       "      <td>False</td>\n",
       "      <td>False</td>\n",
       "      <td>False</td>\n",
       "      <td>False</td>\n",
       "      <td>False</td>\n",
       "      <td>True</td>\n",
       "      <td>False</td>\n",
       "      <td>False</td>\n",
       "      <td>False</td>\n",
       "      <td>False</td>\n",
       "      <td>False</td>\n",
       "      <td>False</td>\n",
       "      <td>False</td>\n",
       "      <td>False</td>\n",
       "      <td>False</td>\n",
       "      <td>False</td>\n",
       "    </tr>\n",
       "  </tbody>\n",
       "</table>\n",
       "</div>"
      ],
      "text/plain": [
       "      Area  No. of Bedrooms  Resale  Gasconnection  Children'splayarea  \\\n",
       "0  1340.00              2.0       0              0                   1   \n",
       "1  2928.75              4.0       0              0                   1   \n",
       "2  1318.00              2.0       0              0                   1   \n",
       "3  1295.00              3.0       1              0                   0   \n",
       "4  1145.00              2.0       0              0                   1   \n",
       "\n",
       "   LiftAvailable  Wardrobe  Price_per_sqft  Location_Gachibowli  \\\n",
       "0              1         0    5.200000e+08                False   \n",
       "1              1         0    9.901835e+08                False   \n",
       "2              0         0    5.000000e+08                False   \n",
       "3              1         0    4.431660e+08                False   \n",
       "4              1         0    4.959825e+08                False   \n",
       "\n",
       "   Location_Gajularamaram  Location_Hitech City  Location_Kokapet  \\\n",
       "0                   False                 False             False   \n",
       "1                   False                  True             False   \n",
       "2                   False                 False             False   \n",
       "3                   False                 False             False   \n",
       "4                   False                 False             False   \n",
       "\n",
       "   Location_Kondapur  Location_Kukatpally  Location_Madhapur  \\\n",
       "0              False                False              False   \n",
       "1              False                False              False   \n",
       "2              False                False              False   \n",
       "3              False                False              False   \n",
       "4              False                 True              False   \n",
       "\n",
       "   Location_Manikonda  Location_Miyapur  Location_Nallagandla Gachibowli  \\\n",
       "0               False             False                            False   \n",
       "1               False             False                            False   \n",
       "2                True             False                            False   \n",
       "3               False             False                            False   \n",
       "4               False             False                            False   \n",
       "\n",
       "   Location_Nanakramguda  Location_Narsingi  Location_Nizampet  \\\n",
       "0                  False              False               True   \n",
       "1                  False              False              False   \n",
       "2                  False              False              False   \n",
       "3                  False              False              False   \n",
       "4                  False              False              False   \n",
       "\n",
       "   Location_Puppalaguda  Location_Tellapur  Location_other  \n",
       "0                 False              False           False  \n",
       "1                 False              False           False  \n",
       "2                 False              False           False  \n",
       "3                 False              False            True  \n",
       "4                 False              False           False  "
      ]
     },
     "execution_count": 29,
     "metadata": {},
     "output_type": "execute_result"
    }
   ],
   "source": [
    "selected_features.head()"
   ]
  },
  {
   "cell_type": "markdown",
   "metadata": {},
   "source": [
    "# Imprt Model\n"
   ]
  },
  {
   "cell_type": "code",
   "execution_count": 30,
   "metadata": {},
   "outputs": [
    {
     "data": {
      "text/plain": [
       "0.9476085996855591"
      ]
     },
     "execution_count": 30,
     "metadata": {},
     "output_type": "execute_result"
    }
   ],
   "source": [
    "from sklearn.linear_model import LinearRegression\n",
    "lr = LinearRegression()\n",
    "lr.fit(features_train, label_train)\n",
    "lr.score(features_test, label_test)\n"
   ]
  },
  {
   "cell_type": "code",
   "execution_count": 31,
   "metadata": {},
   "outputs": [
    {
     "data": {
      "text/plain": [
       "['Area',\n",
       " 'No. of Bedrooms',\n",
       " 'Resale',\n",
       " 'Gasconnection',\n",
       " \"Children'splayarea\",\n",
       " 'LiftAvailable',\n",
       " 'Wardrobe',\n",
       " 'Price_per_sqft',\n",
       " 'Location_Gachibowli',\n",
       " 'Location_Gajularamaram',\n",
       " 'Location_Hitech City',\n",
       " 'Location_Kokapet',\n",
       " 'Location_Kondapur',\n",
       " 'Location_Kukatpally',\n",
       " 'Location_Madhapur',\n",
       " 'Location_Manikonda',\n",
       " 'Location_Miyapur',\n",
       " 'Location_Nallagandla Gachibowli',\n",
       " 'Location_Nanakramguda',\n",
       " 'Location_Narsingi',\n",
       " 'Location_Nizampet',\n",
       " 'Location_Puppalaguda',\n",
       " 'Location_Tellapur',\n",
       " 'Location_other']"
      ]
     },
     "execution_count": 31,
     "metadata": {},
     "output_type": "execute_result"
    }
   ],
   "source": [
    "list(selected_features.columns)"
   ]
  },
  {
   "cell_type": "code",
   "execution_count": null,
   "metadata": {},
   "outputs": [],
   "source": []
  },
  {
   "cell_type": "code",
   "execution_count": null,
   "metadata": {},
   "outputs": [],
   "source": []
  },
  {
   "cell_type": "markdown",
   "metadata": {
    "papermill": {
     "duration": 0.037666,
     "end_time": "2020-09-09T11:20:29.903530",
     "exception": false,
     "start_time": "2020-09-09T11:20:29.865864",
     "status": "completed"
    },
    "tags": []
   },
   "source": [
    "# Defining parameters for hyperparameter tuning"
   ]
  },
  {
   "cell_type": "code",
   "execution_count": 32,
   "metadata": {
    "execution": {
     "iopub.execute_input": "2020-09-09T11:20:29.989791Z",
     "iopub.status.busy": "2020-09-09T11:20:29.988837Z",
     "iopub.status.idle": "2020-09-09T11:20:29.991874Z",
     "shell.execute_reply": "2020-09-09T11:20:29.991323Z"
    },
    "papermill": {
     "duration": 0.050278,
     "end_time": "2020-09-09T11:20:29.992016",
     "exception": false,
     "start_time": "2020-09-09T11:20:29.941738",
     "status": "completed"
    },
    "tags": []
   },
   "outputs": [],
   "source": [
    "#Number of trees in random forest\n",
    "n_estimators = [int(x) for x in np.linspace(start=100, stop=1200, num=12)]\n",
    "\n",
    "#Number of features to consider in every split\n",
    "max_features = ['auto', 'sqrt']\n",
    "\n",
    "#Maximum number of levels in a tree\n",
    "max_depth = [int(x) for x in np.linspace(start=5, stop=30, num=6)]\n",
    "\n",
    "#Minimum number of samples required to split a node\n",
    "min_samples_split = [2, 5, 10, 15, 100]\n",
    "\n",
    "#Minimum number of samples required at each leaf node\n",
    "min_samples_leaf = [1, 2, 5, 10]"
   ]
  },
  {
   "cell_type": "code",
   "execution_count": 33,
   "metadata": {
    "execution": {
     "iopub.execute_input": "2020-09-09T11:20:30.075097Z",
     "iopub.status.busy": "2020-09-09T11:20:30.074352Z",
     "iopub.status.idle": "2020-09-09T11:20:30.077891Z",
     "shell.execute_reply": "2020-09-09T11:20:30.077156Z"
    },
    "papermill": {
     "duration": 0.047821,
     "end_time": "2020-09-09T11:20:30.078037",
     "exception": false,
     "start_time": "2020-09-09T11:20:30.030216",
     "status": "completed"
    },
    "tags": []
   },
   "outputs": [],
   "source": [
    "#Random Grid\n",
    "random_grid = {'n_estimators' : n_estimators,\n",
    "              'max_features' : max_features,\n",
    "              'max_depth' : max_depth,\n",
    "              'min_samples_split' : min_samples_split,\n",
    "              'min_samples_leaf' : min_samples_leaf}"
   ]
  },
  {
   "cell_type": "markdown",
   "metadata": {
    "papermill": {
     "duration": 0.038017,
     "end_time": "2020-09-09T11:20:30.154263",
     "exception": false,
     "start_time": "2020-09-09T11:20:30.116246",
     "status": "completed"
    },
    "tags": []
   },
   "source": [
    "# Model Building - Random Forest and Randomized Search CV"
   ]
  },
  {
   "cell_type": "code",
   "execution_count": 34,
   "metadata": {
    "execution": {
     "iopub.execute_input": "2020-09-09T11:20:30.241201Z",
     "iopub.status.busy": "2020-09-09T11:20:30.240067Z",
     "iopub.status.idle": "2020-09-09T12:26:42.640707Z",
     "shell.execute_reply": "2020-09-09T12:26:42.641410Z"
    },
    "papermill": {
     "duration": 3972.449163,
     "end_time": "2020-09-09T12:26:42.641611",
     "exception": false,
     "start_time": "2020-09-09T11:20:30.192448",
     "status": "completed"
    },
    "tags": []
   },
   "outputs": [
    {
     "name": "stdout",
     "output_type": "stream",
     "text": [
      "Fitting 5 folds for each of 10 candidates, totalling 50 fits\n",
      "[CV] END max_depth=10, max_features=sqrt, min_samples_leaf=5, min_samples_split=5, n_estimators=900; total time=   1.3s\n",
      "[CV] END max_depth=10, max_features=sqrt, min_samples_leaf=5, min_samples_split=5, n_estimators=900; total time=   1.2s\n",
      "[CV] END max_depth=10, max_features=sqrt, min_samples_leaf=5, min_samples_split=5, n_estimators=900; total time=   1.5s\n",
      "[CV] END max_depth=10, max_features=sqrt, min_samples_leaf=5, min_samples_split=5, n_estimators=900; total time=   1.5s\n",
      "[CV] END max_depth=10, max_features=sqrt, min_samples_leaf=5, min_samples_split=5, n_estimators=900; total time=   1.5s\n",
      "[CV] END max_depth=15, max_features=sqrt, min_samples_leaf=2, min_samples_split=10, n_estimators=1100; total time=   1.8s\n",
      "[CV] END max_depth=15, max_features=sqrt, min_samples_leaf=2, min_samples_split=10, n_estimators=1100; total time=   1.7s\n",
      "[CV] END max_depth=15, max_features=sqrt, min_samples_leaf=2, min_samples_split=10, n_estimators=1100; total time=   1.8s\n",
      "[CV] END max_depth=15, max_features=sqrt, min_samples_leaf=2, min_samples_split=10, n_estimators=1100; total time=   1.7s\n",
      "[CV] END max_depth=15, max_features=sqrt, min_samples_leaf=2, min_samples_split=10, n_estimators=1100; total time=   1.7s\n",
      "[CV] END max_depth=15, max_features=auto, min_samples_leaf=5, min_samples_split=100, n_estimators=300; total time=   0.0s\n",
      "[CV] END max_depth=15, max_features=auto, min_samples_leaf=5, min_samples_split=100, n_estimators=300; total time=   0.0s\n",
      "[CV] END max_depth=15, max_features=auto, min_samples_leaf=5, min_samples_split=100, n_estimators=300; total time=   0.0s\n",
      "[CV] END max_depth=15, max_features=auto, min_samples_leaf=5, min_samples_split=100, n_estimators=300; total time=   0.0s\n",
      "[CV] END max_depth=15, max_features=auto, min_samples_leaf=5, min_samples_split=100, n_estimators=300; total time=   0.0s\n",
      "[CV] END max_depth=15, max_features=auto, min_samples_leaf=5, min_samples_split=5, n_estimators=400; total time=   0.0s\n",
      "[CV] END max_depth=15, max_features=auto, min_samples_leaf=5, min_samples_split=5, n_estimators=400; total time=   0.0s\n",
      "[CV] END max_depth=15, max_features=auto, min_samples_leaf=5, min_samples_split=5, n_estimators=400; total time=   0.0s\n",
      "[CV] END max_depth=15, max_features=auto, min_samples_leaf=5, min_samples_split=5, n_estimators=400; total time=   0.0s\n",
      "[CV] END max_depth=15, max_features=auto, min_samples_leaf=5, min_samples_split=5, n_estimators=400; total time=   0.0s\n",
      "[CV] END max_depth=20, max_features=auto, min_samples_leaf=10, min_samples_split=5, n_estimators=700; total time=   0.0s\n",
      "[CV] END max_depth=20, max_features=auto, min_samples_leaf=10, min_samples_split=5, n_estimators=700; total time=   0.0s\n",
      "[CV] END max_depth=20, max_features=auto, min_samples_leaf=10, min_samples_split=5, n_estimators=700; total time=   0.0s\n",
      "[CV] END max_depth=20, max_features=auto, min_samples_leaf=10, min_samples_split=5, n_estimators=700; total time=   0.0s\n",
      "[CV] END max_depth=20, max_features=auto, min_samples_leaf=10, min_samples_split=5, n_estimators=700; total time=   0.0s\n",
      "[CV] END max_depth=25, max_features=sqrt, min_samples_leaf=1, min_samples_split=2, n_estimators=1000; total time=   2.2s\n",
      "[CV] END max_depth=25, max_features=sqrt, min_samples_leaf=1, min_samples_split=2, n_estimators=1000; total time=   2.2s\n",
      "[CV] END max_depth=25, max_features=sqrt, min_samples_leaf=1, min_samples_split=2, n_estimators=1000; total time=   2.2s\n",
      "[CV] END max_depth=25, max_features=sqrt, min_samples_leaf=1, min_samples_split=2, n_estimators=1000; total time=   2.2s\n",
      "[CV] END max_depth=25, max_features=sqrt, min_samples_leaf=1, min_samples_split=2, n_estimators=1000; total time=   2.4s\n",
      "[CV] END max_depth=5, max_features=sqrt, min_samples_leaf=10, min_samples_split=15, n_estimators=1100; total time=   1.9s\n",
      "[CV] END max_depth=5, max_features=sqrt, min_samples_leaf=10, min_samples_split=15, n_estimators=1100; total time=   2.0s\n",
      "[CV] END max_depth=5, max_features=sqrt, min_samples_leaf=10, min_samples_split=15, n_estimators=1100; total time=   1.4s\n",
      "[CV] END max_depth=5, max_features=sqrt, min_samples_leaf=10, min_samples_split=15, n_estimators=1100; total time=   1.4s\n",
      "[CV] END max_depth=5, max_features=sqrt, min_samples_leaf=10, min_samples_split=15, n_estimators=1100; total time=   1.4s\n",
      "[CV] END max_depth=15, max_features=sqrt, min_samples_leaf=1, min_samples_split=15, n_estimators=300; total time=   0.5s\n",
      "[CV] END max_depth=15, max_features=sqrt, min_samples_leaf=1, min_samples_split=15, n_estimators=300; total time=   0.5s\n",
      "[CV] END max_depth=15, max_features=sqrt, min_samples_leaf=1, min_samples_split=15, n_estimators=300; total time=   0.6s\n",
      "[CV] END max_depth=15, max_features=sqrt, min_samples_leaf=1, min_samples_split=15, n_estimators=300; total time=   0.4s\n",
      "[CV] END max_depth=15, max_features=sqrt, min_samples_leaf=1, min_samples_split=15, n_estimators=300; total time=   0.4s\n",
      "[CV] END max_depth=5, max_features=sqrt, min_samples_leaf=2, min_samples_split=10, n_estimators=700; total time=   0.9s\n",
      "[CV] END max_depth=5, max_features=sqrt, min_samples_leaf=2, min_samples_split=10, n_estimators=700; total time=   0.9s\n",
      "[CV] END max_depth=5, max_features=sqrt, min_samples_leaf=2, min_samples_split=10, n_estimators=700; total time=   0.8s\n",
      "[CV] END max_depth=5, max_features=sqrt, min_samples_leaf=2, min_samples_split=10, n_estimators=700; total time=   0.9s\n",
      "[CV] END max_depth=5, max_features=sqrt, min_samples_leaf=2, min_samples_split=10, n_estimators=700; total time=   0.9s\n",
      "[CV] END max_depth=20, max_features=auto, min_samples_leaf=1, min_samples_split=15, n_estimators=700; total time=   0.0s\n",
      "[CV] END max_depth=20, max_features=auto, min_samples_leaf=1, min_samples_split=15, n_estimators=700; total time=   0.0s\n",
      "[CV] END max_depth=20, max_features=auto, min_samples_leaf=1, min_samples_split=15, n_estimators=700; total time=   0.0s\n",
      "[CV] END max_depth=20, max_features=auto, min_samples_leaf=1, min_samples_split=15, n_estimators=700; total time=   0.0s\n",
      "[CV] END max_depth=20, max_features=auto, min_samples_leaf=1, min_samples_split=15, n_estimators=700; total time=   0.0s\n"
     ]
    },
    {
     "data": {
      "text/html": [
       "<style>#sk-container-id-1 {color: black;}#sk-container-id-1 pre{padding: 0;}#sk-container-id-1 div.sk-toggleable {background-color: white;}#sk-container-id-1 label.sk-toggleable__label {cursor: pointer;display: block;width: 100%;margin-bottom: 0;padding: 0.3em;box-sizing: border-box;text-align: center;}#sk-container-id-1 label.sk-toggleable__label-arrow:before {content: \"▸\";float: left;margin-right: 0.25em;color: #696969;}#sk-container-id-1 label.sk-toggleable__label-arrow:hover:before {color: black;}#sk-container-id-1 div.sk-estimator:hover label.sk-toggleable__label-arrow:before {color: black;}#sk-container-id-1 div.sk-toggleable__content {max-height: 0;max-width: 0;overflow: hidden;text-align: left;background-color: #f0f8ff;}#sk-container-id-1 div.sk-toggleable__content pre {margin: 0.2em;color: black;border-radius: 0.25em;background-color: #f0f8ff;}#sk-container-id-1 input.sk-toggleable__control:checked~div.sk-toggleable__content {max-height: 200px;max-width: 100%;overflow: auto;}#sk-container-id-1 input.sk-toggleable__control:checked~label.sk-toggleable__label-arrow:before {content: \"▾\";}#sk-container-id-1 div.sk-estimator input.sk-toggleable__control:checked~label.sk-toggleable__label {background-color: #d4ebff;}#sk-container-id-1 div.sk-label input.sk-toggleable__control:checked~label.sk-toggleable__label {background-color: #d4ebff;}#sk-container-id-1 input.sk-hidden--visually {border: 0;clip: rect(1px 1px 1px 1px);clip: rect(1px, 1px, 1px, 1px);height: 1px;margin: -1px;overflow: hidden;padding: 0;position: absolute;width: 1px;}#sk-container-id-1 div.sk-estimator {font-family: monospace;background-color: #f0f8ff;border: 1px dotted black;border-radius: 0.25em;box-sizing: border-box;margin-bottom: 0.5em;}#sk-container-id-1 div.sk-estimator:hover {background-color: #d4ebff;}#sk-container-id-1 div.sk-parallel-item::after {content: \"\";width: 100%;border-bottom: 1px solid gray;flex-grow: 1;}#sk-container-id-1 div.sk-label:hover label.sk-toggleable__label {background-color: #d4ebff;}#sk-container-id-1 div.sk-serial::before {content: \"\";position: absolute;border-left: 1px solid gray;box-sizing: border-box;top: 0;bottom: 0;left: 50%;z-index: 0;}#sk-container-id-1 div.sk-serial {display: flex;flex-direction: column;align-items: center;background-color: white;padding-right: 0.2em;padding-left: 0.2em;position: relative;}#sk-container-id-1 div.sk-item {position: relative;z-index: 1;}#sk-container-id-1 div.sk-parallel {display: flex;align-items: stretch;justify-content: center;background-color: white;position: relative;}#sk-container-id-1 div.sk-item::before, #sk-container-id-1 div.sk-parallel-item::before {content: \"\";position: absolute;border-left: 1px solid gray;box-sizing: border-box;top: 0;bottom: 0;left: 50%;z-index: -1;}#sk-container-id-1 div.sk-parallel-item {display: flex;flex-direction: column;z-index: 1;position: relative;background-color: white;}#sk-container-id-1 div.sk-parallel-item:first-child::after {align-self: flex-end;width: 50%;}#sk-container-id-1 div.sk-parallel-item:last-child::after {align-self: flex-start;width: 50%;}#sk-container-id-1 div.sk-parallel-item:only-child::after {width: 0;}#sk-container-id-1 div.sk-dashed-wrapped {border: 1px dashed gray;margin: 0 0.4em 0.5em 0.4em;box-sizing: border-box;padding-bottom: 0.4em;background-color: white;}#sk-container-id-1 div.sk-label label {font-family: monospace;font-weight: bold;display: inline-block;line-height: 1.2em;}#sk-container-id-1 div.sk-label-container {text-align: center;}#sk-container-id-1 div.sk-container {/* jupyter's `normalize.less` sets `[hidden] { display: none; }` but bootstrap.min.css set `[hidden] { display: none !important; }` so we also need the `!important` here to be able to override the default hidden behavior on the sphinx rendered scikit-learn.org. See: https://github.com/scikit-learn/scikit-learn/issues/21755 */display: inline-block !important;position: relative;}#sk-container-id-1 div.sk-text-repr-fallback {display: none;}</style><div id=\"sk-container-id-1\" class=\"sk-top-container\"><div class=\"sk-text-repr-fallback\"><pre>RandomizedSearchCV(cv=5, estimator=RandomForestRegressor(), n_jobs=1,\n",
       "                   param_distributions={&#x27;max_depth&#x27;: [5, 10, 15, 20, 25, 30],\n",
       "                                        &#x27;max_features&#x27;: [&#x27;auto&#x27;, &#x27;sqrt&#x27;],\n",
       "                                        &#x27;min_samples_leaf&#x27;: [1, 2, 5, 10],\n",
       "                                        &#x27;min_samples_split&#x27;: [2, 5, 10, 15,\n",
       "                                                              100],\n",
       "                                        &#x27;n_estimators&#x27;: [100, 200, 300, 400,\n",
       "                                                         500, 600, 700, 800,\n",
       "                                                         900, 1000, 1100,\n",
       "                                                         1200]},\n",
       "                   random_state=42, scoring=&#x27;neg_mean_squared_error&#x27;,\n",
       "                   verbose=2)</pre><b>In a Jupyter environment, please rerun this cell to show the HTML representation or trust the notebook. <br />On GitHub, the HTML representation is unable to render, please try loading this page with nbviewer.org.</b></div><div class=\"sk-container\" hidden><div class=\"sk-item sk-dashed-wrapped\"><div class=\"sk-label-container\"><div class=\"sk-label sk-toggleable\"><input class=\"sk-toggleable__control sk-hidden--visually\" id=\"sk-estimator-id-1\" type=\"checkbox\" ><label for=\"sk-estimator-id-1\" class=\"sk-toggleable__label sk-toggleable__label-arrow\">RandomizedSearchCV</label><div class=\"sk-toggleable__content\"><pre>RandomizedSearchCV(cv=5, estimator=RandomForestRegressor(), n_jobs=1,\n",
       "                   param_distributions={&#x27;max_depth&#x27;: [5, 10, 15, 20, 25, 30],\n",
       "                                        &#x27;max_features&#x27;: [&#x27;auto&#x27;, &#x27;sqrt&#x27;],\n",
       "                                        &#x27;min_samples_leaf&#x27;: [1, 2, 5, 10],\n",
       "                                        &#x27;min_samples_split&#x27;: [2, 5, 10, 15,\n",
       "                                                              100],\n",
       "                                        &#x27;n_estimators&#x27;: [100, 200, 300, 400,\n",
       "                                                         500, 600, 700, 800,\n",
       "                                                         900, 1000, 1100,\n",
       "                                                         1200]},\n",
       "                   random_state=42, scoring=&#x27;neg_mean_squared_error&#x27;,\n",
       "                   verbose=2)</pre></div></div></div><div class=\"sk-parallel\"><div class=\"sk-parallel-item\"><div class=\"sk-item\"><div class=\"sk-label-container\"><div class=\"sk-label sk-toggleable\"><input class=\"sk-toggleable__control sk-hidden--visually\" id=\"sk-estimator-id-2\" type=\"checkbox\" ><label for=\"sk-estimator-id-2\" class=\"sk-toggleable__label sk-toggleable__label-arrow\">estimator: RandomForestRegressor</label><div class=\"sk-toggleable__content\"><pre>RandomForestRegressor()</pre></div></div></div><div class=\"sk-serial\"><div class=\"sk-item\"><div class=\"sk-estimator sk-toggleable\"><input class=\"sk-toggleable__control sk-hidden--visually\" id=\"sk-estimator-id-3\" type=\"checkbox\" ><label for=\"sk-estimator-id-3\" class=\"sk-toggleable__label sk-toggleable__label-arrow\">RandomForestRegressor</label><div class=\"sk-toggleable__content\"><pre>RandomForestRegressor()</pre></div></div></div></div></div></div></div></div></div></div>"
      ],
      "text/plain": [
       "RandomizedSearchCV(cv=5, estimator=RandomForestRegressor(), n_jobs=1,\n",
       "                   param_distributions={'max_depth': [5, 10, 15, 20, 25, 30],\n",
       "                                        'max_features': ['auto', 'sqrt'],\n",
       "                                        'min_samples_leaf': [1, 2, 5, 10],\n",
       "                                        'min_samples_split': [2, 5, 10, 15,\n",
       "                                                              100],\n",
       "                                        'n_estimators': [100, 200, 300, 400,\n",
       "                                                         500, 600, 700, 800,\n",
       "                                                         900, 1000, 1100,\n",
       "                                                         1200]},\n",
       "                   random_state=42, scoring='neg_mean_squared_error',\n",
       "                   verbose=2)"
      ]
     },
     "execution_count": 34,
     "metadata": {},
     "output_type": "execute_result"
    }
   ],
   "source": [
    "from sklearn.model_selection import RandomizedSearchCV\n",
    "from sklearn.ensemble import RandomForestRegressor\n",
    "random_forest = RandomForestRegressor()\n",
    "random_forest_model = RandomizedSearchCV(estimator=random_forest, param_distributions=random_grid, n_jobs=1, random_state=42,\n",
    "                                        cv=5, n_iter=10, verbose=2, scoring='neg_mean_squared_error')\n",
    "random_forest_model.fit(features_train, label_train)"
   ]
  },
  {
   "cell_type": "markdown",
   "metadata": {
    "papermill": {
     "duration": 0.048376,
     "end_time": "2020-09-09T12:26:42.735786",
     "exception": false,
     "start_time": "2020-09-09T12:26:42.687410",
     "status": "completed"
    },
    "tags": []
   },
   "source": [
    "# Predicitng the house prices"
   ]
  },
  {
   "cell_type": "code",
   "execution_count": 35,
   "metadata": {
    "execution": {
     "iopub.execute_input": "2020-09-09T12:26:42.849171Z",
     "iopub.status.busy": "2020-09-09T12:26:42.848203Z",
     "iopub.status.idle": "2020-09-09T12:26:43.619199Z",
     "shell.execute_reply": "2020-09-09T12:26:43.618444Z"
    },
    "papermill": {
     "duration": 0.838464,
     "end_time": "2020-09-09T12:26:43.619324",
     "exception": false,
     "start_time": "2020-09-09T12:26:42.780860",
     "status": "completed"
    },
    "tags": []
   },
   "outputs": [
    {
     "data": {
      "text/plain": [
       "array([ 3769562.        , 16004525.        , 42164099.997     ,\n",
       "       10684567.526547  , 28254799.999     ,  6386321.991     ,\n",
       "       32010199.999     , 42709300.        ,  5346603.993     ,\n",
       "        8039999.785     , 23737709.999     ,  8680179.72875   ,\n",
       "        7234889.978     ,  9102018.843     ,  7180566.936     ,\n",
       "       28448500.        ,  4493582.82352941, 30701500.        ,\n",
       "       10219602.97331818,  4203188.22422796,  8155866.786     ,\n",
       "       10450004.96627273,  4958957.        , 10299396.498     ,\n",
       "        4809718.14285714, 10695858.        ,  3080009.        ,\n",
       "        4071052.33143271,  6353708.84      , 18760600.        ,\n",
       "       19791274.        ,  8408823.1964299 ,  9138278.992     ,\n",
       "       11740556.64966667, 15104400.        ,  8811452.14258487,\n",
       "       20525383.997     , 12396177.9999    ,  8014316.61667777,\n",
       "        4719683.26346323,  3917580.65      , 11057573.8884819 ,\n",
       "        6741055.78685714,  4861220.        ,  6248825.70728571,\n",
       "       16664798.        , 17836393.971     , 10964430.53348439,\n",
       "       11330095.89638095, 15404507.994     , 36634599.997     ,\n",
       "       11374059.68292073,  7275666.39661905,  3614699.09509524,\n",
       "        4065329.        , 33187099.97575   ,  7279061.984     ,\n",
       "        4891636.983     ,  7615139.        , 10099233.997     ,\n",
       "       15385584.994     ,  8134267.991     ,  5898176.998     ,\n",
       "        3812696.9920931 ,  8183021.30433333, 12316780.6454359 ,\n",
       "        8505109.27747619,  3793269.998     ,  9642686.997     ,\n",
       "        9129811.44541094,  9112076.91      ,  7133653.792     ,\n",
       "        6974350.78211605, 14805003.25      , 13087578.978     ,\n",
       "        7152639.621     ,  3241256.66666667,  6255920.02573333,\n",
       "        4009853.48656565, 30968400.        ,  4426500.87895238,\n",
       "        5869137.        ,  4429686.31666667,  4765188.1       ,\n",
       "       10626920.89436372, 11551886.976     , 11905935.02364103,\n",
       "        3630266.65916667,  9409627.31011111,  2756430.        ,\n",
       "        3900327.2265873 , 10501805.44957506, 10512326.21664337,\n",
       "        4212806.        , 10293498.5823612 ,  9430380.80745086,\n",
       "        4812224.993     ,  5024038.994     , 10449056.90056765,\n",
       "       12252691.5638848 ,  8970133.52386508,  9805395.978     ,\n",
       "        8325983.94295455, 30202682.        , 27292702.994     ,\n",
       "        3900327.2265873 ,  3798234.740625  ,  4501704.05583257,\n",
       "        8631281.849     , 10449056.90056765,  8599410.992     ,\n",
       "        6754145.912     ,  5365336.24244444,  5361956.992     ,\n",
       "        4762469.        , 24333325.        ,  6539774.979     ,\n",
       "        5645282.959     ,  6043341.998     , 42156800.        ,\n",
       "        8598003.07624073, 13060909.18366667, 10390428.982     ,\n",
       "        8163829.85466667,  8413687.57639286,  5404824.33333333,\n",
       "        2062131.5625    , 55492300.        ,  5835980.998     ,\n",
       "       32159999.998     ,  3823234.16416667, 10835881.99990476,\n",
       "       16107743.9878    ,  6033379.461     , 18354995.993     ,\n",
       "       13102557.997     , 12134745.999     ,  3929997.        ,\n",
       "        6604743.82833333,  5227102.999     ,  7662358.992     ,\n",
       "       10184250.97431818,  4638113.        ,  4229530.54765124,\n",
       "        7788999.20048341, 15226132.989     ,  5753749.72610714,\n",
       "        4648118.        ,  7467916.28504762,  6802892.999     ,\n",
       "       12197566.65266667, 10684567.526547  ,  5026714.999     ,\n",
       "        7204609.70333333,  6403169.995     ,  4130298.16190476,\n",
       "       13116590.33233333,  6668613.14469697,  6316264.64066667,\n",
       "        7303052.392     , 22181341.65066667,  9150845.65366667,\n",
       "       15222497.999     ,  3773715.89285714,  7990441.72748809,\n",
       "        7513030.993     ,  5543728.57875   ,  4436464.1665    ,\n",
       "        8350089.75377814, 10736062.15262039,  3710355.67783883,\n",
       "        7900872.06688636,  6159414.987     ,  4204773.82257143,\n",
       "        6232433.949     ,  5043537.        , 16227068.999     ,\n",
       "        7222723.99      ,  7153960.51725749,  9889010.978     ,\n",
       "        4387369.        ,  7058491.40561605, 14742512.997     ,\n",
       "        9967408.982     , 11150562.998     , 11198053.67939813,\n",
       "        7369778.51514286,  3554222.92631746,  5378661.992     ,\n",
       "       17521200.        , 15700366.997     ,  6635454.        ,\n",
       "        8793099.31033333,  2415612.        ,  8832196.70284707,\n",
       "        7980739.65721501, 24944616.        , 10804974.56552273,\n",
       "        7125755.018     , 10594835.93863031,  7170178.162     ,\n",
       "       12017298.67195624, 39548100.        , 12387562.10652381,\n",
       "        8475793.21433333, 13022418.82966667,  8388659.12174243,\n",
       "        4944749.999     ,  9702375.00564676, 25586900.        ,\n",
       "        5366407.44044444, 23847200.        ,  4838708.799     ,\n",
       "        6312158.999     ,  6455885.        ,  4378825.4       ,\n",
       "       12456257.99      , 10616158.754     ,  2971837.1625    ,\n",
       "        8659991.03620238,  7436152.896     ,  4147134.33946574,\n",
       "       17986700.        ,  3900327.2265873 ,  7046508.86861364,\n",
       "       11162833.50662268,  5593539.        , 10051240.996     ,\n",
       "       46608800.        , 12167448.46119048,  9312915.64444444,\n",
       "        6347378.33033333,  3571483.30933333,  8828622.6685    ,\n",
       "       13170528.983     , 11722760.99098864, 26019000.        ,\n",
       "        3714971.        ,  4702307.        , 10829201.39285714,\n",
       "       27377582.        ,  9495464.70405152, 15554271.996     ,\n",
       "        7969408.24604285, 15239100.        ,  8170933.51655397,\n",
       "       23067100.        , 10026843.3175824 , 28785100.        ,\n",
       "        6148033.985     , 14332126.        ,  8562378.88166667,\n",
       "       11156578.18320527, 14489499.999     , 37973000.        ,\n",
       "       23307500.        ,  7921742.35869697, 11090273.65512064,\n",
       "       11286953.35607705,  3719465.67364392,  8381583.58039286,\n",
       "       11125615.994     ,  9457265.17361818,  5705710.8       ,\n",
       "        4011016.        , 17734498.        ,  7827033.717     ,\n",
       "       10351188.986     , 15014245.        ,  6891518.27371429,\n",
       "        4365449.988     ,  8532136.67427778,  9123182.87      ,\n",
       "        4620832.71428571,  7990441.72748809,  6637024.50858799,\n",
       "        7109651.018     ,  4345108.998     , 12189379.973     ,\n",
       "        8444332.998     ,  8023010.961     ,  9285503.992     ,\n",
       "        3573297.7735098 ,  7225392.998     ,  3899711.        ,\n",
       "       10428040.32933333,  9589348.03903572,  6145431.695     ,\n",
       "        8269856.958     ,  9023555.25633333,  3111472.33233333,\n",
       "       32264800.        ,  8375296.61736364, 20957514.        ,\n",
       "        4754960.96588831, 18648922.999     , 11162833.50662268,\n",
       "        4637501.58333333,  4766091.05442857,  5059028.998     ,\n",
       "        3575916.07142857,  5285245.        ,  8052488.916     ,\n",
       "       18668900.        ,  9976666.996     ,  7662212.99666667,\n",
       "        5233273.67919848, 16564856.999     ,  3232046.998     ,\n",
       "        9668950.83075815, 10136041.98      ,  8063300.47123332,\n",
       "       11123836.33717587,  4512370.        ,  8188635.89775694,\n",
       "        8712505.853     ,  6304262.05      , 11334452.55693333,\n",
       "       36513224.92775   ,  9437057.57142857, 10032201.966     ,\n",
       "        3888896.31633333, 12347974.27583333, 14960794.999     ,\n",
       "        3900327.2265873 ,  6622680.749     ,  7446890.973     ,\n",
       "        8643896.768     ,  6326904.45614286,  5675181.976     ,\n",
       "        8862628.992     ,  4835418.        ,  4306587.33333333,\n",
       "       40264499.998     ,  9488076.9674    ,  5984365.196     ,\n",
       "        4670275.56842857, 17692064.99      ,  8726092.61297619,\n",
       "        6932919.998     ,  7722670.956     ,  8617913.67627778,\n",
       "       11240938.24178888,  5121896.574     ,  8299523.45049384,\n",
       "        6025892.56833333,  7842350.996     ,  4002768.99002941,\n",
       "        6702758.349     , 10096200.941     , 14918058.32633333,\n",
       "        3017680.        ,  6433782.21787619,  4299541.        ,\n",
       "        3375992.1495    , 17087399.99576923,  4955021.        ,\n",
       "        7830165.87943723, 11072369.993     , 15105265.57142857,\n",
       "        4787378.        ,  5724697.991     , 28785100.        ,\n",
       "       10876083.76070952, 25902597.        ,  5504054.33333333,\n",
       "        5556823.997     , 10791779.50474023,  6773267.982     ,\n",
       "        5764379.979     ,  6094381.499     ,  4449268.02388869,\n",
       "       16227068.999     ,  9479258.02447676, 21115389.32716667,\n",
       "        3555283.7735098 ,  6609745.        ,  3272829.10997346,\n",
       "        8422351.997     ,  7368440.984     ,  7863217.397     ,\n",
       "       30613500.        ,  9237970.979     , 10919393.16833333,\n",
       "       18918399.997     ,  8141767.08620238,  7650472.93716739,\n",
       "       11955168.15303043,  6384235.886     ,  5281829.        ,\n",
       "        3922253.33033333,  7260108.71166667,  2801317.        ,\n",
       "        4982442.65      , 22182557.        ,  9488064.992     ,\n",
       "        3891129.        ,  9594097.88738961, 12210048.46019047,\n",
       "       25198700.        ,  4355002.58471429,  3573510.        ,\n",
       "       40801299.95975   ,  6193854.33333333,  3887967.75      ,\n",
       "       31800800.        ,  8607917.06323809, 32504099.975875  ,\n",
       "       12911512.438625  ,  4631614.5318196 , 36022289.        ,\n",
       "        4644058.66666667,  8593736.748     ,  3980828.76200717,\n",
       "       43812200.        , 11296831.2666491 ,  9104015.55794872,\n",
       "        5559185.999     ,  8312836.9895    ,  9231820.39322222,\n",
       "        5525060.        ,  4719547.47258148,  4215942.6605324 ,\n",
       "        7205752.03022987, 10940249.77566907,  3845967.        ,\n",
       "       16227068.999     ,  6635454.        ,  4518119.46039103,\n",
       "        8445765.30533333,  5893993.493     ,  9233187.5778416 ,\n",
       "        8343791.32617302, 12970949.        ,  4620938.26003872,\n",
       "        4081397.8       , 11938579.9698    , 33001899.980875  ,\n",
       "       10964430.53348439,  5276400.999     ,  5798269.        ,\n",
       "       14481129.30866667, 17413700.        ,  6008389.953     ,\n",
       "        9177802.996     ,  5971349.        ,  7729534.96      ,\n",
       "        3562098.993     , 18349010.        ,  4291612.9       ,\n",
       "        9709913.36657143, 14627428.47519048,  4586210.5       ,\n",
       "       11054841.999     , 12318639.99      ,  6621603.        ,\n",
       "        6371977.33133333, 11539074.944     ,  4603016.95238095,\n",
       "        4132368.16235684, 56342500.        , 17510558.        ,\n",
       "        9933489.963     ,  4405115.38492064,  8570874.22533333,\n",
       "       10748505.32033333,  9430380.80745086,  4764711.23282831,\n",
       "        4022560.998     ,  4990369.82933333, 10246439.64136323,\n",
       "        3732563.50769231,  3859664.89185714, 11529378.58588915,\n",
       "       12037906.56942857,  8943093.75666667,  6432621.929     ,\n",
       "       11771919.999     , 25213400.        , 11960921.32533333,\n",
       "        5753749.72610714,  5592261.        , 10187836.90276923,\n",
       "        8358093.983     ,  8479614.26175   ,  5118648.15      ,\n",
       "        6913852.51780952,  8208088.34087435,  5554713.66666667,\n",
       "       10033743.66366667,  5974625.        , 15385584.994     ,\n",
       "       17007255.995     , 29079900.        , 31361425.        ,\n",
       "        6624682.987     , 13173487.957     , 11926573.30633333,\n",
       "       29142400.        ,  7711178.55114286,  9651302.995     ,\n",
       "        4164722.59130719,  7122819.7966875 ,  7978910.09472063,\n",
       "        7761321.948     ,  4617748.1       ,  3555846.        ,\n",
       "       11794319.23108333,  7671060.49220238,  5496315.939     ,\n",
       "        8082377.707     , 27877199.99675   , 13948420.56642857,\n",
       "       42535399.997     ,  6316327.11111111,  8659991.03620238,\n",
       "        5709697.59275   ,  8324885.665     ,  8469124.03375253,\n",
       "        8634867.685     , 25701609.998875  ,  3789968.        ,\n",
       "        7517553.977     ,  5172335.        , 36796856.964     ,\n",
       "       11162833.50662268,  7902386.979     ,  3488486.30569231,\n",
       "        4617219.60123596,  7419271.937     ,  3939540.998     ,\n",
       "        4213072.82244225,  4977397.999     ,  4603016.95238095,\n",
       "        6514746.16366667,  8094737.60530575,  4771096.        ,\n",
       "        4713513.33333333,  4739709.59447386,  4874292.60471426,\n",
       "       16689219.997     , 15053200.        ,  5182944.66847619,\n",
       "        4121344.82352941,  8414553.656     ,  4542560.82352941,\n",
       "        5340327.33333333, 11149258.66016667, 17864500.        ,\n",
       "        4559320.        , 11340217.29469432,  6596528.15166667,\n",
       "        5374525.53965873,  5786521.998     ,  7583097.985     ,\n",
       "       18720894.999     , 10051931.801     , 11444117.31833333,\n",
       "       10118144.5578001 ,  3980396.        ,  3312608.1665    ,\n",
       "        9539653.925     ,  9364023.958     , 27198000.        ,\n",
       "       14809825.        , 15270700.993     ,  8265073.90686111,\n",
       "       31299000.        , 31537900.        , 14037235.998     ,\n",
       "        6940896.403     , 11177902.26587612,  5836637.93      ,\n",
       "        8971319.7345    , 10729553.991     ,  5732232.981     ,\n",
       "        3345989.33333333, 10073409.875     ,  8066328.99      ,\n",
       "        7829073.988     ,  3551398.        , 43571500.        ,\n",
       "        5815597.        , 10255299.26693939,  4274687.66666667,\n",
       "        6572210.        , 12572562.26933333,  4569326.33333333,\n",
       "       18064500.        ,  4957906.6325    ,  8674734.984     ,\n",
       "        4230662.83333333, 13756293.991     ,  7041994.        ,\n",
       "        4465956.38392064, 11017560.77847189, 41821849.98975   ,\n",
       "        7886951.4       ,  9227724.60969733, 10490300.7037587 ])"
      ]
     },
     "execution_count": 35,
     "metadata": {},
     "output_type": "execute_result"
    }
   ],
   "source": [
    "label_pred = random_forest_model.predict(features_test)\n",
    "label_pred"
   ]
  },
  {
   "cell_type": "markdown",
   "metadata": {
    "papermill": {
     "duration": 0.044648,
     "end_time": "2020-09-09T12:26:43.708422",
     "exception": false,
     "start_time": "2020-09-09T12:26:43.663774",
     "status": "completed"
    },
    "tags": []
   },
   "source": [
    "# Evaluating the model performance"
   ]
  },
  {
   "cell_type": "code",
   "execution_count": 36,
   "metadata": {
    "execution": {
     "iopub.execute_input": "2020-09-09T12:26:43.821508Z",
     "iopub.status.busy": "2020-09-09T12:26:43.820324Z",
     "iopub.status.idle": "2020-09-09T12:26:45.489422Z",
     "shell.execute_reply": "2020-09-09T12:26:45.488636Z"
    },
    "papermill": {
     "duration": 1.735458,
     "end_time": "2020-09-09T12:26:45.489551",
     "exception": false,
     "start_time": "2020-09-09T12:26:43.754093",
     "status": "completed"
    },
    "tags": []
   },
   "outputs": [
    {
     "data": {
      "text/plain": [
       "0.9959325240788951"
      ]
     },
     "execution_count": 36,
     "metadata": {},
     "output_type": "execute_result"
    }
   ],
   "source": [
    "from sklearn.metrics import r2_score\n",
    "r2_score(label_train, random_forest_model.predict(features_train))"
   ]
  },
  {
   "cell_type": "code",
   "execution_count": 37,
   "metadata": {
    "execution": {
     "iopub.execute_input": "2020-09-09T12:26:45.586749Z",
     "iopub.status.busy": "2020-09-09T12:26:45.585932Z",
     "iopub.status.idle": "2020-09-09T12:26:47.537571Z",
     "shell.execute_reply": "2020-09-09T12:26:47.536942Z"
    },
    "papermill": {
     "duration": 2.002545,
     "end_time": "2020-09-09T12:26:47.537701",
     "exception": false,
     "start_time": "2020-09-09T12:26:45.535156",
     "status": "completed"
    },
    "tags": []
   },
   "outputs": [
    {
     "data": {
      "image/png": "[encoded data removed]",
      "text/plain": [
       "<Figure size 1200x500 with 1 Axes>"
      ]
     },
     "metadata": {},
     "output_type": "display_data"
    }
   ],
   "source": [
    "plt.figure(figsize=(12,5))\n",
    "sns.distplot(label_train-random_forest_model.predict(features_train))\n",
    "plt.show()"
   ]
  },
  {
   "cell_type": "code",
   "execution_count": 38,
   "metadata": {
    "execution": {
     "iopub.execute_input": "2020-09-09T12:26:47.650277Z",
     "iopub.status.busy": "2020-09-09T12:26:47.649481Z",
     "iopub.status.idle": "2020-09-09T12:26:48.426450Z",
     "shell.execute_reply": "2020-09-09T12:26:48.425665Z"
    },
    "papermill": {
     "duration": 0.843609,
     "end_time": "2020-09-09T12:26:48.426583",
     "exception": false,
     "start_time": "2020-09-09T12:26:47.582974",
     "status": "completed"
    },
    "tags": []
   },
   "outputs": [
    {
     "data": {
      "text/plain": [
       "0.7116062803741835"
      ]
     },
     "execution_count": 38,
     "metadata": {},
     "output_type": "execute_result"
    }
   ],
   "source": [
    "r2_score(label_test, random_forest_model.predict(features_test))"
   ]
  },
  {
   "cell_type": "code",
   "execution_count": 39,
   "metadata": {
    "execution": {
     "iopub.execute_input": "2020-09-09T12:26:48.549241Z",
     "iopub.status.busy": "2020-09-09T12:26:48.547730Z",
     "iopub.status.idle": "2020-09-09T12:26:49.617300Z",
     "shell.execute_reply": "2020-09-09T12:26:49.616649Z"
    },
    "papermill": {
     "duration": 1.145196,
     "end_time": "2020-09-09T12:26:49.617425",
     "exception": false,
     "start_time": "2020-09-09T12:26:48.472229",
     "status": "completed"
    },
    "tags": []
   },
   "outputs": [
    {
     "data": {
      "image/png": "[encoded data removed]",
      "text/plain": [
       "<Figure size 1200x500 with 1 Axes>"
      ]
     },
     "metadata": {},
     "output_type": "display_data"
    }
   ],
   "source": [
    "plt.figure(figsize=(12,5))\n",
    "sns.distplot(label_test-random_forest_model.predict(features_test))\n",
    "plt.show()"
   ]
  },
  {
   "cell_type": "code",
   "execution_count": 40,
   "metadata": {},
   "outputs": [],
   "source": [
    "#save the model to disk\n",
    "import pickle\n",
    "filename = 'hyderabad_house_price_model.pkl'\n",
    "pickle.dump(random_forest_model, open(filename, 'wb'))\n",
    "\n"
   ]
  }
 ],
 "metadata": {
  "kernelspec": {
   "display_name": "Python 3",
   "language": "python",
   "name": "python3"
  },
  "language_info": {
   "codemirror_mode": {
    "name": "ipython",
    "version": 3
   },
   "file_extension": ".py",
   "mimetype": "text/x-python",
   "name": "python",
   "nbconvert_exporter": "python",
   "pygments_lexer": "ipython3",
   "version": "3.12.0"
  },
  "papermill": {
   "duration": 4013.738237,
   "end_time": "2020-09-09T12:26:49.770804",
   "environment_variables": {},
   "exception": null,
   "input_path": "__notebook__.ipynb",
   "output_path": "__notebook__.ipynb",
   "parameters": {},
   "start_time": "2020-09-09T11:19:56.032567",
   "version": "2.1.0"
  }
 },
 "nbformat": 4,
 "nbformat_minor": 4
}
