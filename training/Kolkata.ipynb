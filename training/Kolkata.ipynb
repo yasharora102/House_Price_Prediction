{
 "cells": [
  {
   "cell_type": "markdown",
   "metadata": {
    "papermill": {
     "duration": 0.019425,
     "end_time": "2020-09-09T11:20:02.063002",
     "exception": false,
     "start_time": "2020-09-09T11:20:02.043577",
     "status": "completed"
    },
    "tags": []
   },
   "source": [
    "# Importing the dataset"
   ]
  },
  {
   "cell_type": "code",
   "execution_count": 2,
   "metadata": {},
   "outputs": [],
   "source": [
    "import numpy as np # linear algebra\n",
    "import pandas as pd # data processing, CSV file I/O (e.g. pd.read_csv)\n",
    "import matplotlib.pyplot as plt\n",
    "import seaborn as sns\n",
    "%matplotlib inline\n",
    "\n",
    "import warnings\n",
    "warnings.filterwarnings('ignore')"
   ]
  },
  {
   "cell_type": "code",
   "execution_count": 3,
   "metadata": {
    "_cell_guid": "79c7e3d0-c299-4dcb-8224-4455121ee9b0",
    "_uuid": "d629ff2d2480ee46fbb7e2d37f6b5fab8052498a",
    "execution": {
     "iopub.execute_input": "2020-09-09T11:20:02.120213Z",
     "iopub.status.busy": "2020-09-09T11:20:02.119453Z",
     "iopub.status.idle": "2020-09-09T11:20:02.360160Z",
     "shell.execute_reply": "2020-09-09T11:20:02.359360Z"
    },
    "papermill": {
     "duration": 0.277489,
     "end_time": "2020-09-09T11:20:02.360299",
     "exception": false,
     "start_time": "2020-09-09T11:20:02.082810",
     "status": "completed"
    },
    "tags": []
   },
   "outputs": [],
   "source": [
    "kolkata_dataset = pd.read_csv('Kolkata.csv')"
   ]
  },
  {
   "cell_type": "markdown",
   "metadata": {
    "papermill": {
     "duration": 0.021177,
     "end_time": "2020-09-09T11:20:02.401060",
     "exception": false,
     "start_time": "2020-09-09T11:20:02.379883",
     "status": "completed"
    },
    "tags": []
   },
   "source": [
    "# No of records in each city dataset "
   ]
  },
  {
   "cell_type": "code",
   "execution_count": 4,
   "metadata": {
    "execution": {
     "iopub.execute_input": "2020-09-09T11:20:02.448674Z",
     "iopub.status.busy": "2020-09-09T11:20:02.447763Z",
     "iopub.status.idle": "2020-09-09T11:20:02.451678Z",
     "shell.execute_reply": "2020-09-09T11:20:02.452425Z"
    },
    "papermill": {
     "duration": 0.031958,
     "end_time": "2020-09-09T11:20:02.452599",
     "exception": false,
     "start_time": "2020-09-09T11:20:02.420641",
     "status": "completed"
    },
    "tags": []
   },
   "outputs": [
    {
     "data": {
      "text/plain": [
       "(6507, 40)"
      ]
     },
     "execution_count": 4,
     "metadata": {},
     "output_type": "execute_result"
    }
   ],
   "source": [
    "# kolkata_dataset.shape, kolkata_dataset.shape, kolkata_dataset.shape, mumbai_dataset.shape\n",
    "kolkata_dataset.shape"
   ]
  },
  {
   "cell_type": "markdown",
   "metadata": {
    "papermill": {
     "duration": 0.019735,
     "end_time": "2020-09-09T11:20:02.492165",
     "exception": false,
     "start_time": "2020-09-09T11:20:02.472430",
     "status": "completed"
    },
    "tags": []
   },
   "source": [
    "# Displaying top rows of each city dataset"
   ]
  },
  {
   "cell_type": "code",
   "execution_count": 5,
   "metadata": {
    "execution": {
     "iopub.execute_input": "2020-09-09T11:20:02.554716Z",
     "iopub.status.busy": "2020-09-09T11:20:02.553666Z",
     "iopub.status.idle": "2020-09-09T11:20:02.573434Z",
     "shell.execute_reply": "2020-09-09T11:20:02.574031Z"
    },
    "papermill": {
     "duration": 0.061852,
     "end_time": "2020-09-09T11:20:02.574193",
     "exception": false,
     "start_time": "2020-09-09T11:20:02.512341",
     "status": "completed"
    },
    "tags": []
   },
   "outputs": [
    {
     "data": {
      "text/html": [
       "<div>\n",
       "<style scoped>\n",
       "    .dataframe tbody tr th:only-of-type {\n",
       "        vertical-align: middle;\n",
       "    }\n",
       "\n",
       "    .dataframe tbody tr th {\n",
       "        vertical-align: top;\n",
       "    }\n",
       "\n",
       "    .dataframe thead th {\n",
       "        text-align: right;\n",
       "    }\n",
       "</style>\n",
       "<table border=\"1\" class=\"dataframe\">\n",
       "  <thead>\n",
       "    <tr style=\"text-align: right;\">\n",
       "      <th></th>\n",
       "      <th>Price</th>\n",
       "      <th>Area</th>\n",
       "      <th>Location</th>\n",
       "      <th>No. of Bedrooms</th>\n",
       "      <th>Resale</th>\n",
       "      <th>MaintenanceStaff</th>\n",
       "      <th>Gymnasium</th>\n",
       "      <th>SwimmingPool</th>\n",
       "      <th>LandscapedGardens</th>\n",
       "      <th>JoggingTrack</th>\n",
       "      <th>RainWaterHarvesting</th>\n",
       "      <th>IndoorGames</th>\n",
       "      <th>ShoppingMall</th>\n",
       "      <th>Intercom</th>\n",
       "      <th>SportsFacility</th>\n",
       "      <th>ATM</th>\n",
       "      <th>ClubHouse</th>\n",
       "      <th>School</th>\n",
       "      <th>24X7Security</th>\n",
       "      <th>PowerBackup</th>\n",
       "      <th>CarParking</th>\n",
       "      <th>StaffQuarter</th>\n",
       "      <th>Cafeteria</th>\n",
       "      <th>MultipurposeRoom</th>\n",
       "      <th>Hospital</th>\n",
       "      <th>WashingMachine</th>\n",
       "      <th>Gasconnection</th>\n",
       "      <th>AC</th>\n",
       "      <th>Wifi</th>\n",
       "      <th>Children'splayarea</th>\n",
       "      <th>LiftAvailable</th>\n",
       "      <th>BED</th>\n",
       "      <th>VaastuCompliant</th>\n",
       "      <th>Microwave</th>\n",
       "      <th>GolfCourse</th>\n",
       "      <th>TV</th>\n",
       "      <th>DiningTable</th>\n",
       "      <th>Sofa</th>\n",
       "      <th>Wardrobe</th>\n",
       "      <th>Refrigerator</th>\n",
       "    </tr>\n",
       "  </thead>\n",
       "  <tbody>\n",
       "    <tr>\n",
       "      <th>0</th>\n",
       "      <td>2235000</td>\n",
       "      <td>1016</td>\n",
       "      <td>Barasat</td>\n",
       "      <td>3</td>\n",
       "      <td>0</td>\n",
       "      <td>0</td>\n",
       "      <td>1</td>\n",
       "      <td>1</td>\n",
       "      <td>1</td>\n",
       "      <td>1</td>\n",
       "      <td>0</td>\n",
       "      <td>1</td>\n",
       "      <td>0</td>\n",
       "      <td>1</td>\n",
       "      <td>0</td>\n",
       "      <td>0</td>\n",
       "      <td>0</td>\n",
       "      <td>0</td>\n",
       "      <td>1</td>\n",
       "      <td>1</td>\n",
       "      <td>0</td>\n",
       "      <td>0</td>\n",
       "      <td>0</td>\n",
       "      <td>0</td>\n",
       "      <td>0</td>\n",
       "      <td>0</td>\n",
       "      <td>0</td>\n",
       "      <td>0</td>\n",
       "      <td>0</td>\n",
       "      <td>1</td>\n",
       "      <td>1</td>\n",
       "      <td>0</td>\n",
       "      <td>0</td>\n",
       "      <td>0</td>\n",
       "      <td>0</td>\n",
       "      <td>0</td>\n",
       "      <td>0</td>\n",
       "      <td>0</td>\n",
       "      <td>0</td>\n",
       "      <td>0</td>\n",
       "    </tr>\n",
       "    <tr>\n",
       "      <th>1</th>\n",
       "      <td>3665999</td>\n",
       "      <td>1111</td>\n",
       "      <td>Keshtopur</td>\n",
       "      <td>2</td>\n",
       "      <td>0</td>\n",
       "      <td>1</td>\n",
       "      <td>1</td>\n",
       "      <td>0</td>\n",
       "      <td>1</td>\n",
       "      <td>1</td>\n",
       "      <td>0</td>\n",
       "      <td>0</td>\n",
       "      <td>0</td>\n",
       "      <td>1</td>\n",
       "      <td>0</td>\n",
       "      <td>0</td>\n",
       "      <td>0</td>\n",
       "      <td>0</td>\n",
       "      <td>1</td>\n",
       "      <td>1</td>\n",
       "      <td>0</td>\n",
       "      <td>0</td>\n",
       "      <td>0</td>\n",
       "      <td>0</td>\n",
       "      <td>0</td>\n",
       "      <td>0</td>\n",
       "      <td>0</td>\n",
       "      <td>0</td>\n",
       "      <td>0</td>\n",
       "      <td>1</td>\n",
       "      <td>0</td>\n",
       "      <td>0</td>\n",
       "      <td>0</td>\n",
       "      <td>0</td>\n",
       "      <td>0</td>\n",
       "      <td>0</td>\n",
       "      <td>0</td>\n",
       "      <td>0</td>\n",
       "      <td>0</td>\n",
       "      <td>0</td>\n",
       "    </tr>\n",
       "    <tr>\n",
       "      <th>2</th>\n",
       "      <td>3774000</td>\n",
       "      <td>1020</td>\n",
       "      <td>Rajarhat</td>\n",
       "      <td>2</td>\n",
       "      <td>0</td>\n",
       "      <td>0</td>\n",
       "      <td>1</td>\n",
       "      <td>0</td>\n",
       "      <td>0</td>\n",
       "      <td>0</td>\n",
       "      <td>0</td>\n",
       "      <td>0</td>\n",
       "      <td>0</td>\n",
       "      <td>0</td>\n",
       "      <td>0</td>\n",
       "      <td>0</td>\n",
       "      <td>0</td>\n",
       "      <td>0</td>\n",
       "      <td>1</td>\n",
       "      <td>1</td>\n",
       "      <td>0</td>\n",
       "      <td>0</td>\n",
       "      <td>0</td>\n",
       "      <td>0</td>\n",
       "      <td>0</td>\n",
       "      <td>0</td>\n",
       "      <td>0</td>\n",
       "      <td>0</td>\n",
       "      <td>0</td>\n",
       "      <td>0</td>\n",
       "      <td>1</td>\n",
       "      <td>0</td>\n",
       "      <td>0</td>\n",
       "      <td>0</td>\n",
       "      <td>0</td>\n",
       "      <td>0</td>\n",
       "      <td>0</td>\n",
       "      <td>0</td>\n",
       "      <td>0</td>\n",
       "      <td>0</td>\n",
       "    </tr>\n",
       "    <tr>\n",
       "      <th>3</th>\n",
       "      <td>2524000</td>\n",
       "      <td>935</td>\n",
       "      <td>Narendrapur</td>\n",
       "      <td>2</td>\n",
       "      <td>0</td>\n",
       "      <td>0</td>\n",
       "      <td>1</td>\n",
       "      <td>1</td>\n",
       "      <td>1</td>\n",
       "      <td>1</td>\n",
       "      <td>0</td>\n",
       "      <td>1</td>\n",
       "      <td>0</td>\n",
       "      <td>1</td>\n",
       "      <td>0</td>\n",
       "      <td>0</td>\n",
       "      <td>1</td>\n",
       "      <td>0</td>\n",
       "      <td>1</td>\n",
       "      <td>1</td>\n",
       "      <td>0</td>\n",
       "      <td>0</td>\n",
       "      <td>0</td>\n",
       "      <td>0</td>\n",
       "      <td>0</td>\n",
       "      <td>0</td>\n",
       "      <td>0</td>\n",
       "      <td>0</td>\n",
       "      <td>0</td>\n",
       "      <td>1</td>\n",
       "      <td>0</td>\n",
       "      <td>0</td>\n",
       "      <td>0</td>\n",
       "      <td>0</td>\n",
       "      <td>0</td>\n",
       "      <td>0</td>\n",
       "      <td>0</td>\n",
       "      <td>0</td>\n",
       "      <td>0</td>\n",
       "      <td>0</td>\n",
       "    </tr>\n",
       "    <tr>\n",
       "      <th>4</th>\n",
       "      <td>8300000</td>\n",
       "      <td>1956</td>\n",
       "      <td>New Town</td>\n",
       "      <td>3</td>\n",
       "      <td>1</td>\n",
       "      <td>0</td>\n",
       "      <td>1</td>\n",
       "      <td>1</td>\n",
       "      <td>1</td>\n",
       "      <td>1</td>\n",
       "      <td>1</td>\n",
       "      <td>1</td>\n",
       "      <td>0</td>\n",
       "      <td>1</td>\n",
       "      <td>1</td>\n",
       "      <td>0</td>\n",
       "      <td>1</td>\n",
       "      <td>0</td>\n",
       "      <td>1</td>\n",
       "      <td>1</td>\n",
       "      <td>1</td>\n",
       "      <td>1</td>\n",
       "      <td>1</td>\n",
       "      <td>1</td>\n",
       "      <td>0</td>\n",
       "      <td>0</td>\n",
       "      <td>0</td>\n",
       "      <td>0</td>\n",
       "      <td>0</td>\n",
       "      <td>1</td>\n",
       "      <td>1</td>\n",
       "      <td>0</td>\n",
       "      <td>1</td>\n",
       "      <td>0</td>\n",
       "      <td>0</td>\n",
       "      <td>0</td>\n",
       "      <td>0</td>\n",
       "      <td>0</td>\n",
       "      <td>0</td>\n",
       "      <td>0</td>\n",
       "    </tr>\n",
       "  </tbody>\n",
       "</table>\n",
       "</div>"
      ],
      "text/plain": [
       "     Price  Area     Location  No. of Bedrooms  Resale  MaintenanceStaff  \\\n",
       "0  2235000  1016      Barasat                3       0                 0   \n",
       "1  3665999  1111    Keshtopur                2       0                 1   \n",
       "2  3774000  1020     Rajarhat                2       0                 0   \n",
       "3  2524000   935  Narendrapur                2       0                 0   \n",
       "4  8300000  1956     New Town                3       1                 0   \n",
       "\n",
       "   Gymnasium  SwimmingPool  LandscapedGardens  JoggingTrack  \\\n",
       "0          1             1                  1             1   \n",
       "1          1             0                  1             1   \n",
       "2          1             0                  0             0   \n",
       "3          1             1                  1             1   \n",
       "4          1             1                  1             1   \n",
       "\n",
       "   RainWaterHarvesting  IndoorGames  ShoppingMall  Intercom  SportsFacility  \\\n",
       "0                    0            1             0         1               0   \n",
       "1                    0            0             0         1               0   \n",
       "2                    0            0             0         0               0   \n",
       "3                    0            1             0         1               0   \n",
       "4                    1            1             0         1               1   \n",
       "\n",
       "   ATM  ClubHouse  School  24X7Security  PowerBackup  CarParking  \\\n",
       "0    0          0       0             1            1           0   \n",
       "1    0          0       0             1            1           0   \n",
       "2    0          0       0             1            1           0   \n",
       "3    0          1       0             1            1           0   \n",
       "4    0          1       0             1            1           1   \n",
       "\n",
       "   StaffQuarter  Cafeteria  MultipurposeRoom  Hospital  WashingMachine  \\\n",
       "0             0          0                 0         0               0   \n",
       "1             0          0                 0         0               0   \n",
       "2             0          0                 0         0               0   \n",
       "3             0          0                 0         0               0   \n",
       "4             1          1                 1         0               0   \n",
       "\n",
       "   Gasconnection  AC  Wifi  Children'splayarea  LiftAvailable  BED  \\\n",
       "0              0   0     0                   1              1    0   \n",
       "1              0   0     0                   1              0    0   \n",
       "2              0   0     0                   0              1    0   \n",
       "3              0   0     0                   1              0    0   \n",
       "4              0   0     0                   1              1    0   \n",
       "\n",
       "   VaastuCompliant  Microwave  GolfCourse  TV  DiningTable  Sofa  Wardrobe  \\\n",
       "0                0          0           0   0            0     0         0   \n",
       "1                0          0           0   0            0     0         0   \n",
       "2                0          0           0   0            0     0         0   \n",
       "3                0          0           0   0            0     0         0   \n",
       "4                1          0           0   0            0     0         0   \n",
       "\n",
       "   Refrigerator  \n",
       "0             0  \n",
       "1             0  \n",
       "2             0  \n",
       "3             0  \n",
       "4             0  "
      ]
     },
     "execution_count": 5,
     "metadata": {},
     "output_type": "execute_result"
    }
   ],
   "source": [
    "pd.pandas.set_option('display.max_columns', None)\n",
    "kolkata_dataset.head()"
   ]
  },
  {
   "cell_type": "markdown",
   "metadata": {
    "papermill": {
     "duration": 0.021697,
     "end_time": "2020-09-09T11:20:02.849934",
     "exception": false,
     "start_time": "2020-09-09T11:20:02.828237",
     "status": "completed"
    },
    "tags": []
   },
   "source": [
    "# Exploratory Data Analysis"
   ]
  },
  {
   "cell_type": "markdown",
   "metadata": {
    "papermill": {
     "duration": 0.021786,
     "end_time": "2020-09-09T11:20:02.893792",
     "exception": false,
     "start_time": "2020-09-09T11:20:02.872006",
     "status": "completed"
    },
    "tags": []
   },
   "source": [
    "### Checking for null values, count of rows and data type of the columns "
   ]
  },
  {
   "cell_type": "code",
   "execution_count": 6,
   "metadata": {
    "execution": {
     "iopub.execute_input": "2020-09-09T11:20:02.945404Z",
     "iopub.status.busy": "2020-09-09T11:20:02.944542Z",
     "iopub.status.idle": "2020-09-09T11:20:02.967836Z",
     "shell.execute_reply": "2020-09-09T11:20:02.968450Z"
    },
    "papermill": {
     "duration": 0.052787,
     "end_time": "2020-09-09T11:20:02.968629",
     "exception": false,
     "start_time": "2020-09-09T11:20:02.915842",
     "status": "completed"
    },
    "tags": []
   },
   "outputs": [
    {
     "name": "stdout",
     "output_type": "stream",
     "text": [
      "<class 'pandas.core.frame.DataFrame'>\n",
      "RangeIndex: 6507 entries, 0 to 6506\n",
      "Data columns (total 40 columns):\n",
      " #   Column               Non-Null Count  Dtype \n",
      "---  ------               --------------  ----- \n",
      " 0   Price                6507 non-null   int64 \n",
      " 1   Area                 6507 non-null   int64 \n",
      " 2   Location             6507 non-null   object\n",
      " 3   No. of Bedrooms      6507 non-null   int64 \n",
      " 4   Resale               6507 non-null   int64 \n",
      " 5   MaintenanceStaff     6507 non-null   int64 \n",
      " 6   Gymnasium            6507 non-null   int64 \n",
      " 7   SwimmingPool         6507 non-null   int64 \n",
      " 8   LandscapedGardens    6507 non-null   int64 \n",
      " 9   JoggingTrack         6507 non-null   int64 \n",
      " 10  RainWaterHarvesting  6507 non-null   int64 \n",
      " 11  IndoorGames          6507 non-null   int64 \n",
      " 12  ShoppingMall         6507 non-null   int64 \n",
      " 13  Intercom             6507 non-null   int64 \n",
      " 14  SportsFacility       6507 non-null   int64 \n",
      " 15  ATM                  6507 non-null   int64 \n",
      " 16  ClubHouse            6507 non-null   int64 \n",
      " 17  School               6507 non-null   int64 \n",
      " 18  24X7Security         6507 non-null   int64 \n",
      " 19  PowerBackup          6507 non-null   int64 \n",
      " 20  CarParking           6507 non-null   int64 \n",
      " 21  StaffQuarter         6507 non-null   int64 \n",
      " 22  Cafeteria            6507 non-null   int64 \n",
      " 23  MultipurposeRoom     6507 non-null   int64 \n",
      " 24  Hospital             6507 non-null   int64 \n",
      " 25  WashingMachine       6507 non-null   int64 \n",
      " 26  Gasconnection        6507 non-null   int64 \n",
      " 27  AC                   6507 non-null   int64 \n",
      " 28  Wifi                 6507 non-null   int64 \n",
      " 29  Children'splayarea   6507 non-null   int64 \n",
      " 30  LiftAvailable        6507 non-null   int64 \n",
      " 31  BED                  6507 non-null   int64 \n",
      " 32  VaastuCompliant      6507 non-null   int64 \n",
      " 33  Microwave            6507 non-null   int64 \n",
      " 34  GolfCourse           6507 non-null   int64 \n",
      " 35  TV                   6507 non-null   int64 \n",
      " 36  DiningTable          6507 non-null   int64 \n",
      " 37  Sofa                 6507 non-null   int64 \n",
      " 38  Wardrobe             6507 non-null   int64 \n",
      " 39  Refrigerator         6507 non-null   int64 \n",
      "dtypes: int64(39), object(1)\n",
      "memory usage: 2.0+ MB\n"
     ]
    }
   ],
   "source": [
    "kolkata_dataset.info()"
   ]
  },
  {
   "cell_type": "markdown",
   "metadata": {
    "papermill": {
     "duration": 0.022396,
     "end_time": "2020-09-09T11:20:03.262927",
     "exception": false,
     "start_time": "2020-09-09T11:20:03.240531",
     "status": "completed"
    },
    "tags": []
   },
   "source": [
    "### Checking for duplicate rows "
   ]
  },
  {
   "cell_type": "code",
   "execution_count": 7,
   "metadata": {
    "execution": {
     "iopub.execute_input": "2020-09-09T11:20:03.314460Z",
     "iopub.status.busy": "2020-09-09T11:20:03.313672Z",
     "iopub.status.idle": "2020-09-09T11:20:03.329716Z",
     "shell.execute_reply": "2020-09-09T11:20:03.330256Z"
    },
    "papermill": {
     "duration": 0.044741,
     "end_time": "2020-09-09T11:20:03.330453",
     "exception": false,
     "start_time": "2020-09-09T11:20:03.285712",
     "status": "completed"
    },
    "tags": []
   },
   "outputs": [
    {
     "data": {
      "text/plain": [
       "232"
      ]
     },
     "execution_count": 7,
     "metadata": {},
     "output_type": "execute_result"
    }
   ],
   "source": [
    "kolkata_dataset.duplicated().sum()"
   ]
  },
  {
   "cell_type": "markdown",
   "metadata": {
    "papermill": {
     "duration": 0.023311,
     "end_time": "2020-09-09T11:20:03.625198",
     "exception": false,
     "start_time": "2020-09-09T11:20:03.601887",
     "status": "completed"
    },
    "tags": []
   },
   "source": [
    "### Describing the datasets to observe the outliers"
   ]
  },
  {
   "cell_type": "code",
   "execution_count": 8,
   "metadata": {
    "execution": {
     "iopub.execute_input": "2020-09-09T11:20:03.685238Z",
     "iopub.status.busy": "2020-09-09T11:20:03.684147Z",
     "iopub.status.idle": "2020-09-09T11:20:03.818438Z",
     "shell.execute_reply": "2020-09-09T11:20:03.819014Z"
    },
    "papermill": {
     "duration": 0.170461,
     "end_time": "2020-09-09T11:20:03.819181",
     "exception": false,
     "start_time": "2020-09-09T11:20:03.648720",
     "status": "completed"
    },
    "tags": []
   },
   "outputs": [
    {
     "data": {
      "text/html": [
       "<div>\n",
       "<style scoped>\n",
       "    .dataframe tbody tr th:only-of-type {\n",
       "        vertical-align: middle;\n",
       "    }\n",
       "\n",
       "    .dataframe tbody tr th {\n",
       "        vertical-align: top;\n",
       "    }\n",
       "\n",
       "    .dataframe thead th {\n",
       "        text-align: right;\n",
       "    }\n",
       "</style>\n",
       "<table border=\"1\" class=\"dataframe\">\n",
       "  <thead>\n",
       "    <tr style=\"text-align: right;\">\n",
       "      <th></th>\n",
       "      <th>Price</th>\n",
       "      <th>Area</th>\n",
       "      <th>No. of Bedrooms</th>\n",
       "      <th>Resale</th>\n",
       "      <th>MaintenanceStaff</th>\n",
       "      <th>Gymnasium</th>\n",
       "      <th>SwimmingPool</th>\n",
       "      <th>LandscapedGardens</th>\n",
       "      <th>JoggingTrack</th>\n",
       "      <th>RainWaterHarvesting</th>\n",
       "      <th>IndoorGames</th>\n",
       "      <th>ShoppingMall</th>\n",
       "      <th>Intercom</th>\n",
       "      <th>SportsFacility</th>\n",
       "      <th>ATM</th>\n",
       "      <th>ClubHouse</th>\n",
       "      <th>School</th>\n",
       "      <th>24X7Security</th>\n",
       "      <th>PowerBackup</th>\n",
       "      <th>CarParking</th>\n",
       "      <th>StaffQuarter</th>\n",
       "      <th>Cafeteria</th>\n",
       "      <th>MultipurposeRoom</th>\n",
       "      <th>Hospital</th>\n",
       "      <th>WashingMachine</th>\n",
       "      <th>Gasconnection</th>\n",
       "      <th>AC</th>\n",
       "      <th>Wifi</th>\n",
       "      <th>Children'splayarea</th>\n",
       "      <th>LiftAvailable</th>\n",
       "      <th>BED</th>\n",
       "      <th>VaastuCompliant</th>\n",
       "      <th>Microwave</th>\n",
       "      <th>GolfCourse</th>\n",
       "      <th>TV</th>\n",
       "      <th>DiningTable</th>\n",
       "      <th>Sofa</th>\n",
       "      <th>Wardrobe</th>\n",
       "      <th>Refrigerator</th>\n",
       "    </tr>\n",
       "  </thead>\n",
       "  <tbody>\n",
       "    <tr>\n",
       "      <th>count</th>\n",
       "      <td>6.507000e+03</td>\n",
       "      <td>6507.000000</td>\n",
       "      <td>6507.000000</td>\n",
       "      <td>6507.000000</td>\n",
       "      <td>6507.000000</td>\n",
       "      <td>6507.000000</td>\n",
       "      <td>6507.000000</td>\n",
       "      <td>6507.000000</td>\n",
       "      <td>6507.000000</td>\n",
       "      <td>6507.000000</td>\n",
       "      <td>6507.000000</td>\n",
       "      <td>6507.000000</td>\n",
       "      <td>6507.000000</td>\n",
       "      <td>6507.000000</td>\n",
       "      <td>6507.000000</td>\n",
       "      <td>6507.000000</td>\n",
       "      <td>6507.000000</td>\n",
       "      <td>6507.000000</td>\n",
       "      <td>6507.000000</td>\n",
       "      <td>6507.000000</td>\n",
       "      <td>6507.000000</td>\n",
       "      <td>6507.000000</td>\n",
       "      <td>6507.000000</td>\n",
       "      <td>6507.000000</td>\n",
       "      <td>6507.000000</td>\n",
       "      <td>6507.000000</td>\n",
       "      <td>6507.000000</td>\n",
       "      <td>6507.000000</td>\n",
       "      <td>6507.000000</td>\n",
       "      <td>6507.000000</td>\n",
       "      <td>6507.000000</td>\n",
       "      <td>6507.000000</td>\n",
       "      <td>6507.000000</td>\n",
       "      <td>6507.000000</td>\n",
       "      <td>6507.000000</td>\n",
       "      <td>6507.000000</td>\n",
       "      <td>6507.000000</td>\n",
       "      <td>6507.000000</td>\n",
       "      <td>6507.000000</td>\n",
       "    </tr>\n",
       "    <tr>\n",
       "      <th>mean</th>\n",
       "      <td>8.508570e+06</td>\n",
       "      <td>1344.166897</td>\n",
       "      <td>2.631166</td>\n",
       "      <td>0.311818</td>\n",
       "      <td>8.899032</td>\n",
       "      <td>8.903028</td>\n",
       "      <td>8.901644</td>\n",
       "      <td>8.901644</td>\n",
       "      <td>8.900415</td>\n",
       "      <td>8.899493</td>\n",
       "      <td>8.900876</td>\n",
       "      <td>8.897188</td>\n",
       "      <td>8.901798</td>\n",
       "      <td>8.900108</td>\n",
       "      <td>8.896573</td>\n",
       "      <td>8.901491</td>\n",
       "      <td>8.896419</td>\n",
       "      <td>8.903489</td>\n",
       "      <td>8.904411</td>\n",
       "      <td>8.901491</td>\n",
       "      <td>8.897649</td>\n",
       "      <td>8.898417</td>\n",
       "      <td>8.898571</td>\n",
       "      <td>8.897034</td>\n",
       "      <td>8.897188</td>\n",
       "      <td>8.896727</td>\n",
       "      <td>8.897034</td>\n",
       "      <td>8.896266</td>\n",
       "      <td>8.902413</td>\n",
       "      <td>8.905025</td>\n",
       "      <td>8.897034</td>\n",
       "      <td>8.899339</td>\n",
       "      <td>8.897034</td>\n",
       "      <td>8.896727</td>\n",
       "      <td>8.896727</td>\n",
       "      <td>8.896880</td>\n",
       "      <td>8.897034</td>\n",
       "      <td>8.896266</td>\n",
       "      <td>8.897034</td>\n",
       "    </tr>\n",
       "    <tr>\n",
       "      <th>std</th>\n",
       "      <td>1.465939e+07</td>\n",
       "      <td>807.698043</td>\n",
       "      <td>0.712283</td>\n",
       "      <td>0.463272</td>\n",
       "      <td>0.936229</td>\n",
       "      <td>0.899654</td>\n",
       "      <td>0.912482</td>\n",
       "      <td>0.912482</td>\n",
       "      <td>0.923734</td>\n",
       "      <td>0.932083</td>\n",
       "      <td>0.919531</td>\n",
       "      <td>0.952630</td>\n",
       "      <td>0.911066</td>\n",
       "      <td>0.926525</td>\n",
       "      <td>0.958034</td>\n",
       "      <td>0.913897</td>\n",
       "      <td>0.959380</td>\n",
       "      <td>0.895337</td>\n",
       "      <td>0.886638</td>\n",
       "      <td>0.913897</td>\n",
       "      <td>0.948556</td>\n",
       "      <td>0.941728</td>\n",
       "      <td>0.940356</td>\n",
       "      <td>0.953984</td>\n",
       "      <td>0.952630</td>\n",
       "      <td>0.956686</td>\n",
       "      <td>0.953984</td>\n",
       "      <td>0.960724</td>\n",
       "      <td>0.905378</td>\n",
       "      <td>0.880791</td>\n",
       "      <td>0.953984</td>\n",
       "      <td>0.933467</td>\n",
       "      <td>0.953984</td>\n",
       "      <td>0.956686</td>\n",
       "      <td>0.956686</td>\n",
       "      <td>0.955336</td>\n",
       "      <td>0.953984</td>\n",
       "      <td>0.960724</td>\n",
       "      <td>0.953984</td>\n",
       "    </tr>\n",
       "    <tr>\n",
       "      <th>min</th>\n",
       "      <td>2.000000e+06</td>\n",
       "      <td>350.000000</td>\n",
       "      <td>1.000000</td>\n",
       "      <td>0.000000</td>\n",
       "      <td>0.000000</td>\n",
       "      <td>0.000000</td>\n",
       "      <td>0.000000</td>\n",
       "      <td>0.000000</td>\n",
       "      <td>0.000000</td>\n",
       "      <td>0.000000</td>\n",
       "      <td>0.000000</td>\n",
       "      <td>0.000000</td>\n",
       "      <td>0.000000</td>\n",
       "      <td>0.000000</td>\n",
       "      <td>0.000000</td>\n",
       "      <td>0.000000</td>\n",
       "      <td>0.000000</td>\n",
       "      <td>0.000000</td>\n",
       "      <td>0.000000</td>\n",
       "      <td>0.000000</td>\n",
       "      <td>0.000000</td>\n",
       "      <td>0.000000</td>\n",
       "      <td>0.000000</td>\n",
       "      <td>0.000000</td>\n",
       "      <td>0.000000</td>\n",
       "      <td>0.000000</td>\n",
       "      <td>0.000000</td>\n",
       "      <td>0.000000</td>\n",
       "      <td>0.000000</td>\n",
       "      <td>0.000000</td>\n",
       "      <td>0.000000</td>\n",
       "      <td>0.000000</td>\n",
       "      <td>0.000000</td>\n",
       "      <td>0.000000</td>\n",
       "      <td>0.000000</td>\n",
       "      <td>0.000000</td>\n",
       "      <td>0.000000</td>\n",
       "      <td>0.000000</td>\n",
       "      <td>0.000000</td>\n",
       "    </tr>\n",
       "    <tr>\n",
       "      <th>25%</th>\n",
       "      <td>3.300000e+06</td>\n",
       "      <td>920.000000</td>\n",
       "      <td>2.000000</td>\n",
       "      <td>0.000000</td>\n",
       "      <td>9.000000</td>\n",
       "      <td>9.000000</td>\n",
       "      <td>9.000000</td>\n",
       "      <td>9.000000</td>\n",
       "      <td>9.000000</td>\n",
       "      <td>9.000000</td>\n",
       "      <td>9.000000</td>\n",
       "      <td>9.000000</td>\n",
       "      <td>9.000000</td>\n",
       "      <td>9.000000</td>\n",
       "      <td>9.000000</td>\n",
       "      <td>9.000000</td>\n",
       "      <td>9.000000</td>\n",
       "      <td>9.000000</td>\n",
       "      <td>9.000000</td>\n",
       "      <td>9.000000</td>\n",
       "      <td>9.000000</td>\n",
       "      <td>9.000000</td>\n",
       "      <td>9.000000</td>\n",
       "      <td>9.000000</td>\n",
       "      <td>9.000000</td>\n",
       "      <td>9.000000</td>\n",
       "      <td>9.000000</td>\n",
       "      <td>9.000000</td>\n",
       "      <td>9.000000</td>\n",
       "      <td>9.000000</td>\n",
       "      <td>9.000000</td>\n",
       "      <td>9.000000</td>\n",
       "      <td>9.000000</td>\n",
       "      <td>9.000000</td>\n",
       "      <td>9.000000</td>\n",
       "      <td>9.000000</td>\n",
       "      <td>9.000000</td>\n",
       "      <td>9.000000</td>\n",
       "      <td>9.000000</td>\n",
       "    </tr>\n",
       "    <tr>\n",
       "      <th>50%</th>\n",
       "      <td>4.940000e+06</td>\n",
       "      <td>1144.000000</td>\n",
       "      <td>3.000000</td>\n",
       "      <td>0.000000</td>\n",
       "      <td>9.000000</td>\n",
       "      <td>9.000000</td>\n",
       "      <td>9.000000</td>\n",
       "      <td>9.000000</td>\n",
       "      <td>9.000000</td>\n",
       "      <td>9.000000</td>\n",
       "      <td>9.000000</td>\n",
       "      <td>9.000000</td>\n",
       "      <td>9.000000</td>\n",
       "      <td>9.000000</td>\n",
       "      <td>9.000000</td>\n",
       "      <td>9.000000</td>\n",
       "      <td>9.000000</td>\n",
       "      <td>9.000000</td>\n",
       "      <td>9.000000</td>\n",
       "      <td>9.000000</td>\n",
       "      <td>9.000000</td>\n",
       "      <td>9.000000</td>\n",
       "      <td>9.000000</td>\n",
       "      <td>9.000000</td>\n",
       "      <td>9.000000</td>\n",
       "      <td>9.000000</td>\n",
       "      <td>9.000000</td>\n",
       "      <td>9.000000</td>\n",
       "      <td>9.000000</td>\n",
       "      <td>9.000000</td>\n",
       "      <td>9.000000</td>\n",
       "      <td>9.000000</td>\n",
       "      <td>9.000000</td>\n",
       "      <td>9.000000</td>\n",
       "      <td>9.000000</td>\n",
       "      <td>9.000000</td>\n",
       "      <td>9.000000</td>\n",
       "      <td>9.000000</td>\n",
       "      <td>9.000000</td>\n",
       "    </tr>\n",
       "    <tr>\n",
       "      <th>75%</th>\n",
       "      <td>8.000000e+06</td>\n",
       "      <td>1454.000000</td>\n",
       "      <td>3.000000</td>\n",
       "      <td>1.000000</td>\n",
       "      <td>9.000000</td>\n",
       "      <td>9.000000</td>\n",
       "      <td>9.000000</td>\n",
       "      <td>9.000000</td>\n",
       "      <td>9.000000</td>\n",
       "      <td>9.000000</td>\n",
       "      <td>9.000000</td>\n",
       "      <td>9.000000</td>\n",
       "      <td>9.000000</td>\n",
       "      <td>9.000000</td>\n",
       "      <td>9.000000</td>\n",
       "      <td>9.000000</td>\n",
       "      <td>9.000000</td>\n",
       "      <td>9.000000</td>\n",
       "      <td>9.000000</td>\n",
       "      <td>9.000000</td>\n",
       "      <td>9.000000</td>\n",
       "      <td>9.000000</td>\n",
       "      <td>9.000000</td>\n",
       "      <td>9.000000</td>\n",
       "      <td>9.000000</td>\n",
       "      <td>9.000000</td>\n",
       "      <td>9.000000</td>\n",
       "      <td>9.000000</td>\n",
       "      <td>9.000000</td>\n",
       "      <td>9.000000</td>\n",
       "      <td>9.000000</td>\n",
       "      <td>9.000000</td>\n",
       "      <td>9.000000</td>\n",
       "      <td>9.000000</td>\n",
       "      <td>9.000000</td>\n",
       "      <td>9.000000</td>\n",
       "      <td>9.000000</td>\n",
       "      <td>9.000000</td>\n",
       "      <td>9.000000</td>\n",
       "    </tr>\n",
       "    <tr>\n",
       "      <th>max</th>\n",
       "      <td>5.040000e+08</td>\n",
       "      <td>10000.000000</td>\n",
       "      <td>9.000000</td>\n",
       "      <td>1.000000</td>\n",
       "      <td>9.000000</td>\n",
       "      <td>9.000000</td>\n",
       "      <td>9.000000</td>\n",
       "      <td>9.000000</td>\n",
       "      <td>9.000000</td>\n",
       "      <td>9.000000</td>\n",
       "      <td>9.000000</td>\n",
       "      <td>9.000000</td>\n",
       "      <td>9.000000</td>\n",
       "      <td>9.000000</td>\n",
       "      <td>9.000000</td>\n",
       "      <td>9.000000</td>\n",
       "      <td>9.000000</td>\n",
       "      <td>9.000000</td>\n",
       "      <td>9.000000</td>\n",
       "      <td>9.000000</td>\n",
       "      <td>9.000000</td>\n",
       "      <td>9.000000</td>\n",
       "      <td>9.000000</td>\n",
       "      <td>9.000000</td>\n",
       "      <td>9.000000</td>\n",
       "      <td>9.000000</td>\n",
       "      <td>9.000000</td>\n",
       "      <td>9.000000</td>\n",
       "      <td>9.000000</td>\n",
       "      <td>9.000000</td>\n",
       "      <td>9.000000</td>\n",
       "      <td>9.000000</td>\n",
       "      <td>9.000000</td>\n",
       "      <td>9.000000</td>\n",
       "      <td>9.000000</td>\n",
       "      <td>9.000000</td>\n",
       "      <td>9.000000</td>\n",
       "      <td>9.000000</td>\n",
       "      <td>9.000000</td>\n",
       "    </tr>\n",
       "  </tbody>\n",
       "</table>\n",
       "</div>"
      ],
      "text/plain": [
       "              Price          Area  No. of Bedrooms       Resale  \\\n",
       "count  6.507000e+03   6507.000000      6507.000000  6507.000000   \n",
       "mean   8.508570e+06   1344.166897         2.631166     0.311818   \n",
       "std    1.465939e+07    807.698043         0.712283     0.463272   \n",
       "min    2.000000e+06    350.000000         1.000000     0.000000   \n",
       "25%    3.300000e+06    920.000000         2.000000     0.000000   \n",
       "50%    4.940000e+06   1144.000000         3.000000     0.000000   \n",
       "75%    8.000000e+06   1454.000000         3.000000     1.000000   \n",
       "max    5.040000e+08  10000.000000         9.000000     1.000000   \n",
       "\n",
       "       MaintenanceStaff    Gymnasium  SwimmingPool  LandscapedGardens  \\\n",
       "count       6507.000000  6507.000000   6507.000000        6507.000000   \n",
       "mean           8.899032     8.903028      8.901644           8.901644   \n",
       "std            0.936229     0.899654      0.912482           0.912482   \n",
       "min            0.000000     0.000000      0.000000           0.000000   \n",
       "25%            9.000000     9.000000      9.000000           9.000000   \n",
       "50%            9.000000     9.000000      9.000000           9.000000   \n",
       "75%            9.000000     9.000000      9.000000           9.000000   \n",
       "max            9.000000     9.000000      9.000000           9.000000   \n",
       "\n",
       "       JoggingTrack  RainWaterHarvesting  IndoorGames  ShoppingMall  \\\n",
       "count   6507.000000          6507.000000  6507.000000   6507.000000   \n",
       "mean       8.900415             8.899493     8.900876      8.897188   \n",
       "std        0.923734             0.932083     0.919531      0.952630   \n",
       "min        0.000000             0.000000     0.000000      0.000000   \n",
       "25%        9.000000             9.000000     9.000000      9.000000   \n",
       "50%        9.000000             9.000000     9.000000      9.000000   \n",
       "75%        9.000000             9.000000     9.000000      9.000000   \n",
       "max        9.000000             9.000000     9.000000      9.000000   \n",
       "\n",
       "          Intercom  SportsFacility          ATM    ClubHouse       School  \\\n",
       "count  6507.000000     6507.000000  6507.000000  6507.000000  6507.000000   \n",
       "mean      8.901798        8.900108     8.896573     8.901491     8.896419   \n",
       "std       0.911066        0.926525     0.958034     0.913897     0.959380   \n",
       "min       0.000000        0.000000     0.000000     0.000000     0.000000   \n",
       "25%       9.000000        9.000000     9.000000     9.000000     9.000000   \n",
       "50%       9.000000        9.000000     9.000000     9.000000     9.000000   \n",
       "75%       9.000000        9.000000     9.000000     9.000000     9.000000   \n",
       "max       9.000000        9.000000     9.000000     9.000000     9.000000   \n",
       "\n",
       "       24X7Security  PowerBackup   CarParking  StaffQuarter    Cafeteria  \\\n",
       "count   6507.000000  6507.000000  6507.000000   6507.000000  6507.000000   \n",
       "mean       8.903489     8.904411     8.901491      8.897649     8.898417   \n",
       "std        0.895337     0.886638     0.913897      0.948556     0.941728   \n",
       "min        0.000000     0.000000     0.000000      0.000000     0.000000   \n",
       "25%        9.000000     9.000000     9.000000      9.000000     9.000000   \n",
       "50%        9.000000     9.000000     9.000000      9.000000     9.000000   \n",
       "75%        9.000000     9.000000     9.000000      9.000000     9.000000   \n",
       "max        9.000000     9.000000     9.000000      9.000000     9.000000   \n",
       "\n",
       "       MultipurposeRoom     Hospital  WashingMachine  Gasconnection  \\\n",
       "count       6507.000000  6507.000000     6507.000000    6507.000000   \n",
       "mean           8.898571     8.897034        8.897188       8.896727   \n",
       "std            0.940356     0.953984        0.952630       0.956686   \n",
       "min            0.000000     0.000000        0.000000       0.000000   \n",
       "25%            9.000000     9.000000        9.000000       9.000000   \n",
       "50%            9.000000     9.000000        9.000000       9.000000   \n",
       "75%            9.000000     9.000000        9.000000       9.000000   \n",
       "max            9.000000     9.000000        9.000000       9.000000   \n",
       "\n",
       "                AC         Wifi  Children'splayarea  LiftAvailable  \\\n",
       "count  6507.000000  6507.000000         6507.000000    6507.000000   \n",
       "mean      8.897034     8.896266            8.902413       8.905025   \n",
       "std       0.953984     0.960724            0.905378       0.880791   \n",
       "min       0.000000     0.000000            0.000000       0.000000   \n",
       "25%       9.000000     9.000000            9.000000       9.000000   \n",
       "50%       9.000000     9.000000            9.000000       9.000000   \n",
       "75%       9.000000     9.000000            9.000000       9.000000   \n",
       "max       9.000000     9.000000            9.000000       9.000000   \n",
       "\n",
       "               BED  VaastuCompliant    Microwave   GolfCourse           TV  \\\n",
       "count  6507.000000      6507.000000  6507.000000  6507.000000  6507.000000   \n",
       "mean      8.897034         8.899339     8.897034     8.896727     8.896727   \n",
       "std       0.953984         0.933467     0.953984     0.956686     0.956686   \n",
       "min       0.000000         0.000000     0.000000     0.000000     0.000000   \n",
       "25%       9.000000         9.000000     9.000000     9.000000     9.000000   \n",
       "50%       9.000000         9.000000     9.000000     9.000000     9.000000   \n",
       "75%       9.000000         9.000000     9.000000     9.000000     9.000000   \n",
       "max       9.000000         9.000000     9.000000     9.000000     9.000000   \n",
       "\n",
       "       DiningTable         Sofa     Wardrobe  Refrigerator  \n",
       "count  6507.000000  6507.000000  6507.000000   6507.000000  \n",
       "mean      8.896880     8.897034     8.896266      8.897034  \n",
       "std       0.955336     0.953984     0.960724      0.953984  \n",
       "min       0.000000     0.000000     0.000000      0.000000  \n",
       "25%       9.000000     9.000000     9.000000      9.000000  \n",
       "50%       9.000000     9.000000     9.000000      9.000000  \n",
       "75%       9.000000     9.000000     9.000000      9.000000  \n",
       "max       9.000000     9.000000     9.000000      9.000000  "
      ]
     },
     "execution_count": 8,
     "metadata": {},
     "output_type": "execute_result"
    }
   ],
   "source": [
    "kolkata_dataset.describe()"
   ]
  },
  {
   "cell_type": "markdown",
   "metadata": {
    "papermill": {
     "duration": 0.02387,
     "end_time": "2020-09-09T11:20:03.867473",
     "exception": false,
     "start_time": "2020-09-09T11:20:03.843603",
     "status": "completed"
    },
    "tags": []
   },
   "source": [
    "* Area and No. of Bedrooms seems to have outliers."
   ]
  },
  {
   "cell_type": "markdown",
   "metadata": {
    "papermill": {
     "duration": 0.026338,
     "end_time": "2020-09-09T11:20:04.701963",
     "exception": false,
     "start_time": "2020-09-09T11:20:04.675625",
     "status": "completed"
    },
    "tags": []
   },
   "source": [
    "# Visualizing outliers in the dataset"
   ]
  },
  {
   "cell_type": "code",
   "execution_count": 9,
   "metadata": {
    "execution": {
     "iopub.execute_input": "2020-09-09T11:20:04.765484Z",
     "iopub.status.busy": "2020-09-09T11:20:04.764634Z",
     "iopub.status.idle": "2020-09-09T11:20:05.276226Z",
     "shell.execute_reply": "2020-09-09T11:20:05.275618Z"
    },
    "papermill": {
     "duration": 0.547263,
     "end_time": "2020-09-09T11:20:05.276357",
     "exception": false,
     "start_time": "2020-09-09T11:20:04.729094",
     "status": "completed"
    },
    "tags": []
   },
   "outputs": [
    {
     "data": {
      "image/png": "[encoded data removed]",
      "text/plain": [
       "<Figure size 500x500 with 1 Axes>"
      ]
     },
     "metadata": {},
     "output_type": "display_data"
    }
   ],
   "source": [
    "plt.figure(figsize=(5,5))\n",
    "# plt.subplot(221)\n",
    "sns.boxplot(kolkata_dataset['Area'])\n",
    "plt.title('Outliers In Area In Kolkata Dataset')\n",
    "plt.show()"
   ]
  },
  {
   "cell_type": "code",
   "execution_count": 10,
   "metadata": {
    "execution": {
     "iopub.execute_input": "2020-09-09T11:20:05.341140Z",
     "iopub.status.busy": "2020-09-09T11:20:05.340036Z",
     "iopub.status.idle": "2020-09-09T11:20:05.838931Z",
     "shell.execute_reply": "2020-09-09T11:20:05.838263Z"
    },
    "papermill": {
     "duration": 0.535337,
     "end_time": "2020-09-09T11:20:05.839072",
     "exception": false,
     "start_time": "2020-09-09T11:20:05.303735",
     "status": "completed"
    },
    "tags": []
   },
   "outputs": [
    {
     "data": {
      "image/png": "[encoded data removed]",
      "text/plain": [
       "<Figure size 500x500 with 1 Axes>"
      ]
     },
     "metadata": {},
     "output_type": "display_data"
    }
   ],
   "source": [
    "plt.figure(figsize=(5,5))\n",
    "# plt.subplot(221)\n",
    "sns.boxplot(kolkata_dataset['No. of Bedrooms'])\n",
    "plt.title('Outliers In No. of Bedrooms In Kolkata Dataset')\n",
    "plt.show()"
   ]
  },
  {
   "cell_type": "markdown",
   "metadata": {
    "papermill": {
     "duration": 0.075625,
     "end_time": "2020-09-09T11:20:05.942288",
     "exception": false,
     "start_time": "2020-09-09T11:20:05.866663",
     "status": "completed"
    },
    "tags": []
   },
   "source": [
    "# Visualizing distribution of area in all the datasets"
   ]
  },
  {
   "cell_type": "code",
   "execution_count": 11,
   "metadata": {
    "execution": {
     "iopub.execute_input": "2020-09-09T11:20:06.101620Z",
     "iopub.status.busy": "2020-09-09T11:20:06.006795Z",
     "iopub.status.idle": "2020-09-09T11:20:07.111798Z",
     "shell.execute_reply": "2020-09-09T11:20:07.111076Z"
    },
    "papermill": {
     "duration": 1.141879,
     "end_time": "2020-09-09T11:20:07.111917",
     "exception": false,
     "start_time": "2020-09-09T11:20:05.970038",
     "status": "completed"
    },
    "tags": []
   },
   "outputs": [
    {
     "data": {
      "image/png": "[encoded data removed]",
      "text/plain": [
       "<Figure size 500x500 with 1 Axes>"
      ]
     },
     "metadata": {},
     "output_type": "display_data"
    }
   ],
   "source": [
    "plt.figure(figsize=(5,5))\n",
    "# plt.subplot(221)\n",
    "sns.distplot(kolkata_dataset['Price'], bins=50)\n",
    "plt.title('Distribution Of Price In Kolkata Dataset')\n",
    "plt.show()"
   ]
  },
  {
   "cell_type": "code",
   "execution_count": 12,
   "metadata": {
    "execution": {
     "iopub.execute_input": "2020-09-09T11:20:07.189870Z",
     "iopub.status.busy": "2020-09-09T11:20:07.183634Z",
     "iopub.status.idle": "2020-09-09T11:20:08.185154Z",
     "shell.execute_reply": "2020-09-09T11:20:08.184320Z"
    },
    "papermill": {
     "duration": 1.044338,
     "end_time": "2020-09-09T11:20:08.185284",
     "exception": false,
     "start_time": "2020-09-09T11:20:07.140946",
     "status": "completed"
    },
    "tags": []
   },
   "outputs": [
    {
     "data": {
      "image/png": "[encoded data removed]",
      "text/plain": [
       "<Figure size 500x500 with 1 Axes>"
      ]
     },
     "metadata": {},
     "output_type": "display_data"
    }
   ],
   "source": [
    "plt.figure(figsize=(5,5))\n",
    "plt.subplot(221)\n",
    "plt.hist(kolkata_dataset['Area'], bins=50)\n",
    "plt.title('Area Distribution In Kolkata')\n",
    "plt.show()"
   ]
  },
  {
   "cell_type": "markdown",
   "metadata": {
    "papermill": {
     "duration": 0.028492,
     "end_time": "2020-09-09T11:20:08.242947",
     "exception": false,
     "start_time": "2020-09-09T11:20:08.214455",
     "status": "completed"
    },
    "tags": []
   },
   "source": [
    "* As the Area is right skewed in all the 4 datasets, interquantile range will be used to handle the outliers."
   ]
  },
  {
   "cell_type": "markdown",
   "metadata": {
    "papermill": {
     "duration": 0.028503,
     "end_time": "2020-09-09T11:20:08.300535",
     "exception": false,
     "start_time": "2020-09-09T11:20:08.272032",
     "status": "completed"
    },
    "tags": []
   },
   "source": [
    "# Visualizing types of bedrooms in different dataset"
   ]
  },
  {
   "cell_type": "code",
   "execution_count": 13,
   "metadata": {
    "execution": {
     "iopub.execute_input": "2020-09-09T11:20:08.375831Z",
     "iopub.status.busy": "2020-09-09T11:20:08.375063Z",
     "iopub.status.idle": "2020-09-09T11:20:08.960360Z",
     "shell.execute_reply": "2020-09-09T11:20:08.959592Z"
    },
    "papermill": {
     "duration": 0.631134,
     "end_time": "2020-09-09T11:20:08.960490",
     "exception": false,
     "start_time": "2020-09-09T11:20:08.329356",
     "status": "completed"
    },
    "tags": []
   },
   "outputs": [
    {
     "data": {
      "image/png": "[encoded data removed]",
      "text/plain": [
       "<Figure size 1200x1000 with 1 Axes>"
      ]
     },
     "metadata": {},
     "output_type": "display_data"
    }
   ],
   "source": [
    "plt.figure(figsize=(20,20))\n",
    "plt.subplot(221)\n",
    "kolkata_dataset['No. of Bedrooms'].value_counts().plot(kind='bar',figsize=(12,10))\n",
    "plt.title('No. of Bedrooms Distribution In Kolkata')\n",
    "plt.show()"
   ]
  },
  {
   "cell_type": "markdown",
   "metadata": {
    "papermill": {
     "duration": 0.029089,
     "end_time": "2020-09-09T11:20:09.019610",
     "exception": false,
     "start_time": "2020-09-09T11:20:08.990521",
     "status": "completed"
    },
    "tags": []
   },
   "source": [
    "* kolkata, Kolkata and Kolkata has maximum 3 bedrooms house followed by 2 bedrooms and 4 bedrooms houses.\n",
    "* Mumbai has maximum 2 bedrooms house foloowed by 1 bedroom and 3 bedrooms houses."
   ]
  },
  {
   "cell_type": "markdown",
   "metadata": {
    "papermill": {
     "duration": 0.033911,
     "end_time": "2020-09-09T11:20:14.997567",
     "exception": false,
     "start_time": "2020-09-09T11:20:14.963656",
     "status": "completed"
    },
    "tags": []
   },
   "source": [
    "# Data Cleaning"
   ]
  },
  {
   "cell_type": "markdown",
   "metadata": {
    "papermill": {
     "duration": 0.033957,
     "end_time": "2020-09-09T11:20:15.066163",
     "exception": false,
     "start_time": "2020-09-09T11:20:15.032206",
     "status": "completed"
    },
    "tags": []
   },
   "source": [
    "### Removing duplicate rows "
   ]
  },
  {
   "cell_type": "code",
   "execution_count": 16,
   "metadata": {
    "execution": {
     "iopub.execute_input": "2020-09-09T11:20:15.142262Z",
     "iopub.status.busy": "2020-09-09T11:20:15.141420Z",
     "iopub.status.idle": "2020-09-09T11:20:15.188641Z",
     "shell.execute_reply": "2020-09-09T11:20:15.187892Z"
    },
    "papermill": {
     "duration": 0.088235,
     "end_time": "2020-09-09T11:20:15.188760",
     "exception": false,
     "start_time": "2020-09-09T11:20:15.100525",
     "status": "completed"
    },
    "tags": []
   },
   "outputs": [
    {
     "data": {
      "text/plain": [
       "(6275, 40)"
      ]
     },
     "execution_count": 16,
     "metadata": {},
     "output_type": "execute_result"
    }
   ],
   "source": [
    "kolkata_dataset.drop_duplicates(inplace=True)\n",
    "kolkata_dataset.shape"
   ]
  },
  {
   "cell_type": "markdown",
   "metadata": {
    "papermill": {
     "duration": 0.033993,
     "end_time": "2020-09-09T11:20:15.257095",
     "exception": false,
     "start_time": "2020-09-09T11:20:15.223102",
     "status": "completed"
    },
    "tags": []
   },
   "source": [
    "### Handling outliers "
   ]
  },
  {
   "cell_type": "code",
   "execution_count": 17,
   "metadata": {
    "execution": {
     "iopub.execute_input": "2020-09-09T11:20:15.471051Z",
     "iopub.status.busy": "2020-09-09T11:20:15.460513Z",
     "iopub.status.idle": "2020-09-09T11:20:15.543796Z",
     "shell.execute_reply": "2020-09-09T11:20:15.543123Z"
    },
    "papermill": {
     "duration": 0.25231,
     "end_time": "2020-09-09T11:20:15.543917",
     "exception": false,
     "start_time": "2020-09-09T11:20:15.291607",
     "status": "completed"
    },
    "tags": []
   },
   "outputs": [],
   "source": [
    "outlier_features = ['Area','No. of Bedrooms']\n",
    "for feature in outlier_features:\n",
    "    IQR = kolkata_dataset[feature].quantile(0.75) - kolkata_dataset[feature].quantile(0.25)\n",
    "    lower_boundary = kolkata_dataset[feature].quantile(0.25) - (IQR*1.5)\n",
    "    upper_boundary = kolkata_dataset[feature].quantile(0.75) + (IQR*1.5)\n",
    "    kolkata_dataset.loc[kolkata_dataset[feature]<=lower_boundary, feature] = lower_boundary\n",
    "    kolkata_dataset.loc[kolkata_dataset[feature]>=upper_boundary, feature] = upper_boundary\n",
    "    \n",
    "    # IQR = kolkata_dataset[feature].quantile(0.75) - kolkata_dataset[feature].quantile(0.25)\n",
    "    # lower_boundary = kolkata_dataset[feature].quantile(0.25) - (IQR*1.5)\n",
    "    # upper_boundary = kolkata_dataset[feature].quantile(0.75) + (IQR*1.5)\n",
    "    # kolkata_dataset.loc[kolkata_dataset[feature]<=lower_boundary, feature] = lower_boundary\n",
    "    # kolkata_dataset.loc[kolkata_dataset[feature]>=upper_boundary, feature] = upper_boundary\n",
    "    \n",
    "    # IQR = kolkata_dataset[feature].quantile(0.75) - kolkata_dataset[feature].quantile(0.25)\n",
    "    # lower_boundary = kolkata_dataset[feature].quantile(0.25) - (IQR*1.5)\n",
    "    # upper_boundary = kolkata_dataset[feature].quantile(0.75) + (IQR*1.5)\n",
    "    # kolkata_dataset.loc[kolkata_dataset[feature]<=lower_boundary, feature] = lower_boundary\n",
    "    # kolkata_dataset.loc[kolkata_dataset[feature]>=upper_boundary, feature] = upper_boundary\n",
    "    \n",
    "    # IQR = mumbai_dataset[feature].quantile(0.75) - mumbai_dataset[feature].quantile(0.25)\n",
    "    # lower_boundary = mumbai_dataset[feature].quantile(0.25) - (IQR*1.5)\n",
    "    # upper_boundary = mumbai_dataset[feature].quantile(0.75) + (IQR*1.5)\n",
    "    # mumbai_dataset.loc[mumbai_dataset[feature]<=lower_boundary, feature] = lower_boundary\n",
    "    # mumbai_dataset.loc[mumbai_dataset[feature]>=upper_boundary, feature] = upper_boundary"
   ]
  },
  {
   "cell_type": "code",
   "execution_count": 18,
   "metadata": {
    "execution": {
     "iopub.execute_input": "2020-09-09T11:20:15.634033Z",
     "iopub.status.busy": "2020-09-09T11:20:15.633202Z",
     "iopub.status.idle": "2020-09-09T11:20:16.098064Z",
     "shell.execute_reply": "2020-09-09T11:20:16.097449Z"
    },
    "papermill": {
     "duration": 0.514282,
     "end_time": "2020-09-09T11:20:16.098195",
     "exception": false,
     "start_time": "2020-09-09T11:20:15.583913",
     "status": "completed"
    },
    "tags": []
   },
   "outputs": [
    {
     "data": {
      "image/png": "[encoded data removed]",
      "text/plain": [
       "<Figure size 1200x1200 with 1 Axes>"
      ]
     },
     "metadata": {},
     "output_type": "display_data"
    }
   ],
   "source": [
    "plt.figure(figsize=(12,12))\n",
    "plt.subplot(221)\n",
    "sns.boxplot(kolkata_dataset['Area'])\n",
    "plt.title('Outliers In Area In Kolkata Dataset')\n",
    "# plt.subplot(222)\n",
    "# sns.boxplot(kolkata_dataset['Area'])\n",
    "# plt.title('Outliers In Area In Kolkata Dataset')\n",
    "# plt.subplot(223)\n",
    "# sns.boxplot(kolkata_dataset['Area'])\n",
    "# plt.title('Outliers In Area In Kolkata Dataset')\n",
    "# plt.subplot(224)\n",
    "# sns.boxplot(mumbai_dataset['Area'])\n",
    "# plt.title('Outliers In Area In Mumbai Dataset')\n",
    "plt.show()"
   ]
  },
  {
   "cell_type": "code",
   "execution_count": 19,
   "metadata": {
    "execution": {
     "iopub.execute_input": "2020-09-09T11:20:16.183674Z",
     "iopub.status.busy": "2020-09-09T11:20:16.182610Z",
     "iopub.status.idle": "2020-09-09T11:20:16.670119Z",
     "shell.execute_reply": "2020-09-09T11:20:16.669363Z"
    },
    "papermill": {
     "duration": 0.537298,
     "end_time": "2020-09-09T11:20:16.670248",
     "exception": false,
     "start_time": "2020-09-09T11:20:16.132950",
     "status": "completed"
    },
    "tags": []
   },
   "outputs": [
    {
     "data": {
      "image/png": "[encoded data removed]",
      "text/plain": [
       "<Figure size 1200x1200 with 1 Axes>"
      ]
     },
     "metadata": {},
     "output_type": "display_data"
    }
   ],
   "source": [
    "plt.figure(figsize=(12,12))\n",
    "plt.subplot(221)\n",
    "sns.boxplot(kolkata_dataset['No. of Bedrooms'])\n",
    "plt.title('Outliers In No. of Bedrooms In Kolkata Dataset')\n",
    "# plt.subplot(222)\n",
    "# sns.boxplot(kolkata_dataset['No. of Bedrooms'])\n",
    "# plt.title('Outliers In No. of Bedrooms In Kolkata Dataset')\n",
    "# plt.subplot(223)\n",
    "# sns.boxplot(kolkata_dataset['No. of Bedrooms'])\n",
    "# plt.title('Outliers In No. of Bedrooms In Kolkata Dataset')\n",
    "# plt.subplot(224)\n",
    "# sns.boxplot(mumbai_dataset['No. of Bedrooms'])\n",
    "# plt.title('Outliers In No. of Bedrooms In Mumbai Dataset')\n",
    "plt.show()"
   ]
  },
  {
   "cell_type": "markdown",
   "metadata": {
    "papermill": {
     "duration": 0.035358,
     "end_time": "2020-09-09T11:20:16.740743",
     "exception": false,
     "start_time": "2020-09-09T11:20:16.705385",
     "status": "completed"
    },
    "tags": []
   },
   "source": [
    "# Feature Engineering"
   ]
  },
  {
   "cell_type": "markdown",
   "metadata": {
    "papermill": {
     "duration": 0.035429,
     "end_time": "2020-09-09T11:20:16.977395",
     "exception": false,
     "start_time": "2020-09-09T11:20:16.941966",
     "status": "completed"
    },
    "tags": []
   },
   "source": [
    "### Correlation Matrix "
   ]
  },
  {
   "cell_type": "code",
   "execution_count": 20,
   "metadata": {
    "execution": {
     "iopub.execute_input": "2020-09-09T11:20:17.056784Z",
     "iopub.status.busy": "2020-09-09T11:20:17.056022Z",
     "iopub.status.idle": "2020-09-09T11:20:22.259469Z",
     "shell.execute_reply": "2020-09-09T11:20:22.260113Z"
    },
    "papermill": {
     "duration": 5.246999,
     "end_time": "2020-09-09T11:20:22.260276",
     "exception": false,
     "start_time": "2020-09-09T11:20:17.013277",
     "status": "completed"
    },
    "tags": []
   },
   "outputs": [],
   "source": [
    "# plt.figure(figsize=(35,35))\n",
    "# sns.heatmap(kolkata_dataset.corr(), annot=True, cmap='RdYlGn')\n",
    "# plt.show()"
   ]
  },
  {
   "cell_type": "markdown",
   "metadata": {},
   "source": [
    "#### Locations with greter than 20 mentions, rest will be tagged as 'other'"
   ]
  },
  {
   "cell_type": "code",
   "execution_count": 21,
   "metadata": {},
   "outputs": [
    {
     "data": {
      "text/plain": [
       "Location\n",
       "New Town               687\n",
       "Rajarhat               403\n",
       "Tangra                 359\n",
       "Garia                  297\n",
       "Dum Dum                296\n",
       "                      ... \n",
       "New Shakuntala Park      1\n",
       "Kasba Siemens            1\n",
       "Bondal Gate              1\n",
       "New Barrackpur           1\n",
       "Durganagar               1\n",
       "Name: count, Length: 308, dtype: int64"
      ]
     },
     "execution_count": 21,
     "metadata": {},
     "output_type": "execute_result"
    }
   ],
   "source": [
    "\n",
    "kolkata_dataset['Location'].value_counts()"
   ]
  },
  {
   "cell_type": "code",
   "execution_count": 22,
   "metadata": {},
   "outputs": [
    {
     "data": {
      "text/plain": [
       "Location\n",
       "New Town               687\n",
       "Rajarhat               403\n",
       "Tangra                 359\n",
       "Garia                  297\n",
       "Dum Dum                296\n",
       "                      ... \n",
       "New Shakuntala Park      1\n",
       "Kasba Siemens            1\n",
       "Bondal Gate              1\n",
       "New Barrackpur           1\n",
       "Durganagar               1\n",
       "Name: count, Length: 308, dtype: int64"
      ]
     },
     "execution_count": 22,
     "metadata": {},
     "output_type": "execute_result"
    }
   ],
   "source": [
    "\n",
    "kolkata_dataset['Location'] = kolkata_dataset['Location'].apply(lambda x: x.strip())\n",
    "location_stats = kolkata_dataset['Location'].value_counts(ascending=False)\n",
    "location_stats"
   ]
  },
  {
   "cell_type": "code",
   "execution_count": 23,
   "metadata": {},
   "outputs": [
    {
     "data": {
      "text/plain": [
       "Location\n",
       "Maheshtala             30\n",
       "Patuli                 30\n",
       "E M Bypass             30\n",
       "Ultadanga              29\n",
       "Tagore Park            28\n",
       "                       ..\n",
       "New Shakuntala Park     1\n",
       "Kasba Siemens           1\n",
       "Bondal Gate             1\n",
       "New Barrackpur          1\n",
       "Durganagar              1\n",
       "Name: count, Length: 276, dtype: int64"
      ]
     },
     "execution_count": 23,
     "metadata": {},
     "output_type": "execute_result"
    }
   ],
   "source": [
    "location_stats_less_than_20 = location_stats[location_stats<=30]\n",
    "location_stats_less_than_20"
   ]
  },
  {
   "cell_type": "code",
   "execution_count": 24,
   "metadata": {},
   "outputs": [
    {
     "data": {
      "text/plain": [
       "Location\n",
       "other                      1572\n",
       "New Town                    687\n",
       "Rajarhat                    403\n",
       "Tangra                      359\n",
       "Garia                       297\n",
       "Dum Dum                     296\n",
       "Howrah                      273\n",
       "Behala                      227\n",
       "Tollygunge                  199\n",
       "Madhyamgram                 195\n",
       "Narendrapur                 183\n",
       "Keshtopur                   173\n",
       "Mukundapur                  122\n",
       "Sonarpur                    121\n",
       "Alipore                     111\n",
       "Sodepur                      95\n",
       "Kasba                        93\n",
       "New Alipore                  85\n",
       "Salt Lake City               77\n",
       "Tiljala                      76\n",
       "Bansdroni                    64\n",
       "Barisha Purba Para Road      60\n",
       "Uttarpara Kotrung            58\n",
       "Nayabad                      57\n",
       "Ballygunge                   55\n",
       "Konnagar                     55\n",
       "Madurdaha Hussainpur         51\n",
       "Lake Town                    44\n",
       "Topsia                       43\n",
       "Haltu                        40\n",
       "Kaikhali                     36\n",
       "Hussainpur                   34\n",
       "Joka                         34\n",
       "Name: count, dtype: int64"
      ]
     },
     "execution_count": 24,
     "metadata": {},
     "output_type": "execute_result"
    }
   ],
   "source": [
    "\n",
    "kolkata_dataset['Location'] = kolkata_dataset['Location'].apply(lambda x: 'other' if x in location_stats_less_than_20 else x)\n",
    "kolkata_dataset['Location'].value_counts()"
   ]
  },
  {
   "cell_type": "code",
   "execution_count": 25,
   "metadata": {},
   "outputs": [
    {
     "data": {
      "text/plain": [
       "['other',\n",
       " 'Keshtopur',\n",
       " 'Rajarhat',\n",
       " 'Narendrapur',\n",
       " 'New Town',\n",
       " 'Joka',\n",
       " 'Tangra',\n",
       " 'Sonarpur',\n",
       " 'Madhyamgram',\n",
       " 'Dum Dum',\n",
       " 'Tollygunge',\n",
       " 'Madurdaha Hussainpur',\n",
       " 'New Alipore',\n",
       " 'Mukundapur',\n",
       " 'Behala',\n",
       " 'Sodepur',\n",
       " 'Konnagar',\n",
       " 'Uttarpara Kotrung',\n",
       " 'Hussainpur',\n",
       " 'Garia',\n",
       " 'Ballygunge',\n",
       " 'Kasba',\n",
       " 'Howrah',\n",
       " 'Barisha Purba Para Road',\n",
       " 'Tiljala',\n",
       " 'Lake Town',\n",
       " 'Alipore',\n",
       " 'Haltu',\n",
       " 'Salt Lake City',\n",
       " 'Kaikhali',\n",
       " 'Topsia',\n",
       " 'Nayabad',\n",
       " 'Bansdroni']"
      ]
     },
     "execution_count": 25,
     "metadata": {},
     "output_type": "execute_result"
    }
   ],
   "source": [
    "# print(kolkata_dataset['Location'].unique())\n",
    "\n",
    "[x for x in kolkata_dataset['Location'].unique()]"
   ]
  },
  {
   "cell_type": "markdown",
   "metadata": {},
   "source": [
    "### Only 41 locations are present in the kolkata dataset which has more than 20 mentions, rest all are tagged as 'other'"
   ]
  },
  {
   "cell_type": "markdown",
   "metadata": {
    "papermill": {
     "duration": 0.036903,
     "end_time": "2020-09-09T11:20:22.335098",
     "exception": false,
     "start_time": "2020-09-09T11:20:22.298195",
     "status": "completed"
    },
    "tags": []
   },
   "source": [
    "# Feature Importance"
   ]
  },
  {
   "cell_type": "code",
   "execution_count": 26,
   "metadata": {},
   "outputs": [
    {
     "data": {
      "text/html": [
       "<div>\n",
       "<style scoped>\n",
       "    .dataframe tbody tr th:only-of-type {\n",
       "        vertical-align: middle;\n",
       "    }\n",
       "\n",
       "    .dataframe tbody tr th {\n",
       "        vertical-align: top;\n",
       "    }\n",
       "\n",
       "    .dataframe thead th {\n",
       "        text-align: right;\n",
       "    }\n",
       "</style>\n",
       "<table border=\"1\" class=\"dataframe\">\n",
       "  <thead>\n",
       "    <tr style=\"text-align: right;\">\n",
       "      <th></th>\n",
       "      <th>Price</th>\n",
       "      <th>Area</th>\n",
       "      <th>Location</th>\n",
       "      <th>No. of Bedrooms</th>\n",
       "      <th>Resale</th>\n",
       "      <th>MaintenanceStaff</th>\n",
       "      <th>Gymnasium</th>\n",
       "      <th>SwimmingPool</th>\n",
       "      <th>LandscapedGardens</th>\n",
       "      <th>JoggingTrack</th>\n",
       "      <th>RainWaterHarvesting</th>\n",
       "      <th>IndoorGames</th>\n",
       "      <th>ShoppingMall</th>\n",
       "      <th>Intercom</th>\n",
       "      <th>SportsFacility</th>\n",
       "      <th>ATM</th>\n",
       "      <th>ClubHouse</th>\n",
       "      <th>School</th>\n",
       "      <th>24X7Security</th>\n",
       "      <th>PowerBackup</th>\n",
       "      <th>CarParking</th>\n",
       "      <th>StaffQuarter</th>\n",
       "      <th>Cafeteria</th>\n",
       "      <th>MultipurposeRoom</th>\n",
       "      <th>Hospital</th>\n",
       "      <th>WashingMachine</th>\n",
       "      <th>Gasconnection</th>\n",
       "      <th>AC</th>\n",
       "      <th>Wifi</th>\n",
       "      <th>Children'splayarea</th>\n",
       "      <th>LiftAvailable</th>\n",
       "      <th>BED</th>\n",
       "      <th>VaastuCompliant</th>\n",
       "      <th>Microwave</th>\n",
       "      <th>GolfCourse</th>\n",
       "      <th>TV</th>\n",
       "      <th>DiningTable</th>\n",
       "      <th>Sofa</th>\n",
       "      <th>Wardrobe</th>\n",
       "      <th>Refrigerator</th>\n",
       "      <th>Price_per_sqft</th>\n",
       "    </tr>\n",
       "  </thead>\n",
       "  <tbody>\n",
       "    <tr>\n",
       "      <th>0</th>\n",
       "      <td>2235000</td>\n",
       "      <td>1016</td>\n",
       "      <td>other</td>\n",
       "      <td>3.0</td>\n",
       "      <td>0</td>\n",
       "      <td>0</td>\n",
       "      <td>1</td>\n",
       "      <td>1</td>\n",
       "      <td>1</td>\n",
       "      <td>1</td>\n",
       "      <td>0</td>\n",
       "      <td>1</td>\n",
       "      <td>0</td>\n",
       "      <td>1</td>\n",
       "      <td>0</td>\n",
       "      <td>0</td>\n",
       "      <td>0</td>\n",
       "      <td>0</td>\n",
       "      <td>1</td>\n",
       "      <td>1</td>\n",
       "      <td>0</td>\n",
       "      <td>0</td>\n",
       "      <td>0</td>\n",
       "      <td>0</td>\n",
       "      <td>0</td>\n",
       "      <td>0</td>\n",
       "      <td>0</td>\n",
       "      <td>0</td>\n",
       "      <td>0</td>\n",
       "      <td>1</td>\n",
       "      <td>1</td>\n",
       "      <td>0</td>\n",
       "      <td>0</td>\n",
       "      <td>0</td>\n",
       "      <td>0</td>\n",
       "      <td>0</td>\n",
       "      <td>0</td>\n",
       "      <td>0</td>\n",
       "      <td>0</td>\n",
       "      <td>0</td>\n",
       "      <td>2.199803e+08</td>\n",
       "    </tr>\n",
       "    <tr>\n",
       "      <th>1</th>\n",
       "      <td>3665999</td>\n",
       "      <td>1111</td>\n",
       "      <td>Keshtopur</td>\n",
       "      <td>2.0</td>\n",
       "      <td>0</td>\n",
       "      <td>1</td>\n",
       "      <td>1</td>\n",
       "      <td>0</td>\n",
       "      <td>1</td>\n",
       "      <td>1</td>\n",
       "      <td>0</td>\n",
       "      <td>0</td>\n",
       "      <td>0</td>\n",
       "      <td>1</td>\n",
       "      <td>0</td>\n",
       "      <td>0</td>\n",
       "      <td>0</td>\n",
       "      <td>0</td>\n",
       "      <td>1</td>\n",
       "      <td>1</td>\n",
       "      <td>0</td>\n",
       "      <td>0</td>\n",
       "      <td>0</td>\n",
       "      <td>0</td>\n",
       "      <td>0</td>\n",
       "      <td>0</td>\n",
       "      <td>0</td>\n",
       "      <td>0</td>\n",
       "      <td>0</td>\n",
       "      <td>1</td>\n",
       "      <td>0</td>\n",
       "      <td>0</td>\n",
       "      <td>0</td>\n",
       "      <td>0</td>\n",
       "      <td>0</td>\n",
       "      <td>0</td>\n",
       "      <td>0</td>\n",
       "      <td>0</td>\n",
       "      <td>0</td>\n",
       "      <td>0</td>\n",
       "      <td>3.299729e+08</td>\n",
       "    </tr>\n",
       "    <tr>\n",
       "      <th>2</th>\n",
       "      <td>3774000</td>\n",
       "      <td>1020</td>\n",
       "      <td>Rajarhat</td>\n",
       "      <td>2.0</td>\n",
       "      <td>0</td>\n",
       "      <td>0</td>\n",
       "      <td>1</td>\n",
       "      <td>0</td>\n",
       "      <td>0</td>\n",
       "      <td>0</td>\n",
       "      <td>0</td>\n",
       "      <td>0</td>\n",
       "      <td>0</td>\n",
       "      <td>0</td>\n",
       "      <td>0</td>\n",
       "      <td>0</td>\n",
       "      <td>0</td>\n",
       "      <td>0</td>\n",
       "      <td>1</td>\n",
       "      <td>1</td>\n",
       "      <td>0</td>\n",
       "      <td>0</td>\n",
       "      <td>0</td>\n",
       "      <td>0</td>\n",
       "      <td>0</td>\n",
       "      <td>0</td>\n",
       "      <td>0</td>\n",
       "      <td>0</td>\n",
       "      <td>0</td>\n",
       "      <td>0</td>\n",
       "      <td>1</td>\n",
       "      <td>0</td>\n",
       "      <td>0</td>\n",
       "      <td>0</td>\n",
       "      <td>0</td>\n",
       "      <td>0</td>\n",
       "      <td>0</td>\n",
       "      <td>0</td>\n",
       "      <td>0</td>\n",
       "      <td>0</td>\n",
       "      <td>3.700000e+08</td>\n",
       "    </tr>\n",
       "    <tr>\n",
       "      <th>3</th>\n",
       "      <td>2524000</td>\n",
       "      <td>935</td>\n",
       "      <td>Narendrapur</td>\n",
       "      <td>2.0</td>\n",
       "      <td>0</td>\n",
       "      <td>0</td>\n",
       "      <td>1</td>\n",
       "      <td>1</td>\n",
       "      <td>1</td>\n",
       "      <td>1</td>\n",
       "      <td>0</td>\n",
       "      <td>1</td>\n",
       "      <td>0</td>\n",
       "      <td>1</td>\n",
       "      <td>0</td>\n",
       "      <td>0</td>\n",
       "      <td>1</td>\n",
       "      <td>0</td>\n",
       "      <td>1</td>\n",
       "      <td>1</td>\n",
       "      <td>0</td>\n",
       "      <td>0</td>\n",
       "      <td>0</td>\n",
       "      <td>0</td>\n",
       "      <td>0</td>\n",
       "      <td>0</td>\n",
       "      <td>0</td>\n",
       "      <td>0</td>\n",
       "      <td>0</td>\n",
       "      <td>1</td>\n",
       "      <td>0</td>\n",
       "      <td>0</td>\n",
       "      <td>0</td>\n",
       "      <td>0</td>\n",
       "      <td>0</td>\n",
       "      <td>0</td>\n",
       "      <td>0</td>\n",
       "      <td>0</td>\n",
       "      <td>0</td>\n",
       "      <td>0</td>\n",
       "      <td>2.699465e+08</td>\n",
       "    </tr>\n",
       "    <tr>\n",
       "      <th>4</th>\n",
       "      <td>8300000</td>\n",
       "      <td>1956</td>\n",
       "      <td>New Town</td>\n",
       "      <td>3.0</td>\n",
       "      <td>1</td>\n",
       "      <td>0</td>\n",
       "      <td>1</td>\n",
       "      <td>1</td>\n",
       "      <td>1</td>\n",
       "      <td>1</td>\n",
       "      <td>1</td>\n",
       "      <td>1</td>\n",
       "      <td>0</td>\n",
       "      <td>1</td>\n",
       "      <td>1</td>\n",
       "      <td>0</td>\n",
       "      <td>1</td>\n",
       "      <td>0</td>\n",
       "      <td>1</td>\n",
       "      <td>1</td>\n",
       "      <td>1</td>\n",
       "      <td>1</td>\n",
       "      <td>1</td>\n",
       "      <td>1</td>\n",
       "      <td>0</td>\n",
       "      <td>0</td>\n",
       "      <td>0</td>\n",
       "      <td>0</td>\n",
       "      <td>0</td>\n",
       "      <td>1</td>\n",
       "      <td>1</td>\n",
       "      <td>0</td>\n",
       "      <td>1</td>\n",
       "      <td>0</td>\n",
       "      <td>0</td>\n",
       "      <td>0</td>\n",
       "      <td>0</td>\n",
       "      <td>0</td>\n",
       "      <td>0</td>\n",
       "      <td>0</td>\n",
       "      <td>4.243354e+08</td>\n",
       "    </tr>\n",
       "  </tbody>\n",
       "</table>\n",
       "</div>"
      ],
      "text/plain": [
       "     Price  Area     Location  No. of Bedrooms  Resale  MaintenanceStaff  \\\n",
       "0  2235000  1016        other              3.0       0                 0   \n",
       "1  3665999  1111    Keshtopur              2.0       0                 1   \n",
       "2  3774000  1020     Rajarhat              2.0       0                 0   \n",
       "3  2524000   935  Narendrapur              2.0       0                 0   \n",
       "4  8300000  1956     New Town              3.0       1                 0   \n",
       "\n",
       "   Gymnasium  SwimmingPool  LandscapedGardens  JoggingTrack  \\\n",
       "0          1             1                  1             1   \n",
       "1          1             0                  1             1   \n",
       "2          1             0                  0             0   \n",
       "3          1             1                  1             1   \n",
       "4          1             1                  1             1   \n",
       "\n",
       "   RainWaterHarvesting  IndoorGames  ShoppingMall  Intercom  SportsFacility  \\\n",
       "0                    0            1             0         1               0   \n",
       "1                    0            0             0         1               0   \n",
       "2                    0            0             0         0               0   \n",
       "3                    0            1             0         1               0   \n",
       "4                    1            1             0         1               1   \n",
       "\n",
       "   ATM  ClubHouse  School  24X7Security  PowerBackup  CarParking  \\\n",
       "0    0          0       0             1            1           0   \n",
       "1    0          0       0             1            1           0   \n",
       "2    0          0       0             1            1           0   \n",
       "3    0          1       0             1            1           0   \n",
       "4    0          1       0             1            1           1   \n",
       "\n",
       "   StaffQuarter  Cafeteria  MultipurposeRoom  Hospital  WashingMachine  \\\n",
       "0             0          0                 0         0               0   \n",
       "1             0          0                 0         0               0   \n",
       "2             0          0                 0         0               0   \n",
       "3             0          0                 0         0               0   \n",
       "4             1          1                 1         0               0   \n",
       "\n",
       "   Gasconnection  AC  Wifi  Children'splayarea  LiftAvailable  BED  \\\n",
       "0              0   0     0                   1              1    0   \n",
       "1              0   0     0                   1              0    0   \n",
       "2              0   0     0                   0              1    0   \n",
       "3              0   0     0                   1              0    0   \n",
       "4              0   0     0                   1              1    0   \n",
       "\n",
       "   VaastuCompliant  Microwave  GolfCourse  TV  DiningTable  Sofa  Wardrobe  \\\n",
       "0                0          0           0   0            0     0         0   \n",
       "1                0          0           0   0            0     0         0   \n",
       "2                0          0           0   0            0     0         0   \n",
       "3                0          0           0   0            0     0         0   \n",
       "4                1          0           0   0            0     0         0   \n",
       "\n",
       "   Refrigerator  Price_per_sqft  \n",
       "0             0    2.199803e+08  \n",
       "1             0    3.299729e+08  \n",
       "2             0    3.700000e+08  \n",
       "3             0    2.699465e+08  \n",
       "4             0    4.243354e+08  "
      ]
     },
     "execution_count": 26,
     "metadata": {},
     "output_type": "execute_result"
    }
   ],
   "source": [
    "# from sklearn.preprocessing import LabelEncoder\n",
    "# le = LabelEncoder()\n",
    "# kolkata_dataset['Location'] = le.fit_transform(kolkata_dataset['Location'])\n",
    "# kolkata_dataset.head()\n",
    "\n",
    "kolkata_dataset['Price_per_sqft'] = kolkata_dataset['Price']*100000/kolkata_dataset['Area']\n",
    "kolkata_dataset.head()"
   ]
  },
  {
   "cell_type": "code",
   "execution_count": 27,
   "metadata": {},
   "outputs": [
    {
     "data": {
      "text/html": [
       "<div>\n",
       "<style scoped>\n",
       "    .dataframe tbody tr th:only-of-type {\n",
       "        vertical-align: middle;\n",
       "    }\n",
       "\n",
       "    .dataframe tbody tr th {\n",
       "        vertical-align: top;\n",
       "    }\n",
       "\n",
       "    .dataframe thead th {\n",
       "        text-align: right;\n",
       "    }\n",
       "</style>\n",
       "<table border=\"1\" class=\"dataframe\">\n",
       "  <thead>\n",
       "    <tr style=\"text-align: right;\">\n",
       "      <th></th>\n",
       "      <th>Price</th>\n",
       "      <th>Area</th>\n",
       "      <th>No. of Bedrooms</th>\n",
       "      <th>Resale</th>\n",
       "      <th>MaintenanceStaff</th>\n",
       "      <th>Gymnasium</th>\n",
       "      <th>SwimmingPool</th>\n",
       "      <th>LandscapedGardens</th>\n",
       "      <th>JoggingTrack</th>\n",
       "      <th>RainWaterHarvesting</th>\n",
       "      <th>IndoorGames</th>\n",
       "      <th>ShoppingMall</th>\n",
       "      <th>Intercom</th>\n",
       "      <th>SportsFacility</th>\n",
       "      <th>ATM</th>\n",
       "      <th>ClubHouse</th>\n",
       "      <th>School</th>\n",
       "      <th>24X7Security</th>\n",
       "      <th>PowerBackup</th>\n",
       "      <th>CarParking</th>\n",
       "      <th>StaffQuarter</th>\n",
       "      <th>Cafeteria</th>\n",
       "      <th>MultipurposeRoom</th>\n",
       "      <th>Hospital</th>\n",
       "      <th>WashingMachine</th>\n",
       "      <th>Gasconnection</th>\n",
       "      <th>AC</th>\n",
       "      <th>Wifi</th>\n",
       "      <th>Children'splayarea</th>\n",
       "      <th>LiftAvailable</th>\n",
       "      <th>BED</th>\n",
       "      <th>VaastuCompliant</th>\n",
       "      <th>Microwave</th>\n",
       "      <th>GolfCourse</th>\n",
       "      <th>TV</th>\n",
       "      <th>DiningTable</th>\n",
       "      <th>Sofa</th>\n",
       "      <th>Wardrobe</th>\n",
       "      <th>Refrigerator</th>\n",
       "      <th>Price_per_sqft</th>\n",
       "      <th>Location_Ballygunge</th>\n",
       "      <th>Location_Bansdroni</th>\n",
       "      <th>Location_Barisha Purba Para Road</th>\n",
       "      <th>Location_Behala</th>\n",
       "      <th>Location_Dum Dum</th>\n",
       "      <th>Location_Garia</th>\n",
       "      <th>Location_Haltu</th>\n",
       "      <th>Location_Howrah</th>\n",
       "      <th>Location_Hussainpur</th>\n",
       "      <th>Location_Joka</th>\n",
       "      <th>Location_Kaikhali</th>\n",
       "      <th>Location_Kasba</th>\n",
       "      <th>Location_Keshtopur</th>\n",
       "      <th>Location_Konnagar</th>\n",
       "      <th>Location_Lake Town</th>\n",
       "      <th>Location_Madhyamgram</th>\n",
       "      <th>Location_Madurdaha Hussainpur</th>\n",
       "      <th>Location_Mukundapur</th>\n",
       "      <th>Location_Narendrapur</th>\n",
       "      <th>Location_Nayabad</th>\n",
       "      <th>Location_New Alipore</th>\n",
       "      <th>Location_New Town</th>\n",
       "      <th>Location_Rajarhat</th>\n",
       "      <th>Location_Salt Lake City</th>\n",
       "      <th>Location_Sodepur</th>\n",
       "      <th>Location_Sonarpur</th>\n",
       "      <th>Location_Tangra</th>\n",
       "      <th>Location_Tiljala</th>\n",
       "      <th>Location_Tollygunge</th>\n",
       "      <th>Location_Topsia</th>\n",
       "      <th>Location_Uttarpara Kotrung</th>\n",
       "      <th>Location_other</th>\n",
       "    </tr>\n",
       "  </thead>\n",
       "  <tbody>\n",
       "    <tr>\n",
       "      <th>0</th>\n",
       "      <td>2235000</td>\n",
       "      <td>1016</td>\n",
       "      <td>3.0</td>\n",
       "      <td>0</td>\n",
       "      <td>0</td>\n",
       "      <td>1</td>\n",
       "      <td>1</td>\n",
       "      <td>1</td>\n",
       "      <td>1</td>\n",
       "      <td>0</td>\n",
       "      <td>1</td>\n",
       "      <td>0</td>\n",
       "      <td>1</td>\n",
       "      <td>0</td>\n",
       "      <td>0</td>\n",
       "      <td>0</td>\n",
       "      <td>0</td>\n",
       "      <td>1</td>\n",
       "      <td>1</td>\n",
       "      <td>0</td>\n",
       "      <td>0</td>\n",
       "      <td>0</td>\n",
       "      <td>0</td>\n",
       "      <td>0</td>\n",
       "      <td>0</td>\n",
       "      <td>0</td>\n",
       "      <td>0</td>\n",
       "      <td>0</td>\n",
       "      <td>1</td>\n",
       "      <td>1</td>\n",
       "      <td>0</td>\n",
       "      <td>0</td>\n",
       "      <td>0</td>\n",
       "      <td>0</td>\n",
       "      <td>0</td>\n",
       "      <td>0</td>\n",
       "      <td>0</td>\n",
       "      <td>0</td>\n",
       "      <td>0</td>\n",
       "      <td>2.199803e+08</td>\n",
       "      <td>False</td>\n",
       "      <td>False</td>\n",
       "      <td>False</td>\n",
       "      <td>False</td>\n",
       "      <td>False</td>\n",
       "      <td>False</td>\n",
       "      <td>False</td>\n",
       "      <td>False</td>\n",
       "      <td>False</td>\n",
       "      <td>False</td>\n",
       "      <td>False</td>\n",
       "      <td>False</td>\n",
       "      <td>False</td>\n",
       "      <td>False</td>\n",
       "      <td>False</td>\n",
       "      <td>False</td>\n",
       "      <td>False</td>\n",
       "      <td>False</td>\n",
       "      <td>False</td>\n",
       "      <td>False</td>\n",
       "      <td>False</td>\n",
       "      <td>False</td>\n",
       "      <td>False</td>\n",
       "      <td>False</td>\n",
       "      <td>False</td>\n",
       "      <td>False</td>\n",
       "      <td>False</td>\n",
       "      <td>False</td>\n",
       "      <td>False</td>\n",
       "      <td>False</td>\n",
       "      <td>False</td>\n",
       "      <td>True</td>\n",
       "    </tr>\n",
       "    <tr>\n",
       "      <th>1</th>\n",
       "      <td>3665999</td>\n",
       "      <td>1111</td>\n",
       "      <td>2.0</td>\n",
       "      <td>0</td>\n",
       "      <td>1</td>\n",
       "      <td>1</td>\n",
       "      <td>0</td>\n",
       "      <td>1</td>\n",
       "      <td>1</td>\n",
       "      <td>0</td>\n",
       "      <td>0</td>\n",
       "      <td>0</td>\n",
       "      <td>1</td>\n",
       "      <td>0</td>\n",
       "      <td>0</td>\n",
       "      <td>0</td>\n",
       "      <td>0</td>\n",
       "      <td>1</td>\n",
       "      <td>1</td>\n",
       "      <td>0</td>\n",
       "      <td>0</td>\n",
       "      <td>0</td>\n",
       "      <td>0</td>\n",
       "      <td>0</td>\n",
       "      <td>0</td>\n",
       "      <td>0</td>\n",
       "      <td>0</td>\n",
       "      <td>0</td>\n",
       "      <td>1</td>\n",
       "      <td>0</td>\n",
       "      <td>0</td>\n",
       "      <td>0</td>\n",
       "      <td>0</td>\n",
       "      <td>0</td>\n",
       "      <td>0</td>\n",
       "      <td>0</td>\n",
       "      <td>0</td>\n",
       "      <td>0</td>\n",
       "      <td>0</td>\n",
       "      <td>3.299729e+08</td>\n",
       "      <td>False</td>\n",
       "      <td>False</td>\n",
       "      <td>False</td>\n",
       "      <td>False</td>\n",
       "      <td>False</td>\n",
       "      <td>False</td>\n",
       "      <td>False</td>\n",
       "      <td>False</td>\n",
       "      <td>False</td>\n",
       "      <td>False</td>\n",
       "      <td>False</td>\n",
       "      <td>False</td>\n",
       "      <td>True</td>\n",
       "      <td>False</td>\n",
       "      <td>False</td>\n",
       "      <td>False</td>\n",
       "      <td>False</td>\n",
       "      <td>False</td>\n",
       "      <td>False</td>\n",
       "      <td>False</td>\n",
       "      <td>False</td>\n",
       "      <td>False</td>\n",
       "      <td>False</td>\n",
       "      <td>False</td>\n",
       "      <td>False</td>\n",
       "      <td>False</td>\n",
       "      <td>False</td>\n",
       "      <td>False</td>\n",
       "      <td>False</td>\n",
       "      <td>False</td>\n",
       "      <td>False</td>\n",
       "      <td>False</td>\n",
       "    </tr>\n",
       "    <tr>\n",
       "      <th>2</th>\n",
       "      <td>3774000</td>\n",
       "      <td>1020</td>\n",
       "      <td>2.0</td>\n",
       "      <td>0</td>\n",
       "      <td>0</td>\n",
       "      <td>1</td>\n",
       "      <td>0</td>\n",
       "      <td>0</td>\n",
       "      <td>0</td>\n",
       "      <td>0</td>\n",
       "      <td>0</td>\n",
       "      <td>0</td>\n",
       "      <td>0</td>\n",
       "      <td>0</td>\n",
       "      <td>0</td>\n",
       "      <td>0</td>\n",
       "      <td>0</td>\n",
       "      <td>1</td>\n",
       "      <td>1</td>\n",
       "      <td>0</td>\n",
       "      <td>0</td>\n",
       "      <td>0</td>\n",
       "      <td>0</td>\n",
       "      <td>0</td>\n",
       "      <td>0</td>\n",
       "      <td>0</td>\n",
       "      <td>0</td>\n",
       "      <td>0</td>\n",
       "      <td>0</td>\n",
       "      <td>1</td>\n",
       "      <td>0</td>\n",
       "      <td>0</td>\n",
       "      <td>0</td>\n",
       "      <td>0</td>\n",
       "      <td>0</td>\n",
       "      <td>0</td>\n",
       "      <td>0</td>\n",
       "      <td>0</td>\n",
       "      <td>0</td>\n",
       "      <td>3.700000e+08</td>\n",
       "      <td>False</td>\n",
       "      <td>False</td>\n",
       "      <td>False</td>\n",
       "      <td>False</td>\n",
       "      <td>False</td>\n",
       "      <td>False</td>\n",
       "      <td>False</td>\n",
       "      <td>False</td>\n",
       "      <td>False</td>\n",
       "      <td>False</td>\n",
       "      <td>False</td>\n",
       "      <td>False</td>\n",
       "      <td>False</td>\n",
       "      <td>False</td>\n",
       "      <td>False</td>\n",
       "      <td>False</td>\n",
       "      <td>False</td>\n",
       "      <td>False</td>\n",
       "      <td>False</td>\n",
       "      <td>False</td>\n",
       "      <td>False</td>\n",
       "      <td>False</td>\n",
       "      <td>True</td>\n",
       "      <td>False</td>\n",
       "      <td>False</td>\n",
       "      <td>False</td>\n",
       "      <td>False</td>\n",
       "      <td>False</td>\n",
       "      <td>False</td>\n",
       "      <td>False</td>\n",
       "      <td>False</td>\n",
       "      <td>False</td>\n",
       "    </tr>\n",
       "    <tr>\n",
       "      <th>3</th>\n",
       "      <td>2524000</td>\n",
       "      <td>935</td>\n",
       "      <td>2.0</td>\n",
       "      <td>0</td>\n",
       "      <td>0</td>\n",
       "      <td>1</td>\n",
       "      <td>1</td>\n",
       "      <td>1</td>\n",
       "      <td>1</td>\n",
       "      <td>0</td>\n",
       "      <td>1</td>\n",
       "      <td>0</td>\n",
       "      <td>1</td>\n",
       "      <td>0</td>\n",
       "      <td>0</td>\n",
       "      <td>1</td>\n",
       "      <td>0</td>\n",
       "      <td>1</td>\n",
       "      <td>1</td>\n",
       "      <td>0</td>\n",
       "      <td>0</td>\n",
       "      <td>0</td>\n",
       "      <td>0</td>\n",
       "      <td>0</td>\n",
       "      <td>0</td>\n",
       "      <td>0</td>\n",
       "      <td>0</td>\n",
       "      <td>0</td>\n",
       "      <td>1</td>\n",
       "      <td>0</td>\n",
       "      <td>0</td>\n",
       "      <td>0</td>\n",
       "      <td>0</td>\n",
       "      <td>0</td>\n",
       "      <td>0</td>\n",
       "      <td>0</td>\n",
       "      <td>0</td>\n",
       "      <td>0</td>\n",
       "      <td>0</td>\n",
       "      <td>2.699465e+08</td>\n",
       "      <td>False</td>\n",
       "      <td>False</td>\n",
       "      <td>False</td>\n",
       "      <td>False</td>\n",
       "      <td>False</td>\n",
       "      <td>False</td>\n",
       "      <td>False</td>\n",
       "      <td>False</td>\n",
       "      <td>False</td>\n",
       "      <td>False</td>\n",
       "      <td>False</td>\n",
       "      <td>False</td>\n",
       "      <td>False</td>\n",
       "      <td>False</td>\n",
       "      <td>False</td>\n",
       "      <td>False</td>\n",
       "      <td>False</td>\n",
       "      <td>False</td>\n",
       "      <td>True</td>\n",
       "      <td>False</td>\n",
       "      <td>False</td>\n",
       "      <td>False</td>\n",
       "      <td>False</td>\n",
       "      <td>False</td>\n",
       "      <td>False</td>\n",
       "      <td>False</td>\n",
       "      <td>False</td>\n",
       "      <td>False</td>\n",
       "      <td>False</td>\n",
       "      <td>False</td>\n",
       "      <td>False</td>\n",
       "      <td>False</td>\n",
       "    </tr>\n",
       "    <tr>\n",
       "      <th>4</th>\n",
       "      <td>8300000</td>\n",
       "      <td>1956</td>\n",
       "      <td>3.0</td>\n",
       "      <td>1</td>\n",
       "      <td>0</td>\n",
       "      <td>1</td>\n",
       "      <td>1</td>\n",
       "      <td>1</td>\n",
       "      <td>1</td>\n",
       "      <td>1</td>\n",
       "      <td>1</td>\n",
       "      <td>0</td>\n",
       "      <td>1</td>\n",
       "      <td>1</td>\n",
       "      <td>0</td>\n",
       "      <td>1</td>\n",
       "      <td>0</td>\n",
       "      <td>1</td>\n",
       "      <td>1</td>\n",
       "      <td>1</td>\n",
       "      <td>1</td>\n",
       "      <td>1</td>\n",
       "      <td>1</td>\n",
       "      <td>0</td>\n",
       "      <td>0</td>\n",
       "      <td>0</td>\n",
       "      <td>0</td>\n",
       "      <td>0</td>\n",
       "      <td>1</td>\n",
       "      <td>1</td>\n",
       "      <td>0</td>\n",
       "      <td>1</td>\n",
       "      <td>0</td>\n",
       "      <td>0</td>\n",
       "      <td>0</td>\n",
       "      <td>0</td>\n",
       "      <td>0</td>\n",
       "      <td>0</td>\n",
       "      <td>0</td>\n",
       "      <td>4.243354e+08</td>\n",
       "      <td>False</td>\n",
       "      <td>False</td>\n",
       "      <td>False</td>\n",
       "      <td>False</td>\n",
       "      <td>False</td>\n",
       "      <td>False</td>\n",
       "      <td>False</td>\n",
       "      <td>False</td>\n",
       "      <td>False</td>\n",
       "      <td>False</td>\n",
       "      <td>False</td>\n",
       "      <td>False</td>\n",
       "      <td>False</td>\n",
       "      <td>False</td>\n",
       "      <td>False</td>\n",
       "      <td>False</td>\n",
       "      <td>False</td>\n",
       "      <td>False</td>\n",
       "      <td>False</td>\n",
       "      <td>False</td>\n",
       "      <td>False</td>\n",
       "      <td>True</td>\n",
       "      <td>False</td>\n",
       "      <td>False</td>\n",
       "      <td>False</td>\n",
       "      <td>False</td>\n",
       "      <td>False</td>\n",
       "      <td>False</td>\n",
       "      <td>False</td>\n",
       "      <td>False</td>\n",
       "      <td>False</td>\n",
       "      <td>False</td>\n",
       "    </tr>\n",
       "  </tbody>\n",
       "</table>\n",
       "</div>"
      ],
      "text/plain": [
       "     Price  Area  No. of Bedrooms  Resale  MaintenanceStaff  Gymnasium  \\\n",
       "0  2235000  1016              3.0       0                 0          1   \n",
       "1  3665999  1111              2.0       0                 1          1   \n",
       "2  3774000  1020              2.0       0                 0          1   \n",
       "3  2524000   935              2.0       0                 0          1   \n",
       "4  8300000  1956              3.0       1                 0          1   \n",
       "\n",
       "   SwimmingPool  LandscapedGardens  JoggingTrack  RainWaterHarvesting  \\\n",
       "0             1                  1             1                    0   \n",
       "1             0                  1             1                    0   \n",
       "2             0                  0             0                    0   \n",
       "3             1                  1             1                    0   \n",
       "4             1                  1             1                    1   \n",
       "\n",
       "   IndoorGames  ShoppingMall  Intercom  SportsFacility  ATM  ClubHouse  \\\n",
       "0            1             0         1               0    0          0   \n",
       "1            0             0         1               0    0          0   \n",
       "2            0             0         0               0    0          0   \n",
       "3            1             0         1               0    0          1   \n",
       "4            1             0         1               1    0          1   \n",
       "\n",
       "   School  24X7Security  PowerBackup  CarParking  StaffQuarter  Cafeteria  \\\n",
       "0       0             1            1           0             0          0   \n",
       "1       0             1            1           0             0          0   \n",
       "2       0             1            1           0             0          0   \n",
       "3       0             1            1           0             0          0   \n",
       "4       0             1            1           1             1          1   \n",
       "\n",
       "   MultipurposeRoom  Hospital  WashingMachine  Gasconnection  AC  Wifi  \\\n",
       "0                 0         0               0              0   0     0   \n",
       "1                 0         0               0              0   0     0   \n",
       "2                 0         0               0              0   0     0   \n",
       "3                 0         0               0              0   0     0   \n",
       "4                 1         0               0              0   0     0   \n",
       "\n",
       "   Children'splayarea  LiftAvailable  BED  VaastuCompliant  Microwave  \\\n",
       "0                   1              1    0                0          0   \n",
       "1                   1              0    0                0          0   \n",
       "2                   0              1    0                0          0   \n",
       "3                   1              0    0                0          0   \n",
       "4                   1              1    0                1          0   \n",
       "\n",
       "   GolfCourse  TV  DiningTable  Sofa  Wardrobe  Refrigerator  Price_per_sqft  \\\n",
       "0           0   0            0     0         0             0    2.199803e+08   \n",
       "1           0   0            0     0         0             0    3.299729e+08   \n",
       "2           0   0            0     0         0             0    3.700000e+08   \n",
       "3           0   0            0     0         0             0    2.699465e+08   \n",
       "4           0   0            0     0         0             0    4.243354e+08   \n",
       "\n",
       "   Location_Ballygunge  Location_Bansdroni  Location_Barisha Purba Para Road  \\\n",
       "0                False               False                             False   \n",
       "1                False               False                             False   \n",
       "2                False               False                             False   \n",
       "3                False               False                             False   \n",
       "4                False               False                             False   \n",
       "\n",
       "   Location_Behala  Location_Dum Dum  Location_Garia  Location_Haltu  \\\n",
       "0            False             False           False           False   \n",
       "1            False             False           False           False   \n",
       "2            False             False           False           False   \n",
       "3            False             False           False           False   \n",
       "4            False             False           False           False   \n",
       "\n",
       "   Location_Howrah  Location_Hussainpur  Location_Joka  Location_Kaikhali  \\\n",
       "0            False                False          False              False   \n",
       "1            False                False          False              False   \n",
       "2            False                False          False              False   \n",
       "3            False                False          False              False   \n",
       "4            False                False          False              False   \n",
       "\n",
       "   Location_Kasba  Location_Keshtopur  Location_Konnagar  Location_Lake Town  \\\n",
       "0           False               False              False               False   \n",
       "1           False                True              False               False   \n",
       "2           False               False              False               False   \n",
       "3           False               False              False               False   \n",
       "4           False               False              False               False   \n",
       "\n",
       "   Location_Madhyamgram  Location_Madurdaha Hussainpur  Location_Mukundapur  \\\n",
       "0                 False                          False                False   \n",
       "1                 False                          False                False   \n",
       "2                 False                          False                False   \n",
       "3                 False                          False                False   \n",
       "4                 False                          False                False   \n",
       "\n",
       "   Location_Narendrapur  Location_Nayabad  Location_New Alipore  \\\n",
       "0                 False             False                 False   \n",
       "1                 False             False                 False   \n",
       "2                 False             False                 False   \n",
       "3                  True             False                 False   \n",
       "4                 False             False                 False   \n",
       "\n",
       "   Location_New Town  Location_Rajarhat  Location_Salt Lake City  \\\n",
       "0              False              False                    False   \n",
       "1              False              False                    False   \n",
       "2              False               True                    False   \n",
       "3              False              False                    False   \n",
       "4               True              False                    False   \n",
       "\n",
       "   Location_Sodepur  Location_Sonarpur  Location_Tangra  Location_Tiljala  \\\n",
       "0             False              False            False             False   \n",
       "1             False              False            False             False   \n",
       "2             False              False            False             False   \n",
       "3             False              False            False             False   \n",
       "4             False              False            False             False   \n",
       "\n",
       "   Location_Tollygunge  Location_Topsia  Location_Uttarpara Kotrung  \\\n",
       "0                False            False                       False   \n",
       "1                False            False                       False   \n",
       "2                False            False                       False   \n",
       "3                False            False                       False   \n",
       "4                False            False                       False   \n",
       "\n",
       "   Location_other  \n",
       "0            True  \n",
       "1           False  \n",
       "2           False  \n",
       "3           False  \n",
       "4           False  "
      ]
     },
     "execution_count": 27,
     "metadata": {},
     "output_type": "execute_result"
    }
   ],
   "source": [
    "# get dummies\n",
    "kolkata_dataset = pd.get_dummies(kolkata_dataset, columns=['Location'], drop_first=True)\n",
    "kolkata_dataset.head()"
   ]
  },
  {
   "cell_type": "code",
   "execution_count": 28,
   "metadata": {
    "execution": {
     "iopub.execute_input": "2020-09-09T11:20:22.421079Z",
     "iopub.status.busy": "2020-09-09T11:20:22.420255Z",
     "iopub.status.idle": "2020-09-09T11:20:22.424697Z",
     "shell.execute_reply": "2020-09-09T11:20:22.424092Z"
    },
    "papermill": {
     "duration": 0.052551,
     "end_time": "2020-09-09T11:20:22.424827",
     "exception": false,
     "start_time": "2020-09-09T11:20:22.372276",
     "status": "completed"
    },
    "tags": []
   },
   "outputs": [
    {
     "data": {
      "text/plain": [
       "((6275, 71), (6275,))"
      ]
     },
     "execution_count": 28,
     "metadata": {},
     "output_type": "execute_result"
    }
   ],
   "source": [
    "features = kolkata_dataset.drop(['Price'], axis=1)\n",
    "label = kolkata_dataset['Price']\n",
    "features.shape, label.shape"
   ]
  },
  {
   "cell_type": "code",
   "execution_count": 29,
   "metadata": {},
   "outputs": [
    {
     "data": {
      "text/plain": [
       "Index(['Price', 'Area', 'No. of Bedrooms', 'Resale', 'MaintenanceStaff',\n",
       "       'Gymnasium', 'SwimmingPool', 'LandscapedGardens', 'JoggingTrack',\n",
       "       'RainWaterHarvesting', 'IndoorGames', 'ShoppingMall', 'Intercom',\n",
       "       'SportsFacility', 'ATM', 'ClubHouse', 'School', '24X7Security',\n",
       "       'PowerBackup', 'CarParking', 'StaffQuarter', 'Cafeteria',\n",
       "       'MultipurposeRoom', 'Hospital', 'WashingMachine', 'Gasconnection', 'AC',\n",
       "       'Wifi', 'Children'splayarea', 'LiftAvailable', 'BED', 'VaastuCompliant',\n",
       "       'Microwave', 'GolfCourse', 'TV', 'DiningTable', 'Sofa', 'Wardrobe',\n",
       "       'Refrigerator', 'Price_per_sqft', 'Location_Ballygunge',\n",
       "       'Location_Bansdroni', 'Location_Barisha Purba Para Road',\n",
       "       'Location_Behala', 'Location_Dum Dum', 'Location_Garia',\n",
       "       'Location_Haltu', 'Location_Howrah', 'Location_Hussainpur',\n",
       "       'Location_Joka', 'Location_Kaikhali', 'Location_Kasba',\n",
       "       'Location_Keshtopur', 'Location_Konnagar', 'Location_Lake Town',\n",
       "       'Location_Madhyamgram', 'Location_Madurdaha Hussainpur',\n",
       "       'Location_Mukundapur', 'Location_Narendrapur', 'Location_Nayabad',\n",
       "       'Location_New Alipore', 'Location_New Town', 'Location_Rajarhat',\n",
       "       'Location_Salt Lake City', 'Location_Sodepur', 'Location_Sonarpur',\n",
       "       'Location_Tangra', 'Location_Tiljala', 'Location_Tollygunge',\n",
       "       'Location_Topsia', 'Location_Uttarpara Kotrung', 'Location_other'],\n",
       "      dtype='object')"
      ]
     },
     "execution_count": 29,
     "metadata": {},
     "output_type": "execute_result"
    }
   ],
   "source": [
    "kolkata_dataset.columns"
   ]
  },
  {
   "cell_type": "code",
   "execution_count": 30,
   "metadata": {
    "execution": {
     "iopub.execute_input": "2020-09-09T11:20:22.509548Z",
     "iopub.status.busy": "2020-09-09T11:20:22.508784Z",
     "iopub.status.idle": "2020-09-09T11:20:29.157913Z",
     "shell.execute_reply": "2020-09-09T11:20:29.158480Z"
    },
    "papermill": {
     "duration": 6.696468,
     "end_time": "2020-09-09T11:20:29.158642",
     "exception": false,
     "start_time": "2020-09-09T11:20:22.462174",
     "status": "completed"
    },
    "tags": []
   },
   "outputs": [
    {
     "data": {
      "image/png": "[encoded data removed]",
      "text/plain": [
       "<Figure size 1200x500 with 1 Axes>"
      ]
     },
     "metadata": {},
     "output_type": "display_data"
    }
   ],
   "source": [
    "plt.figure(figsize=(12,5))\n",
    "from sklearn.ensemble import ExtraTreesRegressor\n",
    "etr = ExtraTreesRegressor()\n",
    "etr.fit(features, label)\n",
    "feature_importance = pd.Series(etr.feature_importances_, index=features.columns)\n",
    "feature_importance.nlargest(20).plot(kind='barh')\n",
    "plt.show()"
   ]
  },
  {
   "cell_type": "markdown",
   "metadata": {
    "papermill": {
     "duration": 0.037567,
     "end_time": "2020-09-09T11:20:29.234076",
     "exception": false,
     "start_time": "2020-09-09T11:20:29.196509",
     "status": "completed"
    },
    "tags": []
   },
   "source": [
    "* Correlation matrix shows Area, No. of Bedrooms, Resale, LiftAvailable, Gasconnection, Wardrobe are importance have good correlation with label and are important features."
   ]
  },
  {
   "cell_type": "markdown",
   "metadata": {
    "papermill": {
     "duration": 0.037666,
     "end_time": "2020-09-09T11:20:29.309704",
     "exception": false,
     "start_time": "2020-09-09T11:20:29.272038",
     "status": "completed"
    },
    "tags": []
   },
   "source": [
    "# Splitting data into train and test"
   ]
  },
  {
   "cell_type": "code",
   "execution_count": 35,
   "metadata": {
    "execution": {
     "iopub.execute_input": "2020-09-09T11:20:29.708335Z",
     "iopub.status.busy": "2020-09-09T11:20:29.705623Z",
     "iopub.status.idle": "2020-09-09T11:20:29.827876Z",
     "shell.execute_reply": "2020-09-09T11:20:29.827309Z"
    },
    "papermill": {
     "duration": 0.169251,
     "end_time": "2020-09-09T11:20:29.828018",
     "exception": false,
     "start_time": "2020-09-09T11:20:29.658767",
     "status": "completed"
    },
    "tags": []
   },
   "outputs": [
    {
     "data": {
      "text/plain": [
       "((4392, 40), (1883, 40), (4392,), (1883,))"
      ]
     },
     "execution_count": 35,
     "metadata": {},
     "output_type": "execute_result"
    }
   ],
   "source": [
    "features = ['MaintenanceStaff','Gymnasium','SwimmingPool','LandscapedGardens','JoggingTrack','RainWaterHarvesting',\n",
    "            'IndoorGames','ShoppingMall','Intercom','SportsFacility','ATM','ClubHouse','School','24X7Security',\n",
    "            'PowerBackup','CarParking','StaffQuarter','Cafeteria','MultipurposeRoom','Hospital','WashingMachine',\n",
    "            'AC','Wifi','BED','VaastuCompliant','Microwave','GolfCourse','TV','DiningTable',\n",
    "            'Sofa','Refrigerator']\n",
    "selected_features = kolkata_dataset.drop(kolkata_dataset[features], axis=1)\n",
    "selected_features.drop(['Price'], axis=1, inplace=True)\n",
    "from sklearn.model_selection import train_test_split\n",
    "features_train, features_test, label_train, label_test = train_test_split(selected_features, label, test_size=0.3, random_state=40)\n",
    "features_train.shape, features_test.shape, label_train.shape, label_test.shape"
   ]
  },
  {
   "cell_type": "code",
   "execution_count": 36,
   "metadata": {},
   "outputs": [
    {
     "data": {
      "text/html": [
       "<div>\n",
       "<style scoped>\n",
       "    .dataframe tbody tr th:only-of-type {\n",
       "        vertical-align: middle;\n",
       "    }\n",
       "\n",
       "    .dataframe tbody tr th {\n",
       "        vertical-align: top;\n",
       "    }\n",
       "\n",
       "    .dataframe thead th {\n",
       "        text-align: right;\n",
       "    }\n",
       "</style>\n",
       "<table border=\"1\" class=\"dataframe\">\n",
       "  <thead>\n",
       "    <tr style=\"text-align: right;\">\n",
       "      <th></th>\n",
       "      <th>Area</th>\n",
       "      <th>No. of Bedrooms</th>\n",
       "      <th>Resale</th>\n",
       "      <th>Gasconnection</th>\n",
       "      <th>Children'splayarea</th>\n",
       "      <th>LiftAvailable</th>\n",
       "      <th>Wardrobe</th>\n",
       "      <th>Price_per_sqft</th>\n",
       "      <th>Location_Ballygunge</th>\n",
       "      <th>Location_Bansdroni</th>\n",
       "      <th>Location_Barisha Purba Para Road</th>\n",
       "      <th>Location_Behala</th>\n",
       "      <th>Location_Dum Dum</th>\n",
       "      <th>Location_Garia</th>\n",
       "      <th>Location_Haltu</th>\n",
       "      <th>Location_Howrah</th>\n",
       "      <th>Location_Hussainpur</th>\n",
       "      <th>Location_Joka</th>\n",
       "      <th>Location_Kaikhali</th>\n",
       "      <th>Location_Kasba</th>\n",
       "      <th>Location_Keshtopur</th>\n",
       "      <th>Location_Konnagar</th>\n",
       "      <th>Location_Lake Town</th>\n",
       "      <th>Location_Madhyamgram</th>\n",
       "      <th>Location_Madurdaha Hussainpur</th>\n",
       "      <th>Location_Mukundapur</th>\n",
       "      <th>Location_Narendrapur</th>\n",
       "      <th>Location_Nayabad</th>\n",
       "      <th>Location_New Alipore</th>\n",
       "      <th>Location_New Town</th>\n",
       "      <th>Location_Rajarhat</th>\n",
       "      <th>Location_Salt Lake City</th>\n",
       "      <th>Location_Sodepur</th>\n",
       "      <th>Location_Sonarpur</th>\n",
       "      <th>Location_Tangra</th>\n",
       "      <th>Location_Tiljala</th>\n",
       "      <th>Location_Tollygunge</th>\n",
       "      <th>Location_Topsia</th>\n",
       "      <th>Location_Uttarpara Kotrung</th>\n",
       "      <th>Location_other</th>\n",
       "    </tr>\n",
       "  </thead>\n",
       "  <tbody>\n",
       "    <tr>\n",
       "      <th>0</th>\n",
       "      <td>1016</td>\n",
       "      <td>3.0</td>\n",
       "      <td>0</td>\n",
       "      <td>0</td>\n",
       "      <td>1</td>\n",
       "      <td>1</td>\n",
       "      <td>0</td>\n",
       "      <td>2.199803e+08</td>\n",
       "      <td>False</td>\n",
       "      <td>False</td>\n",
       "      <td>False</td>\n",
       "      <td>False</td>\n",
       "      <td>False</td>\n",
       "      <td>False</td>\n",
       "      <td>False</td>\n",
       "      <td>False</td>\n",
       "      <td>False</td>\n",
       "      <td>False</td>\n",
       "      <td>False</td>\n",
       "      <td>False</td>\n",
       "      <td>False</td>\n",
       "      <td>False</td>\n",
       "      <td>False</td>\n",
       "      <td>False</td>\n",
       "      <td>False</td>\n",
       "      <td>False</td>\n",
       "      <td>False</td>\n",
       "      <td>False</td>\n",
       "      <td>False</td>\n",
       "      <td>False</td>\n",
       "      <td>False</td>\n",
       "      <td>False</td>\n",
       "      <td>False</td>\n",
       "      <td>False</td>\n",
       "      <td>False</td>\n",
       "      <td>False</td>\n",
       "      <td>False</td>\n",
       "      <td>False</td>\n",
       "      <td>False</td>\n",
       "      <td>True</td>\n",
       "    </tr>\n",
       "    <tr>\n",
       "      <th>1</th>\n",
       "      <td>1111</td>\n",
       "      <td>2.0</td>\n",
       "      <td>0</td>\n",
       "      <td>0</td>\n",
       "      <td>1</td>\n",
       "      <td>0</td>\n",
       "      <td>0</td>\n",
       "      <td>3.299729e+08</td>\n",
       "      <td>False</td>\n",
       "      <td>False</td>\n",
       "      <td>False</td>\n",
       "      <td>False</td>\n",
       "      <td>False</td>\n",
       "      <td>False</td>\n",
       "      <td>False</td>\n",
       "      <td>False</td>\n",
       "      <td>False</td>\n",
       "      <td>False</td>\n",
       "      <td>False</td>\n",
       "      <td>False</td>\n",
       "      <td>True</td>\n",
       "      <td>False</td>\n",
       "      <td>False</td>\n",
       "      <td>False</td>\n",
       "      <td>False</td>\n",
       "      <td>False</td>\n",
       "      <td>False</td>\n",
       "      <td>False</td>\n",
       "      <td>False</td>\n",
       "      <td>False</td>\n",
       "      <td>False</td>\n",
       "      <td>False</td>\n",
       "      <td>False</td>\n",
       "      <td>False</td>\n",
       "      <td>False</td>\n",
       "      <td>False</td>\n",
       "      <td>False</td>\n",
       "      <td>False</td>\n",
       "      <td>False</td>\n",
       "      <td>False</td>\n",
       "    </tr>\n",
       "    <tr>\n",
       "      <th>2</th>\n",
       "      <td>1020</td>\n",
       "      <td>2.0</td>\n",
       "      <td>0</td>\n",
       "      <td>0</td>\n",
       "      <td>0</td>\n",
       "      <td>1</td>\n",
       "      <td>0</td>\n",
       "      <td>3.700000e+08</td>\n",
       "      <td>False</td>\n",
       "      <td>False</td>\n",
       "      <td>False</td>\n",
       "      <td>False</td>\n",
       "      <td>False</td>\n",
       "      <td>False</td>\n",
       "      <td>False</td>\n",
       "      <td>False</td>\n",
       "      <td>False</td>\n",
       "      <td>False</td>\n",
       "      <td>False</td>\n",
       "      <td>False</td>\n",
       "      <td>False</td>\n",
       "      <td>False</td>\n",
       "      <td>False</td>\n",
       "      <td>False</td>\n",
       "      <td>False</td>\n",
       "      <td>False</td>\n",
       "      <td>False</td>\n",
       "      <td>False</td>\n",
       "      <td>False</td>\n",
       "      <td>False</td>\n",
       "      <td>True</td>\n",
       "      <td>False</td>\n",
       "      <td>False</td>\n",
       "      <td>False</td>\n",
       "      <td>False</td>\n",
       "      <td>False</td>\n",
       "      <td>False</td>\n",
       "      <td>False</td>\n",
       "      <td>False</td>\n",
       "      <td>False</td>\n",
       "    </tr>\n",
       "    <tr>\n",
       "      <th>3</th>\n",
       "      <td>935</td>\n",
       "      <td>2.0</td>\n",
       "      <td>0</td>\n",
       "      <td>0</td>\n",
       "      <td>1</td>\n",
       "      <td>0</td>\n",
       "      <td>0</td>\n",
       "      <td>2.699465e+08</td>\n",
       "      <td>False</td>\n",
       "      <td>False</td>\n",
       "      <td>False</td>\n",
       "      <td>False</td>\n",
       "      <td>False</td>\n",
       "      <td>False</td>\n",
       "      <td>False</td>\n",
       "      <td>False</td>\n",
       "      <td>False</td>\n",
       "      <td>False</td>\n",
       "      <td>False</td>\n",
       "      <td>False</td>\n",
       "      <td>False</td>\n",
       "      <td>False</td>\n",
       "      <td>False</td>\n",
       "      <td>False</td>\n",
       "      <td>False</td>\n",
       "      <td>False</td>\n",
       "      <td>True</td>\n",
       "      <td>False</td>\n",
       "      <td>False</td>\n",
       "      <td>False</td>\n",
       "      <td>False</td>\n",
       "      <td>False</td>\n",
       "      <td>False</td>\n",
       "      <td>False</td>\n",
       "      <td>False</td>\n",
       "      <td>False</td>\n",
       "      <td>False</td>\n",
       "      <td>False</td>\n",
       "      <td>False</td>\n",
       "      <td>False</td>\n",
       "    </tr>\n",
       "    <tr>\n",
       "      <th>4</th>\n",
       "      <td>1956</td>\n",
       "      <td>3.0</td>\n",
       "      <td>1</td>\n",
       "      <td>0</td>\n",
       "      <td>1</td>\n",
       "      <td>1</td>\n",
       "      <td>0</td>\n",
       "      <td>4.243354e+08</td>\n",
       "      <td>False</td>\n",
       "      <td>False</td>\n",
       "      <td>False</td>\n",
       "      <td>False</td>\n",
       "      <td>False</td>\n",
       "      <td>False</td>\n",
       "      <td>False</td>\n",
       "      <td>False</td>\n",
       "      <td>False</td>\n",
       "      <td>False</td>\n",
       "      <td>False</td>\n",
       "      <td>False</td>\n",
       "      <td>False</td>\n",
       "      <td>False</td>\n",
       "      <td>False</td>\n",
       "      <td>False</td>\n",
       "      <td>False</td>\n",
       "      <td>False</td>\n",
       "      <td>False</td>\n",
       "      <td>False</td>\n",
       "      <td>False</td>\n",
       "      <td>True</td>\n",
       "      <td>False</td>\n",
       "      <td>False</td>\n",
       "      <td>False</td>\n",
       "      <td>False</td>\n",
       "      <td>False</td>\n",
       "      <td>False</td>\n",
       "      <td>False</td>\n",
       "      <td>False</td>\n",
       "      <td>False</td>\n",
       "      <td>False</td>\n",
       "    </tr>\n",
       "  </tbody>\n",
       "</table>\n",
       "</div>"
      ],
      "text/plain": [
       "   Area  No. of Bedrooms  Resale  Gasconnection  Children'splayarea  \\\n",
       "0  1016              3.0       0              0                   1   \n",
       "1  1111              2.0       0              0                   1   \n",
       "2  1020              2.0       0              0                   0   \n",
       "3   935              2.0       0              0                   1   \n",
       "4  1956              3.0       1              0                   1   \n",
       "\n",
       "   LiftAvailable  Wardrobe  Price_per_sqft  Location_Ballygunge  \\\n",
       "0              1         0    2.199803e+08                False   \n",
       "1              0         0    3.299729e+08                False   \n",
       "2              1         0    3.700000e+08                False   \n",
       "3              0         0    2.699465e+08                False   \n",
       "4              1         0    4.243354e+08                False   \n",
       "\n",
       "   Location_Bansdroni  Location_Barisha Purba Para Road  Location_Behala  \\\n",
       "0               False                             False            False   \n",
       "1               False                             False            False   \n",
       "2               False                             False            False   \n",
       "3               False                             False            False   \n",
       "4               False                             False            False   \n",
       "\n",
       "   Location_Dum Dum  Location_Garia  Location_Haltu  Location_Howrah  \\\n",
       "0             False           False           False            False   \n",
       "1             False           False           False            False   \n",
       "2             False           False           False            False   \n",
       "3             False           False           False            False   \n",
       "4             False           False           False            False   \n",
       "\n",
       "   Location_Hussainpur  Location_Joka  Location_Kaikhali  Location_Kasba  \\\n",
       "0                False          False              False           False   \n",
       "1                False          False              False           False   \n",
       "2                False          False              False           False   \n",
       "3                False          False              False           False   \n",
       "4                False          False              False           False   \n",
       "\n",
       "   Location_Keshtopur  Location_Konnagar  Location_Lake Town  \\\n",
       "0               False              False               False   \n",
       "1                True              False               False   \n",
       "2               False              False               False   \n",
       "3               False              False               False   \n",
       "4               False              False               False   \n",
       "\n",
       "   Location_Madhyamgram  Location_Madurdaha Hussainpur  Location_Mukundapur  \\\n",
       "0                 False                          False                False   \n",
       "1                 False                          False                False   \n",
       "2                 False                          False                False   \n",
       "3                 False                          False                False   \n",
       "4                 False                          False                False   \n",
       "\n",
       "   Location_Narendrapur  Location_Nayabad  Location_New Alipore  \\\n",
       "0                 False             False                 False   \n",
       "1                 False             False                 False   \n",
       "2                 False             False                 False   \n",
       "3                  True             False                 False   \n",
       "4                 False             False                 False   \n",
       "\n",
       "   Location_New Town  Location_Rajarhat  Location_Salt Lake City  \\\n",
       "0              False              False                    False   \n",
       "1              False              False                    False   \n",
       "2              False               True                    False   \n",
       "3              False              False                    False   \n",
       "4               True              False                    False   \n",
       "\n",
       "   Location_Sodepur  Location_Sonarpur  Location_Tangra  Location_Tiljala  \\\n",
       "0             False              False            False             False   \n",
       "1             False              False            False             False   \n",
       "2             False              False            False             False   \n",
       "3             False              False            False             False   \n",
       "4             False              False            False             False   \n",
       "\n",
       "   Location_Tollygunge  Location_Topsia  Location_Uttarpara Kotrung  \\\n",
       "0                False            False                       False   \n",
       "1                False            False                       False   \n",
       "2                False            False                       False   \n",
       "3                False            False                       False   \n",
       "4                False            False                       False   \n",
       "\n",
       "   Location_other  \n",
       "0            True  \n",
       "1           False  \n",
       "2           False  \n",
       "3           False  \n",
       "4           False  "
      ]
     },
     "execution_count": 36,
     "metadata": {},
     "output_type": "execute_result"
    }
   ],
   "source": [
    "selected_features.head()"
   ]
  },
  {
   "cell_type": "markdown",
   "metadata": {},
   "source": [
    "# Imprt Model\n"
   ]
  },
  {
   "cell_type": "code",
   "execution_count": 37,
   "metadata": {},
   "outputs": [
    {
     "data": {
      "text/plain": [
       "0.9008827837483502"
      ]
     },
     "execution_count": 37,
     "metadata": {},
     "output_type": "execute_result"
    }
   ],
   "source": [
    "from sklearn.linear_model import LinearRegression\n",
    "lr = LinearRegression()\n",
    "lr.fit(features_train, label_train)\n",
    "lr.score(features_test, label_test)\n"
   ]
  },
  {
   "cell_type": "code",
   "execution_count": 38,
   "metadata": {},
   "outputs": [
    {
     "data": {
      "text/plain": [
       "['Area',\n",
       " 'No. of Bedrooms',\n",
       " 'Resale',\n",
       " 'Gasconnection',\n",
       " \"Children'splayarea\",\n",
       " 'LiftAvailable',\n",
       " 'Wardrobe',\n",
       " 'Price_per_sqft',\n",
       " 'Location_Ballygunge',\n",
       " 'Location_Bansdroni',\n",
       " 'Location_Barisha Purba Para Road',\n",
       " 'Location_Behala',\n",
       " 'Location_Dum Dum',\n",
       " 'Location_Garia',\n",
       " 'Location_Haltu',\n",
       " 'Location_Howrah',\n",
       " 'Location_Hussainpur',\n",
       " 'Location_Joka',\n",
       " 'Location_Kaikhali',\n",
       " 'Location_Kasba',\n",
       " 'Location_Keshtopur',\n",
       " 'Location_Konnagar',\n",
       " 'Location_Lake Town',\n",
       " 'Location_Madhyamgram',\n",
       " 'Location_Madurdaha Hussainpur',\n",
       " 'Location_Mukundapur',\n",
       " 'Location_Narendrapur',\n",
       " 'Location_Nayabad',\n",
       " 'Location_New Alipore',\n",
       " 'Location_New Town',\n",
       " 'Location_Rajarhat',\n",
       " 'Location_Salt Lake City',\n",
       " 'Location_Sodepur',\n",
       " 'Location_Sonarpur',\n",
       " 'Location_Tangra',\n",
       " 'Location_Tiljala',\n",
       " 'Location_Tollygunge',\n",
       " 'Location_Topsia',\n",
       " 'Location_Uttarpara Kotrung',\n",
       " 'Location_other']"
      ]
     },
     "execution_count": 38,
     "metadata": {},
     "output_type": "execute_result"
    }
   ],
   "source": [
    "list(selected_features.columns)"
   ]
  },
  {
   "cell_type": "code",
   "execution_count": null,
   "metadata": {},
   "outputs": [],
   "source": []
  },
  {
   "cell_type": "code",
   "execution_count": null,
   "metadata": {},
   "outputs": [],
   "source": []
  },
  {
   "cell_type": "markdown",
   "metadata": {
    "papermill": {
     "duration": 0.037666,
     "end_time": "2020-09-09T11:20:29.903530",
     "exception": false,
     "start_time": "2020-09-09T11:20:29.865864",
     "status": "completed"
    },
    "tags": []
   },
   "source": [
    "# Defining parameters for hyperparameter tuning"
   ]
  },
  {
   "cell_type": "code",
   "execution_count": 39,
   "metadata": {
    "execution": {
     "iopub.execute_input": "2020-09-09T11:20:29.989791Z",
     "iopub.status.busy": "2020-09-09T11:20:29.988837Z",
     "iopub.status.idle": "2020-09-09T11:20:29.991874Z",
     "shell.execute_reply": "2020-09-09T11:20:29.991323Z"
    },
    "papermill": {
     "duration": 0.050278,
     "end_time": "2020-09-09T11:20:29.992016",
     "exception": false,
     "start_time": "2020-09-09T11:20:29.941738",
     "status": "completed"
    },
    "tags": []
   },
   "outputs": [],
   "source": [
    "#Number of trees in random forest\n",
    "n_estimators = [int(x) for x in np.linspace(start=100, stop=1200, num=12)]\n",
    "\n",
    "#Number of features to consider in every split\n",
    "max_features = ['auto', 'sqrt']\n",
    "\n",
    "#Maximum number of levels in a tree\n",
    "max_depth = [int(x) for x in np.linspace(start=5, stop=30, num=6)]\n",
    "\n",
    "#Minimum number of samples required to split a node\n",
    "min_samples_split = [2, 5, 10, 15, 100]\n",
    "\n",
    "#Minimum number of samples required at each leaf node\n",
    "min_samples_leaf = [1, 2, 5, 10]"
   ]
  },
  {
   "cell_type": "code",
   "execution_count": 40,
   "metadata": {
    "execution": {
     "iopub.execute_input": "2020-09-09T11:20:30.075097Z",
     "iopub.status.busy": "2020-09-09T11:20:30.074352Z",
     "iopub.status.idle": "2020-09-09T11:20:30.077891Z",
     "shell.execute_reply": "2020-09-09T11:20:30.077156Z"
    },
    "papermill": {
     "duration": 0.047821,
     "end_time": "2020-09-09T11:20:30.078037",
     "exception": false,
     "start_time": "2020-09-09T11:20:30.030216",
     "status": "completed"
    },
    "tags": []
   },
   "outputs": [],
   "source": [
    "#Random Grid\n",
    "random_grid = {'n_estimators' : n_estimators,\n",
    "              'max_features' : max_features,\n",
    "              'max_depth' : max_depth,\n",
    "              'min_samples_split' : min_samples_split,\n",
    "              'min_samples_leaf' : min_samples_leaf}"
   ]
  },
  {
   "cell_type": "markdown",
   "metadata": {
    "papermill": {
     "duration": 0.038017,
     "end_time": "2020-09-09T11:20:30.154263",
     "exception": false,
     "start_time": "2020-09-09T11:20:30.116246",
     "status": "completed"
    },
    "tags": []
   },
   "source": [
    "# Model Building - Random Forest and Randomized Search CV"
   ]
  },
  {
   "cell_type": "code",
   "execution_count": 41,
   "metadata": {
    "execution": {
     "iopub.execute_input": "2020-09-09T11:20:30.241201Z",
     "iopub.status.busy": "2020-09-09T11:20:30.240067Z",
     "iopub.status.idle": "2020-09-09T12:26:42.640707Z",
     "shell.execute_reply": "2020-09-09T12:26:42.641410Z"
    },
    "papermill": {
     "duration": 3972.449163,
     "end_time": "2020-09-09T12:26:42.641611",
     "exception": false,
     "start_time": "2020-09-09T11:20:30.192448",
     "status": "completed"
    },
    "tags": []
   },
   "outputs": [
    {
     "name": "stdout",
     "output_type": "stream",
     "text": [
      "Fitting 5 folds for each of 10 candidates, totalling 50 fits\n"
     ]
    },
    {
     "name": "stdout",
     "output_type": "stream",
     "text": [
      "[CV] END max_depth=10, max_features=sqrt, min_samples_leaf=5, min_samples_split=5, n_estimators=900; total time=   2.1s\n",
      "[CV] END max_depth=10, max_features=sqrt, min_samples_leaf=5, min_samples_split=5, n_estimators=900; total time=   1.9s\n",
      "[CV] END max_depth=10, max_features=sqrt, min_samples_leaf=5, min_samples_split=5, n_estimators=900; total time=   1.9s\n",
      "[CV] END max_depth=10, max_features=sqrt, min_samples_leaf=5, min_samples_split=5, n_estimators=900; total time=   2.0s\n",
      "[CV] END max_depth=10, max_features=sqrt, min_samples_leaf=5, min_samples_split=5, n_estimators=900; total time=   2.0s\n",
      "[CV] END max_depth=15, max_features=sqrt, min_samples_leaf=2, min_samples_split=10, n_estimators=1100; total time=   3.1s\n",
      "[CV] END max_depth=15, max_features=sqrt, min_samples_leaf=2, min_samples_split=10, n_estimators=1100; total time=   3.1s\n",
      "[CV] END max_depth=15, max_features=sqrt, min_samples_leaf=2, min_samples_split=10, n_estimators=1100; total time=   3.0s\n",
      "[CV] END max_depth=15, max_features=sqrt, min_samples_leaf=2, min_samples_split=10, n_estimators=1100; total time=   3.1s\n",
      "[CV] END max_depth=15, max_features=sqrt, min_samples_leaf=2, min_samples_split=10, n_estimators=1100; total time=   3.2s\n",
      "[CV] END max_depth=15, max_features=auto, min_samples_leaf=5, min_samples_split=100, n_estimators=300; total time=   0.0s\n",
      "[CV] END max_depth=15, max_features=auto, min_samples_leaf=5, min_samples_split=100, n_estimators=300; total time=   0.0s\n",
      "[CV] END max_depth=15, max_features=auto, min_samples_leaf=5, min_samples_split=100, n_estimators=300; total time=   0.0s\n",
      "[CV] END max_depth=15, max_features=auto, min_samples_leaf=5, min_samples_split=100, n_estimators=300; total time=   0.0s\n",
      "[CV] END max_depth=15, max_features=auto, min_samples_leaf=5, min_samples_split=100, n_estimators=300; total time=   0.0s\n",
      "[CV] END max_depth=15, max_features=auto, min_samples_leaf=5, min_samples_split=5, n_estimators=400; total time=   0.0s\n",
      "[CV] END max_depth=15, max_features=auto, min_samples_leaf=5, min_samples_split=5, n_estimators=400; total time=   0.0s\n",
      "[CV] END max_depth=15, max_features=auto, min_samples_leaf=5, min_samples_split=5, n_estimators=400; total time=   0.0s\n",
      "[CV] END max_depth=15, max_features=auto, min_samples_leaf=5, min_samples_split=5, n_estimators=400; total time=   0.0s\n",
      "[CV] END max_depth=15, max_features=auto, min_samples_leaf=5, min_samples_split=5, n_estimators=400; total time=   0.0s\n",
      "[CV] END max_depth=20, max_features=auto, min_samples_leaf=10, min_samples_split=5, n_estimators=700; total time=   0.0s\n",
      "[CV] END max_depth=20, max_features=auto, min_samples_leaf=10, min_samples_split=5, n_estimators=700; total time=   0.0s\n",
      "[CV] END max_depth=20, max_features=auto, min_samples_leaf=10, min_samples_split=5, n_estimators=700; total time=   0.0s\n",
      "[CV] END max_depth=20, max_features=auto, min_samples_leaf=10, min_samples_split=5, n_estimators=700; total time=   0.0s\n",
      "[CV] END max_depth=20, max_features=auto, min_samples_leaf=10, min_samples_split=5, n_estimators=700; total time=   0.0s\n",
      "[CV] END max_depth=25, max_features=sqrt, min_samples_leaf=1, min_samples_split=2, n_estimators=1000; total time=   5.3s\n",
      "[CV] END max_depth=25, max_features=sqrt, min_samples_leaf=1, min_samples_split=2, n_estimators=1000; total time=   5.3s\n",
      "[CV] END max_depth=25, max_features=sqrt, min_samples_leaf=1, min_samples_split=2, n_estimators=1000; total time=   5.0s\n",
      "[CV] END max_depth=25, max_features=sqrt, min_samples_leaf=1, min_samples_split=2, n_estimators=1000; total time=   5.1s\n",
      "[CV] END max_depth=25, max_features=sqrt, min_samples_leaf=1, min_samples_split=2, n_estimators=1000; total time=   5.0s\n",
      "[CV] END max_depth=5, max_features=sqrt, min_samples_leaf=10, min_samples_split=15, n_estimators=1100; total time=   1.8s\n",
      "[CV] END max_depth=5, max_features=sqrt, min_samples_leaf=10, min_samples_split=15, n_estimators=1100; total time=   2.1s\n",
      "[CV] END max_depth=5, max_features=sqrt, min_samples_leaf=10, min_samples_split=15, n_estimators=1100; total time=   2.2s\n",
      "[CV] END max_depth=5, max_features=sqrt, min_samples_leaf=10, min_samples_split=15, n_estimators=1100; total time=   2.0s\n",
      "[CV] END max_depth=5, max_features=sqrt, min_samples_leaf=10, min_samples_split=15, n_estimators=1100; total time=   1.9s\n",
      "[CV] END max_depth=15, max_features=sqrt, min_samples_leaf=1, min_samples_split=15, n_estimators=300; total time=   0.9s\n",
      "[CV] END max_depth=15, max_features=sqrt, min_samples_leaf=1, min_samples_split=15, n_estimators=300; total time=   0.9s\n",
      "[CV] END max_depth=15, max_features=sqrt, min_samples_leaf=1, min_samples_split=15, n_estimators=300; total time=   0.9s\n",
      "[CV] END max_depth=15, max_features=sqrt, min_samples_leaf=1, min_samples_split=15, n_estimators=300; total time=   1.2s\n",
      "[CV] END max_depth=15, max_features=sqrt, min_samples_leaf=1, min_samples_split=15, n_estimators=300; total time=   0.8s\n",
      "[CV] END max_depth=5, max_features=sqrt, min_samples_leaf=2, min_samples_split=10, n_estimators=700; total time=   1.3s\n",
      "[CV] END max_depth=5, max_features=sqrt, min_samples_leaf=2, min_samples_split=10, n_estimators=700; total time=   1.2s\n",
      "[CV] END max_depth=5, max_features=sqrt, min_samples_leaf=2, min_samples_split=10, n_estimators=700; total time=   1.2s\n",
      "[CV] END max_depth=5, max_features=sqrt, min_samples_leaf=2, min_samples_split=10, n_estimators=700; total time=   1.1s\n",
      "[CV] END max_depth=5, max_features=sqrt, min_samples_leaf=2, min_samples_split=10, n_estimators=700; total time=   1.2s\n",
      "[CV] END max_depth=20, max_features=auto, min_samples_leaf=1, min_samples_split=15, n_estimators=700; total time=   0.0s\n",
      "[CV] END max_depth=20, max_features=auto, min_samples_leaf=1, min_samples_split=15, n_estimators=700; total time=   0.0s\n",
      "[CV] END max_depth=20, max_features=auto, min_samples_leaf=1, min_samples_split=15, n_estimators=700; total time=   0.0s\n",
      "[CV] END max_depth=20, max_features=auto, min_samples_leaf=1, min_samples_split=15, n_estimators=700; total time=   0.0s\n",
      "[CV] END max_depth=20, max_features=auto, min_samples_leaf=1, min_samples_split=15, n_estimators=700; total time=   0.0s\n"
     ]
    },
    {
     "data": {
      "text/html": [
       "<style>#sk-container-id-1 {color: black;}#sk-container-id-1 pre{padding: 0;}#sk-container-id-1 div.sk-toggleable {background-color: white;}#sk-container-id-1 label.sk-toggleable__label {cursor: pointer;display: block;width: 100%;margin-bottom: 0;padding: 0.3em;box-sizing: border-box;text-align: center;}#sk-container-id-1 label.sk-toggleable__label-arrow:before {content: \"▸\";float: left;margin-right: 0.25em;color: #696969;}#sk-container-id-1 label.sk-toggleable__label-arrow:hover:before {color: black;}#sk-container-id-1 div.sk-estimator:hover label.sk-toggleable__label-arrow:before {color: black;}#sk-container-id-1 div.sk-toggleable__content {max-height: 0;max-width: 0;overflow: hidden;text-align: left;background-color: #f0f8ff;}#sk-container-id-1 div.sk-toggleable__content pre {margin: 0.2em;color: black;border-radius: 0.25em;background-color: #f0f8ff;}#sk-container-id-1 input.sk-toggleable__control:checked~div.sk-toggleable__content {max-height: 200px;max-width: 100%;overflow: auto;}#sk-container-id-1 input.sk-toggleable__control:checked~label.sk-toggleable__label-arrow:before {content: \"▾\";}#sk-container-id-1 div.sk-estimator input.sk-toggleable__control:checked~label.sk-toggleable__label {background-color: #d4ebff;}#sk-container-id-1 div.sk-label input.sk-toggleable__control:checked~label.sk-toggleable__label {background-color: #d4ebff;}#sk-container-id-1 input.sk-hidden--visually {border: 0;clip: rect(1px 1px 1px 1px);clip: rect(1px, 1px, 1px, 1px);height: 1px;margin: -1px;overflow: hidden;padding: 0;position: absolute;width: 1px;}#sk-container-id-1 div.sk-estimator {font-family: monospace;background-color: #f0f8ff;border: 1px dotted black;border-radius: 0.25em;box-sizing: border-box;margin-bottom: 0.5em;}#sk-container-id-1 div.sk-estimator:hover {background-color: #d4ebff;}#sk-container-id-1 div.sk-parallel-item::after {content: \"\";width: 100%;border-bottom: 1px solid gray;flex-grow: 1;}#sk-container-id-1 div.sk-label:hover label.sk-toggleable__label {background-color: #d4ebff;}#sk-container-id-1 div.sk-serial::before {content: \"\";position: absolute;border-left: 1px solid gray;box-sizing: border-box;top: 0;bottom: 0;left: 50%;z-index: 0;}#sk-container-id-1 div.sk-serial {display: flex;flex-direction: column;align-items: center;background-color: white;padding-right: 0.2em;padding-left: 0.2em;position: relative;}#sk-container-id-1 div.sk-item {position: relative;z-index: 1;}#sk-container-id-1 div.sk-parallel {display: flex;align-items: stretch;justify-content: center;background-color: white;position: relative;}#sk-container-id-1 div.sk-item::before, #sk-container-id-1 div.sk-parallel-item::before {content: \"\";position: absolute;border-left: 1px solid gray;box-sizing: border-box;top: 0;bottom: 0;left: 50%;z-index: -1;}#sk-container-id-1 div.sk-parallel-item {display: flex;flex-direction: column;z-index: 1;position: relative;background-color: white;}#sk-container-id-1 div.sk-parallel-item:first-child::after {align-self: flex-end;width: 50%;}#sk-container-id-1 div.sk-parallel-item:last-child::after {align-self: flex-start;width: 50%;}#sk-container-id-1 div.sk-parallel-item:only-child::after {width: 0;}#sk-container-id-1 div.sk-dashed-wrapped {border: 1px dashed gray;margin: 0 0.4em 0.5em 0.4em;box-sizing: border-box;padding-bottom: 0.4em;background-color: white;}#sk-container-id-1 div.sk-label label {font-family: monospace;font-weight: bold;display: inline-block;line-height: 1.2em;}#sk-container-id-1 div.sk-label-container {text-align: center;}#sk-container-id-1 div.sk-container {/* jupyter's `normalize.less` sets `[hidden] { display: none; }` but bootstrap.min.css set `[hidden] { display: none !important; }` so we also need the `!important` here to be able to override the default hidden behavior on the sphinx rendered scikit-learn.org. See: https://github.com/scikit-learn/scikit-learn/issues/21755 */display: inline-block !important;position: relative;}#sk-container-id-1 div.sk-text-repr-fallback {display: none;}</style><div id=\"sk-container-id-1\" class=\"sk-top-container\"><div class=\"sk-text-repr-fallback\"><pre>RandomizedSearchCV(cv=5, estimator=RandomForestRegressor(), n_jobs=1,\n",
       "                   param_distributions={&#x27;max_depth&#x27;: [5, 10, 15, 20, 25, 30],\n",
       "                                        &#x27;max_features&#x27;: [&#x27;auto&#x27;, &#x27;sqrt&#x27;],\n",
       "                                        &#x27;min_samples_leaf&#x27;: [1, 2, 5, 10],\n",
       "                                        &#x27;min_samples_split&#x27;: [2, 5, 10, 15,\n",
       "                                                              100],\n",
       "                                        &#x27;n_estimators&#x27;: [100, 200, 300, 400,\n",
       "                                                         500, 600, 700, 800,\n",
       "                                                         900, 1000, 1100,\n",
       "                                                         1200]},\n",
       "                   random_state=42, scoring=&#x27;neg_mean_squared_error&#x27;,\n",
       "                   verbose=2)</pre><b>In a Jupyter environment, please rerun this cell to show the HTML representation or trust the notebook. <br />On GitHub, the HTML representation is unable to render, please try loading this page with nbviewer.org.</b></div><div class=\"sk-container\" hidden><div class=\"sk-item sk-dashed-wrapped\"><div class=\"sk-label-container\"><div class=\"sk-label sk-toggleable\"><input class=\"sk-toggleable__control sk-hidden--visually\" id=\"sk-estimator-id-1\" type=\"checkbox\" ><label for=\"sk-estimator-id-1\" class=\"sk-toggleable__label sk-toggleable__label-arrow\">RandomizedSearchCV</label><div class=\"sk-toggleable__content\"><pre>RandomizedSearchCV(cv=5, estimator=RandomForestRegressor(), n_jobs=1,\n",
       "                   param_distributions={&#x27;max_depth&#x27;: [5, 10, 15, 20, 25, 30],\n",
       "                                        &#x27;max_features&#x27;: [&#x27;auto&#x27;, &#x27;sqrt&#x27;],\n",
       "                                        &#x27;min_samples_leaf&#x27;: [1, 2, 5, 10],\n",
       "                                        &#x27;min_samples_split&#x27;: [2, 5, 10, 15,\n",
       "                                                              100],\n",
       "                                        &#x27;n_estimators&#x27;: [100, 200, 300, 400,\n",
       "                                                         500, 600, 700, 800,\n",
       "                                                         900, 1000, 1100,\n",
       "                                                         1200]},\n",
       "                   random_state=42, scoring=&#x27;neg_mean_squared_error&#x27;,\n",
       "                   verbose=2)</pre></div></div></div><div class=\"sk-parallel\"><div class=\"sk-parallel-item\"><div class=\"sk-item\"><div class=\"sk-label-container\"><div class=\"sk-label sk-toggleable\"><input class=\"sk-toggleable__control sk-hidden--visually\" id=\"sk-estimator-id-2\" type=\"checkbox\" ><label for=\"sk-estimator-id-2\" class=\"sk-toggleable__label sk-toggleable__label-arrow\">estimator: RandomForestRegressor</label><div class=\"sk-toggleable__content\"><pre>RandomForestRegressor()</pre></div></div></div><div class=\"sk-serial\"><div class=\"sk-item\"><div class=\"sk-estimator sk-toggleable\"><input class=\"sk-toggleable__control sk-hidden--visually\" id=\"sk-estimator-id-3\" type=\"checkbox\" ><label for=\"sk-estimator-id-3\" class=\"sk-toggleable__label sk-toggleable__label-arrow\">RandomForestRegressor</label><div class=\"sk-toggleable__content\"><pre>RandomForestRegressor()</pre></div></div></div></div></div></div></div></div></div></div>"
      ],
      "text/plain": [
       "RandomizedSearchCV(cv=5, estimator=RandomForestRegressor(), n_jobs=1,\n",
       "                   param_distributions={'max_depth': [5, 10, 15, 20, 25, 30],\n",
       "                                        'max_features': ['auto', 'sqrt'],\n",
       "                                        'min_samples_leaf': [1, 2, 5, 10],\n",
       "                                        'min_samples_split': [2, 5, 10, 15,\n",
       "                                                              100],\n",
       "                                        'n_estimators': [100, 200, 300, 400,\n",
       "                                                         500, 600, 700, 800,\n",
       "                                                         900, 1000, 1100,\n",
       "                                                         1200]},\n",
       "                   random_state=42, scoring='neg_mean_squared_error',\n",
       "                   verbose=2)"
      ]
     },
     "execution_count": 41,
     "metadata": {},
     "output_type": "execute_result"
    }
   ],
   "source": [
    "from sklearn.model_selection import RandomizedSearchCV\n",
    "from sklearn.ensemble import RandomForestRegressor\n",
    "random_forest = RandomForestRegressor()\n",
    "random_forest_model = RandomizedSearchCV(estimator=random_forest, param_distributions=random_grid, n_jobs=1, random_state=42,\n",
    "                                        cv=5, n_iter=10, verbose=2, scoring='neg_mean_squared_error')\n",
    "random_forest_model.fit(features_train, label_train)"
   ]
  },
  {
   "cell_type": "markdown",
   "metadata": {
    "papermill": {
     "duration": 0.048376,
     "end_time": "2020-09-09T12:26:42.735786",
     "exception": false,
     "start_time": "2020-09-09T12:26:42.687410",
     "status": "completed"
    },
    "tags": []
   },
   "source": [
    "# Predicitng the house prices"
   ]
  },
  {
   "cell_type": "code",
   "execution_count": 42,
   "metadata": {
    "execution": {
     "iopub.execute_input": "2020-09-09T12:26:42.849171Z",
     "iopub.status.busy": "2020-09-09T12:26:42.848203Z",
     "iopub.status.idle": "2020-09-09T12:26:43.619199Z",
     "shell.execute_reply": "2020-09-09T12:26:43.618444Z"
    },
    "papermill": {
     "duration": 0.838464,
     "end_time": "2020-09-09T12:26:43.619324",
     "exception": false,
     "start_time": "2020-09-09T12:26:42.780860",
     "status": "completed"
    },
    "tags": []
   },
   "outputs": [
    {
     "data": {
      "text/plain": [
       "array([7341629.77711082, 2924682.13455369, 4091446.10434585, ...,\n",
       "       5590746.15952876, 4176103.2914638 , 6724703.36957501])"
      ]
     },
     "execution_count": 42,
     "metadata": {},
     "output_type": "execute_result"
    }
   ],
   "source": [
    "label_pred = random_forest_model.predict(features_test)\n",
    "label_pred"
   ]
  },
  {
   "cell_type": "markdown",
   "metadata": {
    "papermill": {
     "duration": 0.044648,
     "end_time": "2020-09-09T12:26:43.708422",
     "exception": false,
     "start_time": "2020-09-09T12:26:43.663774",
     "status": "completed"
    },
    "tags": []
   },
   "source": [
    "# Evaluating the model performance"
   ]
  },
  {
   "cell_type": "code",
   "execution_count": 43,
   "metadata": {
    "execution": {
     "iopub.execute_input": "2020-09-09T12:26:43.821508Z",
     "iopub.status.busy": "2020-09-09T12:26:43.820324Z",
     "iopub.status.idle": "2020-09-09T12:26:45.489422Z",
     "shell.execute_reply": "2020-09-09T12:26:45.488636Z"
    },
    "papermill": {
     "duration": 1.735458,
     "end_time": "2020-09-09T12:26:45.489551",
     "exception": false,
     "start_time": "2020-09-09T12:26:43.754093",
     "status": "completed"
    },
    "tags": []
   },
   "outputs": [
    {
     "data": {
      "text/plain": [
       "0.9635587414285558"
      ]
     },
     "execution_count": 43,
     "metadata": {},
     "output_type": "execute_result"
    }
   ],
   "source": [
    "from sklearn.metrics import r2_score\n",
    "r2_score(label_train, random_forest_model.predict(features_train))"
   ]
  },
  {
   "cell_type": "code",
   "execution_count": 44,
   "metadata": {
    "execution": {
     "iopub.execute_input": "2020-09-09T12:26:45.586749Z",
     "iopub.status.busy": "2020-09-09T12:26:45.585932Z",
     "iopub.status.idle": "2020-09-09T12:26:47.537571Z",
     "shell.execute_reply": "2020-09-09T12:26:47.536942Z"
    },
    "papermill": {
     "duration": 2.002545,
     "end_time": "2020-09-09T12:26:47.537701",
     "exception": false,
     "start_time": "2020-09-09T12:26:45.535156",
     "status": "completed"
    },
    "tags": []
   },
   "outputs": [
    {
     "data": {
      "image/png": "[encoded data removed]",
      "text/plain": [
       "<Figure size 1200x500 with 1 Axes>"
      ]
     },
     "metadata": {},
     "output_type": "display_data"
    }
   ],
   "source": [
    "plt.figure(figsize=(12,5))\n",
    "sns.distplot(label_train-random_forest_model.predict(features_train))\n",
    "plt.show()"
   ]
  },
  {
   "cell_type": "code",
   "execution_count": 45,
   "metadata": {
    "execution": {
     "iopub.execute_input": "2020-09-09T12:26:47.650277Z",
     "iopub.status.busy": "2020-09-09T12:26:47.649481Z",
     "iopub.status.idle": "2020-09-09T12:26:48.426450Z",
     "shell.execute_reply": "2020-09-09T12:26:48.425665Z"
    },
    "papermill": {
     "duration": 0.843609,
     "end_time": "2020-09-09T12:26:48.426583",
     "exception": false,
     "start_time": "2020-09-09T12:26:47.582974",
     "status": "completed"
    },
    "tags": []
   },
   "outputs": [
    {
     "data": {
      "text/plain": [
       "0.9206110950797382"
      ]
     },
     "execution_count": 45,
     "metadata": {},
     "output_type": "execute_result"
    }
   ],
   "source": [
    "r2_score(label_test, random_forest_model.predict(features_test))"
   ]
  },
  {
   "cell_type": "code",
   "execution_count": 46,
   "metadata": {
    "execution": {
     "iopub.execute_input": "2020-09-09T12:26:48.549241Z",
     "iopub.status.busy": "2020-09-09T12:26:48.547730Z",
     "iopub.status.idle": "2020-09-09T12:26:49.617300Z",
     "shell.execute_reply": "2020-09-09T12:26:49.616649Z"
    },
    "papermill": {
     "duration": 1.145196,
     "end_time": "2020-09-09T12:26:49.617425",
     "exception": false,
     "start_time": "2020-09-09T12:26:48.472229",
     "status": "completed"
    },
    "tags": []
   },
   "outputs": [
    {
     "data": {
      "image/png": "[encoded data removed]",
      "text/plain": [
       "<Figure size 1200x500 with 1 Axes>"
      ]
     },
     "metadata": {},
     "output_type": "display_data"
    }
   ],
   "source": [
    "plt.figure(figsize=(12,5))\n",
    "sns.distplot(label_test-random_forest_model.predict(features_test))\n",
    "plt.show()"
   ]
  },
  {
   "cell_type": "code",
   "execution_count": 47,
   "metadata": {},
   "outputs": [],
   "source": [
    "#save the model to disk\n",
    "import pickle\n",
    "filename = 'kolkata_house_price_model.pkl'\n",
    "pickle.dump(random_forest_model, open(filename, 'wb'))\n",
    "\n"
   ]
  },
  {
   "cell_type": "code",
   "execution_count": null,
   "metadata": {},
   "outputs": [],
   "source": []
  }
 ],
 "metadata": {
  "kernelspec": {
   "display_name": "Python 3",
   "language": "python",
   "name": "python3"
  },
  "language_info": {
   "codemirror_mode": {
    "name": "ipython",
    "version": 3
   },
   "file_extension": ".py",
   "mimetype": "text/x-python",
   "name": "python",
   "nbconvert_exporter": "python",
   "pygments_lexer": "ipython3",
   "version": "3.12.0"
  },
  "papermill": {
   "duration": 4013.738237,
   "end_time": "2020-09-09T12:26:49.770804",
   "environment_variables": {},
   "exception": null,
   "input_path": "__notebook__.ipynb",
   "output_path": "__notebook__.ipynb",
   "parameters": {},
   "start_time": "2020-09-09T11:19:56.032567",
   "version": "2.1.0"
  }
 },
 "nbformat": 4,
 "nbformat_minor": 4
}
